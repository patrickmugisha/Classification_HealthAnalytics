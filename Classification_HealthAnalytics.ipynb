{
 "cells": [
  {
   "cell_type": "markdown",
   "metadata": {},
   "source": [
    "**Patrick Mugisha, \"On my honor, as a student, I have neither given nor received unauthorized aid on this academic work.\"**"
   ]
  },
  {
   "cell_type": "markdown",
   "metadata": {
    "colab_type": "text",
    "id": "nhJRcdRYbz28",
    "toc": true
   },
   "source": [
    "<h1>Table of Contents<span class=\"tocSkip\"></span></h1>\n",
    "<div class=\"toc\"><ul class=\"toc-item\"><li><span><a href=\"#Classification\" data-toc-modified-id=\"Classification-1\">Classification</a></span><ul class=\"toc-item\"><li><ul class=\"toc-item\"><li><span><a href=\"#Classification-vs-Regression\" data-toc-modified-id=\"Classification-vs-Regression-1.0.1\">Classification vs Regression</a></span></li></ul></li></ul></li><li><span><a href=\"#Health-Analytics\" data-toc-modified-id=\"Health-Analytics-2\">Health Analytics</a></span><ul class=\"toc-item\"><li><ul class=\"toc-item\"><li><span><a href=\"#Can-healthcare-providers-use-data-analytics-to-predict-diseases-(e.g.,-2nd-heart-attack)-and-hospital-readmission?\" data-toc-modified-id=\"Can-healthcare-providers-use-data-analytics-to-predict-diseases-(e.g.,-2nd-heart-attack)-and-hospital-readmission?-2.0.1\">Can healthcare providers use data analytics to predict diseases (e.g., 2nd heart attack) and hospital readmission?</a></span></li><li><span><a href=\"#Dataset\" data-toc-modified-id=\"Dataset-2.0.2\">Dataset</a></span></li><li><span><a href=\"#Examining-Variables\" data-toc-modified-id=\"Examining-Variables-2.0.3\">Examining Variables</a></span></li><li><span><a href=\"#1.-Import-Packages\" data-toc-modified-id=\"1.-Import-Packages-2.0.4\">1. Import Packages</a></span></li><li><span><a href=\"#2.-Loading-data\" data-toc-modified-id=\"2.-Loading-data-2.0.5\">2. Loading data</a></span></li><li><span><a href=\"#3.-Data-wrangling-&amp;-ETL:-Data-cleaningg-&amp;-transformation\" data-toc-modified-id=\"3.-Data-wrangling-&amp;-ETL:-Data-cleaningg-&amp;-transformation-2.0.6\">3. Data wrangling &amp; ETL: Data cleaningg &amp; transformation</a></span></li><li><span><a href=\"#4.-A.-Exploratory-data-analysis\" data-toc-modified-id=\"4.-A.-Exploratory-data-analysis-2.0.7\">4. A. Exploratory data analysis</a></span></li><li><span><a href=\"#4.-B.-Data-visualization-&amp;-business-intelligence\" data-toc-modified-id=\"4.-B.-Data-visualization-&amp;-business-intelligence-2.0.8\">4. B. Data visualization &amp; business intelligence</a></span></li><li><span><a href=\"#Model-Building-(Predictive/Classification-analytics)\" data-toc-modified-id=\"Model-Building-(Predictive/Classification-analytics)-2.0.9\">Model Building (Predictive/Classification analytics)</a></span><ul class=\"toc-item\"><li><span><a href=\"#Top-10-algorithms-&amp;-methods-used-by-Data-Scientists.\" data-toc-modified-id=\"Top-10-algorithms-&amp;-methods-used-by-Data-Scientists.-2.0.9.1\">Top 10 algorithms &amp; methods used by Data Scientists.</a></span></li></ul></li></ul></li></ul></li><li><span><a href=\"#Decision-Tree\" data-toc-modified-id=\"Decision-Tree-3\">Decision Tree</a></span><ul class=\"toc-item\"><li><ul class=\"toc-item\"><li><span><a href=\"#Categorical-to-Dummy-Variables\" data-toc-modified-id=\"Categorical-to-Dummy-Variables-3.0.1\">Categorical to Dummy Variables</a></span></li><li><span><a href=\"#Model-Building-&amp;-Validation\" data-toc-modified-id=\"Model-Building-&amp;-Validation-3.0.2\">Model Building &amp; Validation</a></span></li><li><span><a href=\"#Visualizing-decision-tree\" data-toc-modified-id=\"Visualizing-decision-tree-3.0.3\">Visualizing decision tree</a></span><ul class=\"toc-item\"><li><span><a href=\"#Create-a-decision-tree-(This-is-a-new-appoach-using-scikit-learn,-instead-of-other-packages)\" data-toc-modified-id=\"Create-a-decision-tree-(This-is-a-new-appoach-using-scikit-learn,-instead-of-other-packages)-3.0.3.1\">Create a decision tree (This is a new appoach using scikit-learn, instead of other packages)</a></span></li><li><span><a href=\"#Interpreting-decision-tree\" data-toc-modified-id=\"Interpreting-decision-tree-3.0.3.2\">Interpreting decision tree</a></span></li><li><span><a href=\"#What-if-your-decision-tree-looks-too-complicated-to-be-practical?\" data-toc-modified-id=\"What-if-your-decision-tree-looks-too-complicated-to-be-practical?-3.0.3.3\">What if your decision tree looks too complicated to be practical?</a></span></li></ul></li></ul></li><li><span><a href=\"#Model-Deployement:-Make-Predictions-on-the-new-dataset-(scoring-dataset)\" data-toc-modified-id=\"Model-Deployement:-Make-Predictions-on-the-new-dataset-(scoring-dataset)-3.1\">Model Deployement: Make Predictions on the new dataset (scoring dataset)</a></span></li></ul></li><li><span><a href=\"#Appendixes\" data-toc-modified-id=\"Appendixes-4\">Appendixes</a></span><ul class=\"toc-item\"><li><span><a href=\"#10-fold-cross-validation\" data-toc-modified-id=\"10-fold-cross-validation-4.1\">10 fold cross validation</a></span><ul class=\"toc-item\"><li><ul class=\"toc-item\"><li><span><a href=\"#Split-validation\" data-toc-modified-id=\"Split-validation-4.1.0.1\">Split validation</a></span></li><li><span><a href=\"#Cross-validation-(CV)-or-10-fold-CV\" data-toc-modified-id=\"Cross-validation-(CV)-or-10-fold-CV-4.1.0.2\">Cross validation (CV) or 10-fold CV</a></span></li></ul></li></ul></li><li><span><a href=\"#Random-Forest-(Ensemble-model):-Very-Important-!!!\" data-toc-modified-id=\"Random-Forest-(Ensemble-model):-Very-Important-!!!-4.2\">Random Forest (Ensemble model): Very Important !!!</a></span><ul class=\"toc-item\"><li><ul class=\"toc-item\"><li><span><a href=\"#Feature-Selection-(or-Feature-Engineering):-Selecting-important-variables\" data-toc-modified-id=\"Feature-Selection-(or-Feature-Engineering):-Selecting-important-variables-4.2.0.1\">Feature Selection (or Feature Engineering): Selecting important variables</a></span></li><li><span><a href=\"#Make-predictions-on-the-new-dataset-(scoring-dataset-without-y-value)\" data-toc-modified-id=\"Make-predictions-on-the-new-dataset-(scoring-dataset-without-y-value)-4.2.0.2\">Make predictions on the new dataset (scoring dataset without y value)</a></span></li></ul></li></ul></li><li><span><a href=\"#Model-Evaluation-with-Receiver-Operating-Characteristic-(ROC)\" data-toc-modified-id=\"Model-Evaluation-with-Receiver-Operating-Characteristic-(ROC)-4.3\">Model Evaluation with Receiver Operating Characteristic (ROC)</a></span><ul class=\"toc-item\"><li><span><a href=\"#ROC-&amp;-AUC-Score\" data-toc-modified-id=\"ROC-&amp;-AUC-Score-4.3.1\">ROC &amp; AUC Score</a></span></li><li><span><a href=\"#Examples\" data-toc-modified-id=\"Examples-4.3.2\">Examples</a></span><ul class=\"toc-item\"><li><span><a href=\"#AUC-(Area-Under-Curve),-perhaps-the-most-widely-used-measure,-is-considered-more-important-than-accuracy-(confusion-matrix)\" data-toc-modified-id=\"AUC-(Area-Under-Curve),-perhaps-the-most-widely-used-measure,-is-considered-more-important-than-accuracy-(confusion-matrix)-4.3.2.1\">AUC (Area Under Curve), perhaps the most widely used measure, is considered more important than accuracy (confusion matrix)</a></span></li></ul></li></ul></li><li><span><a href=\"#Decision-Tree-Algorithm\" data-toc-modified-id=\"Decision-Tree-Algorithm-4.4\">Decision Tree Algorithm</a></span><ul class=\"toc-item\"><li><ul class=\"toc-item\"><li><span><a href=\"#Let's-consider-another-example:\" data-toc-modified-id=\"Let's-consider-another-example:-4.4.0.1\">Let's consider another example:</a></span></li><li><span><a href=\"#How-about-this-split?\" data-toc-modified-id=\"How-about-this-split?-4.4.0.2\">How about this split?</a></span></li></ul></li></ul></li></ul></li><li><span><a href=\"#k-Nearest-Neighbor-(KNN)\" data-toc-modified-id=\"k-Nearest-Neighbor-(KNN)-5\">k-Nearest Neighbor (KNN)</a></span><ul class=\"toc-item\"><li><ul class=\"toc-item\"><li><span><a href=\"#Appendix-1:-10-fold-cross-validation\" data-toc-modified-id=\"Appendix-1:-10-fold-cross-validation-5.0.1\">Appendix 1: 10 fold cross validation</a></span></li><li><span><a href=\"#Appendix-2:-Search-for-the-optimal-k-value-(GridSearch)\" data-toc-modified-id=\"Appendix-2:-Search-for-the-optimal-k-value-(GridSearch)-5.0.2\">Appendix 2: Search for the optimal k value (GridSearch)</a></span></li><li><span><a href=\"#Appendix-3:-Model-Evaluation-with-ROC\" data-toc-modified-id=\"Appendix-3:-Model-Evaluation-with-ROC-5.0.3\">Appendix 3: Model Evaluation with ROC</a></span></li><li><span><a href=\"#Appendix-4.-Who-are-my-neighbors?-Determining-Neighbors-in-KNN\" data-toc-modified-id=\"Appendix-4.-Who-are-my-neighbors?-Determining-Neighbors-in-KNN-5.0.4\">Appendix 4. Who are my neighbors? Determining Neighbors in KNN</a></span></li></ul></li></ul></li><li><span><a href=\"#Logistic-Regression-(Scikit-Python-package)-&amp;-Logit-(statsmodels-Python-package)\" data-toc-modified-id=\"Logistic-Regression-(Scikit-Python-package)-&amp;-Logit-(statsmodels-Python-package)-6\">Logistic Regression (Scikit Python package) &amp; Logit (statsmodels Python package)</a></span><ul class=\"toc-item\"><li><span><a href=\"#What-is-logistic-regression?\" data-toc-modified-id=\"What-is-logistic-regression?-6.1\">What is logistic regression?</a></span><ul class=\"toc-item\"><li><span><a href=\"#Logistic-regression-vs-Linear-regression\" data-toc-modified-id=\"Logistic-regression-vs-Linear-regression-6.1.1\">Logistic regression vs Linear regression</a></span></li><li><span><a href=\"#Modely-Deployment-:-Make-Predictions-on-the-new-data\" data-toc-modified-id=\"Modely-Deployment-:-Make-Predictions-on-the-new-data-6.1.2\">Modely Deployment : Make Predictions on the new data</a></span></li><li><span><a href=\"#Appendix-1:-10-fold-cross-validation\" data-toc-modified-id=\"Appendix-1:-10-fold-cross-validation-6.1.3\">Appendix 1: 10 fold cross validation</a></span></li><li><span><a href=\"#Appendix-2:-Model-Evaluation-with-ROC\" data-toc-modified-id=\"Appendix-2:-Model-Evaluation-with-ROC-6.1.4\">Appendix 2: Model Evaluation with ROC</a></span></li><li><span><a href=\"#Appendix-3.-Logit-with-Statsmodels\" data-toc-modified-id=\"Appendix-3.-Logit-with-Statsmodels-6.1.5\">Appendix 3. Logit with Statsmodels</a></span></li></ul></li><li><span><a href=\"#Logit\" data-toc-modified-id=\"Logit-6.2\">Logit</a></span></li></ul></li><li><span><a href=\"#Compare-Algorithms\" data-toc-modified-id=\"Compare-Algorithms-7\">Compare Algorithms</a></span></li><li><span><a href=\"#References\" data-toc-modified-id=\"References-8\">References</a></span></li></ul></div>"
   ]
  },
  {
   "cell_type": "markdown",
   "metadata": {},
   "source": [
    "<center>Now, we will learn <b>model building / evaluation / deployment</b></center>\n",
    "\n",
    "<img src=\"https://upload.wikimedia.org/wikipedia/commons/b/b9/CRISP-DM_Process_Diagram.png\" width = 600>"
   ]
  },
  {
   "cell_type": "markdown",
   "metadata": {
    "colab_type": "text",
    "id": "lhD5upyFbz2_"
   },
   "source": [
    "# Classification "
   ]
  },
  {
   "cell_type": "markdown",
   "metadata": {
    "colab_type": "text",
    "id": "-lCnbJAfbz3B"
   },
   "source": [
    "<img src = \"images\\machinelearning.gif\">\n",
    "<img src=\"images\\ppt\\slide2.gif\">\n",
    "<img src=\"https://nyghtowlblog.files.wordpress.com/2014/04/ml_algorithms.png?w=535&h=311\">\n",
    "<img src=\"http://scikit-learn.org/stable/_static/ml_map.png\">\n",
    "* http://scikit-learn.org/stable/"
   ]
  },
  {
   "cell_type": "markdown",
   "metadata": {
    "colab_type": "text",
    "collapsed": true,
    "id": "OF29QHI9bz3C"
   },
   "source": [
    "### Classification vs Regression\n",
    "* Regression is about finding a liner or nonliner function, which **fits** well with the dataset\n",
    "* Classification is about finding a liner or nonliner function, which **separates** different classes (e.g., good/bad, yes/no, pass/fail, admission/rejection) in y value\n",
    "<img src=\"https://searchengineland.com/figz/wp-content/seloads/2016/07/class-regress.png\">\n",
    "\n",
    "https://searchengineland.com/figz/wp-content/seloads/2016/07/class-regress.png"
   ]
  },
  {
   "cell_type": "markdown",
   "metadata": {
    "colab_type": "text",
    "id": "5vn9iS7ibz3D"
   },
   "source": [
    "# Health Analytics\n",
    "- The application of data mining (machine learning & statistical testing) to different type of healthcare problems and datasets"
   ]
  },
  {
   "cell_type": "code",
   "execution_count": 1,
   "metadata": {
    "colab": {},
    "colab_type": "code",
    "id": "odkYj-jjbz3D"
   },
   "outputs": [
    {
     "data": {
      "image/jpeg": "[encoded data removed]",
      "text/html": [
       "\n",
       "        <iframe\n",
       "            width=\"400\"\n",
       "            height=\"300\"\n",
       "            src=\"https://www.youtube.com/embed/blQa6srwn-A\"\n",
       "            frameborder=\"0\"\n",
       "            allowfullscreen\n",
       "        ></iframe>\n",
       "        "
      ],
      "text/plain": [
       "<IPython.lib.display.YouTubeVideo at 0x243745e53d0>"
      ]
     },
     "execution_count": 1,
     "metadata": {},
     "output_type": "execute_result"
    }
   ],
   "source": [
    "from IPython.display import YouTubeVideo\n",
    "YouTubeVideo('blQa6srwn-A')"
   ]
  },
  {
   "cell_type": "markdown",
   "metadata": {
    "colab_type": "text",
    "id": "ajW4VhD9bz3F"
   },
   "source": [
    "### Can healthcare providers use data analytics to predict diseases (e.g., 2nd heart attack) and hospital readmission?"
   ]
  },
  {
   "cell_type": "markdown",
   "metadata": {
    "colab_type": "text",
    "collapsed": true,
    "id": "JmHmU1xAbz3G"
   },
   "source": [
    "### Dataset\n",
    "Source: Data Mining for the Masses by Matthew North\n",
    "    \n",
    "Sonia has access to the company's medical claims database. \n",
    "With this access, she is able to generate two data sets for us. \n",
    "This first is a list of people who have suffered heart attacks, \n",
    "with an attribute indicating whether or not they have had more than one; \n",
    "and the second is a list of those who have had a first heart attack, but not a second. \n",
    "The former data set, comprised of 138 observations, will serve as our training data; while the latter, \n",
    "comprised of 690 peoples' data, will be for scoring. \n",
    "Sonia's hope is to help this latter group of people avoid becoming second heart attack victims. \n",
    "\n",
    "In compiling the two data sets we have defined the following attributes: \n",
    "\n",
    "* **Age**: The age in years of the person, rounded to the nearest whole year. \n",
    "* **Marital_Status**: The person's current marital status, indicated by a coded number: **0'Single, never married; 1'Married; 2'Divorced; 3'Widowed** \n",
    "* **Gender**: The person's gender: **0 for female; 1 for male**. \n",
    "* **Weight_Category**: The person's weight categorized into one of three levels: **0 for normal weight range; 1 for overweight; and 2 for obese** \n",
    "* **Cholesterol**: The person's cholesterol level, as recorded at the time of their treatment for their most recent heart attack (their only heart attack, in the case of those individuals in the scoring data set. \n",
    "* **Stress_Management**: A binary attribute indicating whether or not the person has previously attended a stress management course: **0 for no; 1 for yes**. \n",
    "* **Trait_Anxiety**: A score on a scale of **0 to 100** measuring the level of each person's natural stress levels and abilities to cope with stress. A short time after each person in each of the two data sets had recovered from their first heart attack, they were administered a standard test of natural anxiety. Their scores are tabulated and recorded in this attribute along five point increments. A score of 0 would indicate that the person never feels anxiety, pressure or stress in any situation, while a score of 100 would indicate that the person lives in a constant state of being overwhelmed and unable to deal with his or her circumstances. \n",
    "* **2nd_Heart_Attack**: This attribute exists only in the training data set. It will be our label, the prediction or target attribute. In the training data set, the attribute is set to **'yes'** for individuals who have suffered second heart attacks, and **'no'** for those who have not.       \n",
    "\n",
    "### Examining Variables\n",
    "\n",
    "- X (independent) variables\" Age, Martial_Status, Gender, Weight_category, Cholesterol, Stress_Management, Trait_Anxiety\n",
    "- y variable: 2nd_Heart_Attack\n",
    "\n",
    "<space>\n",
    "\n",
    "- Numerical X columns: Age, Cholesterol, Trait_Anxiety\n",
    "- Categorical X columns; Martial_Status, Gender, Weight_category, Stress_Management --> **Categorical variables need to be transformed to dummy variables before building a machine learning model** \n"
   ]
  },
  {
   "cell_type": "markdown",
   "metadata": {},
   "source": [
    "### 1. Import Packages"
   ]
  },
  {
   "cell_type": "code",
   "execution_count": 2,
   "metadata": {},
   "outputs": [
    {
     "name": "stdout",
     "output_type": "stream",
     "text": [
      "The scikit-learn version is 0.23.2.\n"
     ]
    }
   ],
   "source": [
    "# first check what version of sklearn is running in your machine.\n",
    "import sklearn\n",
    "print('The scikit-learn version is {}.'.format(sklearn.__version__))\n",
    "\n",
    "# run the latest sklearn"
   ]
  },
  {
   "cell_type": "code",
   "execution_count": 3,
   "metadata": {
    "colab": {},
    "colab_type": "code",
    "id": "ua-9aA5rbz3H"
   },
   "outputs": [],
   "source": [
    "import numpy as np\n",
    "import pandas as pd\n",
    "import matplotlib.pyplot as plt\n",
    "import seaborn as sns\n",
    "%matplotlib inline\n",
    "\n",
    "# Classifiers\n",
    "#import decisiontreeclassifier\n",
    "from sklearn import tree\n",
    "from sklearn.tree import export_text\n",
    "from sklearn.tree import DecisionTreeClassifier\n",
    "#import logisticregression classifier\n",
    "from sklearn.linear_model import LogisticRegression\n",
    "import statsmodels.api as sm\n",
    "#import knn classifier\n",
    "from sklearn.neighbors import KNeighborsClassifier\n",
    "\n",
    "#for validating your classification model\n",
    "from sklearn.model_selection import train_test_split\n",
    "from sklearn.model_selection import cross_val_score\n",
    "from sklearn import metrics\n",
    "from sklearn.metrics import roc_curve, auc\n",
    "from sklearn.metrics import roc_auc_score\n",
    "\n",
    "# feature selection\n",
    "from sklearn.feature_selection import RFE\n",
    "from sklearn.ensemble import ExtraTreesClassifier\n",
    "from sklearn.feature_selection import SelectKBest\n",
    "from sklearn.feature_selection import chi2\n",
    "\n",
    "# grid search\n",
    "from sklearn.model_selection import GridSearchCV"
   ]
  },
  {
   "cell_type": "markdown",
   "metadata": {
    "colab_type": "text",
    "id": "Z24oaJgEbz3I"
   },
   "source": [
    "### 2. Loading data"
   ]
  },
  {
   "cell_type": "code",
   "execution_count": 4,
   "metadata": {
    "colab": {},
    "colab_type": "code",
    "id": "R29mNdoQbz3J",
    "scrolled": true
   },
   "outputs": [
    {
     "name": "stdout",
     "output_type": "stream",
     "text": [
      "   Age  Marital_Status  Gender  Weight_Category  Cholesterol  \\\n",
      "0   60               2       0                1          150   \n",
      "1   69               2       1                1          170   \n",
      "2   52               1       0                0          174   \n",
      "3   66               2       1                1          169   \n",
      "4   70               3       0                1          237   \n",
      "\n",
      "   Stress_Management  Trait_Anxiety 2nd_Heart_Attack  \n",
      "0                  1             50              Yes  \n",
      "1                  0             60              Yes  \n",
      "2                  1             35               No  \n",
      "3                  0             60              Yes  \n",
      "4                  0             65              Yes  \n"
     ]
    }
   ],
   "source": [
    "df=pd.read_csv(\"data/heartattack_train.csv\")\n",
    "print(df.head())"
   ]
  },
  {
   "cell_type": "code",
   "execution_count": 5,
   "metadata": {
    "colab": {},
    "colab_type": "code",
    "id": "K3oq2N16bz3L"
   },
   "outputs": [
    {
     "name": "stdout",
     "output_type": "stream",
     "text": [
      "<class 'pandas.core.frame.DataFrame'>\n",
      "RangeIndex: 138 entries, 0 to 137\n",
      "Data columns (total 8 columns):\n",
      " #   Column             Non-Null Count  Dtype \n",
      "---  ------             --------------  ----- \n",
      " 0   Age                138 non-null    int64 \n",
      " 1   Marital_Status     138 non-null    int64 \n",
      " 2   Gender             138 non-null    int64 \n",
      " 3   Weight_Category    138 non-null    int64 \n",
      " 4   Cholesterol        138 non-null    int64 \n",
      " 5   Stress_Management  138 non-null    int64 \n",
      " 6   Trait_Anxiety      138 non-null    int64 \n",
      " 7   2nd_Heart_Attack   138 non-null    object\n",
      "dtypes: int64(7), object(1)\n",
      "memory usage: 8.8+ KB\n"
     ]
    }
   ],
   "source": [
    "df.info()\n",
    "#no missing values"
   ]
  },
  {
   "cell_type": "code",
   "execution_count": 6,
   "metadata": {},
   "outputs": [
    {
     "data": {
      "text/plain": [
       "No     0.507246\n",
       "Yes    0.492754\n",
       "Name: 2nd_Heart_Attack, dtype: float64"
      ]
     },
     "execution_count": 6,
     "metadata": {},
     "output_type": "execute_result"
    }
   ],
   "source": [
    "# How likely someone has 2nd heart attack?\n",
    "\n",
    "df['2nd_Heart_Attack'].value_counts() / len(df)"
   ]
  },
  {
   "cell_type": "code",
   "execution_count": 7,
   "metadata": {},
   "outputs": [
    {
     "data": {
      "image/png": "[encoded data removed]",
      "text/plain": [
       "<Figure size 432x288 with 1 Axes>"
      ]
     },
     "metadata": {
      "needs_background": "light"
     },
     "output_type": "display_data"
    }
   ],
   "source": [
    "(df['2nd_Heart_Attack'].value_counts() / len(df)).plot(kind='bar');"
   ]
  },
  {
   "cell_type": "code",
   "execution_count": 8,
   "metadata": {},
   "outputs": [
    {
     "data": {
      "image/png": "[encoded data removed]",
      "text/plain": [
       "<Figure size 432x288 with 1 Axes>"
      ]
     },
     "metadata": {
      "needs_background": "light"
     },
     "output_type": "display_data"
    }
   ],
   "source": [
    "s = (df['2nd_Heart_Attack'].value_counts() / len(df))\n",
    "ax = s.plot(kind='barh') \n",
    "[ax.text(v, i, '{:.2f}%'.format(100*v)) for i, v in enumerate(s)];"
   ]
  },
  {
   "cell_type": "markdown",
   "metadata": {
    "colab_type": "text",
    "id": "ccQ2Nt1kbz3N"
   },
   "source": [
    "### 3. Data wrangling & ETL: Data cleaningg & transformation"
   ]
  },
  {
   "cell_type": "code",
   "execution_count": 9,
   "metadata": {
    "colab": {},
    "colab_type": "code",
    "id": "abOljtqnbz3N"
   },
   "outputs": [],
   "source": [
    "#mappling or replacing\n",
    "df = df.replace({'2nd_Heart_Attack': 'No'}, {'2nd_Heart_Attack': '0'})\n",
    "df = df.replace({'2nd_Heart_Attack': 'Yes'}, {'2nd_Heart_Attack': '1'})"
   ]
  },
  {
   "cell_type": "code",
   "execution_count": 10,
   "metadata": {
    "colab": {},
    "colab_type": "code",
    "id": "umhv0cB4bz3P"
   },
   "outputs": [
    {
     "name": "stdout",
     "output_type": "stream",
     "text": [
      "<class 'pandas.core.frame.DataFrame'>\n",
      "RangeIndex: 138 entries, 0 to 137\n",
      "Data columns (total 8 columns):\n",
      " #   Column             Non-Null Count  Dtype \n",
      "---  ------             --------------  ----- \n",
      " 0   Age                138 non-null    int64 \n",
      " 1   Marital_Status     138 non-null    int64 \n",
      " 2   Gender             138 non-null    int64 \n",
      " 3   Weight_Category    138 non-null    int64 \n",
      " 4   Cholesterol        138 non-null    int64 \n",
      " 5   Stress_Management  138 non-null    int64 \n",
      " 6   Trait_Anxiety      138 non-null    int64 \n",
      " 7   2nd_Heart_Attack   138 non-null    object\n",
      "dtypes: int64(7), object(1)\n",
      "memory usage: 8.8+ KB\n"
     ]
    }
   ],
   "source": [
    "df.info()\n",
    "#2nd heart attack is still treated as object or string"
   ]
  },
  {
   "cell_type": "code",
   "execution_count": 11,
   "metadata": {
    "colab": {},
    "colab_type": "code",
    "id": "GS29qEbDbz3R"
   },
   "outputs": [
    {
     "name": "stdout",
     "output_type": "stream",
     "text": [
      "Age                  int64\n",
      "Marital_Status       int64\n",
      "Gender               int64\n",
      "Weight_Category      int64\n",
      "Cholesterol          int64\n",
      "Stress_Management    int64\n",
      "Trait_Anxiety        int64\n",
      "2nd_Heart_Attack     int32\n",
      "dtype: object\n"
     ]
    }
   ],
   "source": [
    "#or you can do this to convert object to number\n",
    "df['2nd_Heart_Attack'] = df['2nd_Heart_Attack'].astype(int)\n",
    "print(df.dtypes)"
   ]
  },
  {
   "cell_type": "raw",
   "metadata": {
    "colab_type": "raw",
    "id": "h_EGKYc3bz3T"
   },
   "source": [
    "# another option\n",
    "df['2nd_Heart_Attack'] = pd.to_numeric(df['2nd_Heart_Attack'])\n",
    "df.info()"
   ]
  },
  {
   "cell_type": "markdown",
   "metadata": {
    "colab_type": "text",
    "id": "Me4BZcxtbz3U"
   },
   "source": [
    "### 4. A. Exploratory data analysis"
   ]
  },
  {
   "cell_type": "code",
   "execution_count": 12,
   "metadata": {
    "colab": {},
    "colab_type": "code",
    "id": "r7qo4alabz3V"
   },
   "outputs": [
    {
     "data": {
      "text/html": [
       "<div>\n",
       "<style scoped>\n",
       "    .dataframe tbody tr th:only-of-type {\n",
       "        vertical-align: middle;\n",
       "    }\n",
       "\n",
       "    .dataframe tbody tr th {\n",
       "        vertical-align: top;\n",
       "    }\n",
       "\n",
       "    .dataframe thead th {\n",
       "        text-align: right;\n",
       "    }\n",
       "</style>\n",
       "<table border=\"1\" class=\"dataframe\">\n",
       "  <thead>\n",
       "    <tr style=\"text-align: right;\">\n",
       "      <th></th>\n",
       "      <th>Age</th>\n",
       "      <th>Marital_Status</th>\n",
       "      <th>Gender</th>\n",
       "      <th>Weight_Category</th>\n",
       "      <th>Cholesterol</th>\n",
       "      <th>Stress_Management</th>\n",
       "      <th>Trait_Anxiety</th>\n",
       "      <th>2nd_Heart_Attack</th>\n",
       "    </tr>\n",
       "  </thead>\n",
       "  <tbody>\n",
       "    <tr>\n",
       "      <th>count</th>\n",
       "      <td>138.000000</td>\n",
       "      <td>138.000000</td>\n",
       "      <td>138.000000</td>\n",
       "      <td>138.000000</td>\n",
       "      <td>138.000000</td>\n",
       "      <td>138.000000</td>\n",
       "      <td>138.000000</td>\n",
       "      <td>138.000000</td>\n",
       "    </tr>\n",
       "    <tr>\n",
       "      <th>mean</th>\n",
       "      <td>62.978261</td>\n",
       "      <td>1.695652</td>\n",
       "      <td>0.623188</td>\n",
       "      <td>0.920290</td>\n",
       "      <td>177.391304</td>\n",
       "      <td>0.442029</td>\n",
       "      <td>55.434783</td>\n",
       "      <td>0.492754</td>\n",
       "    </tr>\n",
       "    <tr>\n",
       "      <th>std</th>\n",
       "      <td>7.853092</td>\n",
       "      <td>0.824875</td>\n",
       "      <td>0.486352</td>\n",
       "      <td>0.764749</td>\n",
       "      <td>32.262707</td>\n",
       "      <td>0.498437</td>\n",
       "      <td>12.373126</td>\n",
       "      <td>0.501769</td>\n",
       "    </tr>\n",
       "    <tr>\n",
       "      <th>min</th>\n",
       "      <td>42.000000</td>\n",
       "      <td>0.000000</td>\n",
       "      <td>0.000000</td>\n",
       "      <td>0.000000</td>\n",
       "      <td>122.000000</td>\n",
       "      <td>0.000000</td>\n",
       "      <td>35.000000</td>\n",
       "      <td>0.000000</td>\n",
       "    </tr>\n",
       "    <tr>\n",
       "      <th>25%</th>\n",
       "      <td>58.000000</td>\n",
       "      <td>1.000000</td>\n",
       "      <td>0.000000</td>\n",
       "      <td>0.000000</td>\n",
       "      <td>161.000000</td>\n",
       "      <td>0.000000</td>\n",
       "      <td>45.000000</td>\n",
       "      <td>0.000000</td>\n",
       "    </tr>\n",
       "    <tr>\n",
       "      <th>50%</th>\n",
       "      <td>63.000000</td>\n",
       "      <td>2.000000</td>\n",
       "      <td>1.000000</td>\n",
       "      <td>1.000000</td>\n",
       "      <td>172.000000</td>\n",
       "      <td>0.000000</td>\n",
       "      <td>55.000000</td>\n",
       "      <td>0.000000</td>\n",
       "    </tr>\n",
       "    <tr>\n",
       "      <th>75%</th>\n",
       "      <td>69.000000</td>\n",
       "      <td>2.000000</td>\n",
       "      <td>1.000000</td>\n",
       "      <td>1.750000</td>\n",
       "      <td>188.750000</td>\n",
       "      <td>1.000000</td>\n",
       "      <td>60.000000</td>\n",
       "      <td>1.000000</td>\n",
       "    </tr>\n",
       "    <tr>\n",
       "      <th>max</th>\n",
       "      <td>81.000000</td>\n",
       "      <td>3.000000</td>\n",
       "      <td>1.000000</td>\n",
       "      <td>2.000000</td>\n",
       "      <td>239.000000</td>\n",
       "      <td>1.000000</td>\n",
       "      <td>80.000000</td>\n",
       "      <td>1.000000</td>\n",
       "    </tr>\n",
       "  </tbody>\n",
       "</table>\n",
       "</div>"
      ],
      "text/plain": [
       "              Age  Marital_Status      Gender  Weight_Category  Cholesterol  \\\n",
       "count  138.000000      138.000000  138.000000       138.000000   138.000000   \n",
       "mean    62.978261        1.695652    0.623188         0.920290   177.391304   \n",
       "std      7.853092        0.824875    0.486352         0.764749    32.262707   \n",
       "min     42.000000        0.000000    0.000000         0.000000   122.000000   \n",
       "25%     58.000000        1.000000    0.000000         0.000000   161.000000   \n",
       "50%     63.000000        2.000000    1.000000         1.000000   172.000000   \n",
       "75%     69.000000        2.000000    1.000000         1.750000   188.750000   \n",
       "max     81.000000        3.000000    1.000000         2.000000   239.000000   \n",
       "\n",
       "       Stress_Management  Trait_Anxiety  2nd_Heart_Attack  \n",
       "count         138.000000     138.000000        138.000000  \n",
       "mean            0.442029      55.434783          0.492754  \n",
       "std             0.498437      12.373126          0.501769  \n",
       "min             0.000000      35.000000          0.000000  \n",
       "25%             0.000000      45.000000          0.000000  \n",
       "50%             0.000000      55.000000          0.000000  \n",
       "75%             1.000000      60.000000          1.000000  \n",
       "max             1.000000      80.000000          1.000000  "
      ]
     },
     "execution_count": 12,
     "metadata": {},
     "output_type": "execute_result"
    }
   ],
   "source": [
    "# basic statistics\n",
    "df.describe()"
   ]
  },
  {
   "cell_type": "code",
   "execution_count": 13,
   "metadata": {
    "colab": {},
    "colab_type": "code",
    "id": "rzbUdp1Kbz3X"
   },
   "outputs": [
    {
     "data": {
      "text/html": [
       "<div>\n",
       "<style scoped>\n",
       "    .dataframe tbody tr th:only-of-type {\n",
       "        vertical-align: middle;\n",
       "    }\n",
       "\n",
       "    .dataframe tbody tr th {\n",
       "        vertical-align: top;\n",
       "    }\n",
       "\n",
       "    .dataframe thead th {\n",
       "        text-align: right;\n",
       "    }\n",
       "</style>\n",
       "<table border=\"1\" class=\"dataframe\">\n",
       "  <thead>\n",
       "    <tr style=\"text-align: right;\">\n",
       "      <th></th>\n",
       "      <th>Age</th>\n",
       "      <th>Marital_Status</th>\n",
       "      <th>Gender</th>\n",
       "      <th>Weight_Category</th>\n",
       "      <th>Cholesterol</th>\n",
       "      <th>Stress_Management</th>\n",
       "      <th>Trait_Anxiety</th>\n",
       "      <th>2nd_Heart_Attack</th>\n",
       "    </tr>\n",
       "  </thead>\n",
       "  <tbody>\n",
       "    <tr>\n",
       "      <th>Age</th>\n",
       "      <td>1.000000</td>\n",
       "      <td>0.427159</td>\n",
       "      <td>0.076195</td>\n",
       "      <td>0.402007</td>\n",
       "      <td>0.395331</td>\n",
       "      <td>-0.359295</td>\n",
       "      <td>0.667169</td>\n",
       "      <td>0.499182</td>\n",
       "    </tr>\n",
       "    <tr>\n",
       "      <th>Marital_Status</th>\n",
       "      <td>0.427159</td>\n",
       "      <td>1.000000</td>\n",
       "      <td>-0.033225</td>\n",
       "      <td>0.065402</td>\n",
       "      <td>0.273574</td>\n",
       "      <td>-0.291773</td>\n",
       "      <td>0.238340</td>\n",
       "      <td>0.364978</td>\n",
       "    </tr>\n",
       "    <tr>\n",
       "      <th>Gender</th>\n",
       "      <td>0.076195</td>\n",
       "      <td>-0.033225</td>\n",
       "      <td>1.000000</td>\n",
       "      <td>0.448531</td>\n",
       "      <td>0.191354</td>\n",
       "      <td>-0.241320</td>\n",
       "      <td>0.082007</td>\n",
       "      <td>0.317746</td>\n",
       "    </tr>\n",
       "    <tr>\n",
       "      <th>Weight_Category</th>\n",
       "      <td>0.402007</td>\n",
       "      <td>0.065402</td>\n",
       "      <td>0.448531</td>\n",
       "      <td>1.000000</td>\n",
       "      <td>0.397702</td>\n",
       "      <td>-0.347322</td>\n",
       "      <td>0.501244</td>\n",
       "      <td>0.730832</td>\n",
       "    </tr>\n",
       "    <tr>\n",
       "      <th>Cholesterol</th>\n",
       "      <td>0.395331</td>\n",
       "      <td>0.273574</td>\n",
       "      <td>0.191354</td>\n",
       "      <td>0.397702</td>\n",
       "      <td>1.000000</td>\n",
       "      <td>-0.405735</td>\n",
       "      <td>0.579485</td>\n",
       "      <td>0.506531</td>\n",
       "    </tr>\n",
       "    <tr>\n",
       "      <th>Stress_Management</th>\n",
       "      <td>-0.359295</td>\n",
       "      <td>-0.291773</td>\n",
       "      <td>-0.241320</td>\n",
       "      <td>-0.347322</td>\n",
       "      <td>-0.405735</td>\n",
       "      <td>1.000000</td>\n",
       "      <td>-0.321362</td>\n",
       "      <td>-0.439473</td>\n",
       "    </tr>\n",
       "    <tr>\n",
       "      <th>Trait_Anxiety</th>\n",
       "      <td>0.667169</td>\n",
       "      <td>0.238340</td>\n",
       "      <td>0.082007</td>\n",
       "      <td>0.501244</td>\n",
       "      <td>0.579485</td>\n",
       "      <td>-0.321362</td>\n",
       "      <td>1.000000</td>\n",
       "      <td>0.482548</td>\n",
       "    </tr>\n",
       "    <tr>\n",
       "      <th>2nd_Heart_Attack</th>\n",
       "      <td>0.499182</td>\n",
       "      <td>0.364978</td>\n",
       "      <td>0.317746</td>\n",
       "      <td>0.730832</td>\n",
       "      <td>0.506531</td>\n",
       "      <td>-0.439473</td>\n",
       "      <td>0.482548</td>\n",
       "      <td>1.000000</td>\n",
       "    </tr>\n",
       "  </tbody>\n",
       "</table>\n",
       "</div>"
      ],
      "text/plain": [
       "                        Age  Marital_Status    Gender  Weight_Category  \\\n",
       "Age                1.000000        0.427159  0.076195         0.402007   \n",
       "Marital_Status     0.427159        1.000000 -0.033225         0.065402   \n",
       "Gender             0.076195       -0.033225  1.000000         0.448531   \n",
       "Weight_Category    0.402007        0.065402  0.448531         1.000000   \n",
       "Cholesterol        0.395331        0.273574  0.191354         0.397702   \n",
       "Stress_Management -0.359295       -0.291773 -0.241320        -0.347322   \n",
       "Trait_Anxiety      0.667169        0.238340  0.082007         0.501244   \n",
       "2nd_Heart_Attack   0.499182        0.364978  0.317746         0.730832   \n",
       "\n",
       "                   Cholesterol  Stress_Management  Trait_Anxiety  \\\n",
       "Age                   0.395331          -0.359295       0.667169   \n",
       "Marital_Status        0.273574          -0.291773       0.238340   \n",
       "Gender                0.191354          -0.241320       0.082007   \n",
       "Weight_Category       0.397702          -0.347322       0.501244   \n",
       "Cholesterol           1.000000          -0.405735       0.579485   \n",
       "Stress_Management    -0.405735           1.000000      -0.321362   \n",
       "Trait_Anxiety         0.579485          -0.321362       1.000000   \n",
       "2nd_Heart_Attack      0.506531          -0.439473       0.482548   \n",
       "\n",
       "                   2nd_Heart_Attack  \n",
       "Age                        0.499182  \n",
       "Marital_Status             0.364978  \n",
       "Gender                     0.317746  \n",
       "Weight_Category            0.730832  \n",
       "Cholesterol                0.506531  \n",
       "Stress_Management         -0.439473  \n",
       "Trait_Anxiety              0.482548  \n",
       "2nd_Heart_Attack           1.000000  "
      ]
     },
     "execution_count": 13,
     "metadata": {},
     "output_type": "execute_result"
    }
   ],
   "source": [
    "# correlation analysis\n",
    "df.corr()"
   ]
  },
  {
   "cell_type": "code",
   "execution_count": 14,
   "metadata": {
    "colab": {},
    "colab_type": "code",
    "id": "BqltNaIDbz3Y"
   },
   "outputs": [
    {
     "data": {
      "text/html": [
       "<div>\n",
       "<style scoped>\n",
       "    .dataframe tbody tr th:only-of-type {\n",
       "        vertical-align: middle;\n",
       "    }\n",
       "\n",
       "    .dataframe tbody tr th {\n",
       "        vertical-align: top;\n",
       "    }\n",
       "\n",
       "    .dataframe thead th {\n",
       "        text-align: right;\n",
       "    }\n",
       "</style>\n",
       "<table border=\"1\" class=\"dataframe\">\n",
       "  <thead>\n",
       "    <tr style=\"text-align: right;\">\n",
       "      <th></th>\n",
       "      <th>2nd_Heart_Attack</th>\n",
       "    </tr>\n",
       "  </thead>\n",
       "  <tbody>\n",
       "    <tr>\n",
       "      <th>Weight_Category</th>\n",
       "      <td>0.730832</td>\n",
       "    </tr>\n",
       "    <tr>\n",
       "      <th>Cholesterol</th>\n",
       "      <td>0.506531</td>\n",
       "    </tr>\n",
       "    <tr>\n",
       "      <th>Age</th>\n",
       "      <td>0.499182</td>\n",
       "    </tr>\n",
       "    <tr>\n",
       "      <th>Trait_Anxiety</th>\n",
       "      <td>0.482548</td>\n",
       "    </tr>\n",
       "    <tr>\n",
       "      <th>Marital_Status</th>\n",
       "      <td>0.364978</td>\n",
       "    </tr>\n",
       "    <tr>\n",
       "      <th>Gender</th>\n",
       "      <td>0.317746</td>\n",
       "    </tr>\n",
       "    <tr>\n",
       "      <th>Stress_Management</th>\n",
       "      <td>-0.439473</td>\n",
       "    </tr>\n",
       "  </tbody>\n",
       "</table>\n",
       "</div>"
      ],
      "text/plain": [
       "                   2nd_Heart_Attack\n",
       "Weight_Category            0.730832\n",
       "Cholesterol                0.506531\n",
       "Age                        0.499182\n",
       "Trait_Anxiety              0.482548\n",
       "Marital_Status             0.364978\n",
       "Gender                     0.317746\n",
       "Stress_Management         -0.439473"
      ]
     },
     "execution_count": 14,
     "metadata": {},
     "output_type": "execute_result"
    }
   ],
   "source": [
    "corr = pd.DataFrame(df.corr()['2nd_Heart_Attack'].drop('2nd_Heart_Attack'))\n",
    "corr.sort_values(['2nd_Heart_Attack'], ascending = False)"
   ]
  },
  {
   "cell_type": "code",
   "execution_count": 15,
   "metadata": {
    "colab": {},
    "colab_type": "code",
    "id": "lr33nu1jbz3a"
   },
   "outputs": [
    {
     "data": {
      "text/plain": [
       "<AxesSubplot:>"
      ]
     },
     "execution_count": 15,
     "metadata": {},
     "output_type": "execute_result"
    },
    {
     "data": {
      "image/png": "[encoded data removed]",
      "text/plain": [
       "<Figure size 576x576 with 2 Axes>"
      ]
     },
     "metadata": {
      "needs_background": "light"
     },
     "output_type": "display_data"
    }
   ],
   "source": [
    "# heatmap for correlation\n",
    "plt.figure(figsize=(8,8))\n",
    "sns.heatmap(df.corr(), annot=True)"
   ]
  },
  {
   "cell_type": "code",
   "execution_count": 16,
   "metadata": {
    "colab": {},
    "colab_type": "code",
    "id": "WcA5wseAbz3c"
   },
   "outputs": [
    {
     "data": {
      "text/plain": [
       "<seaborn.matrix.ClusterGrid at 0x2437adbf790>"
      ]
     },
     "execution_count": 16,
     "metadata": {},
     "output_type": "execute_result"
    },
    {
     "data": {
      "image/png": "[encoded data removed]",
      "text/plain": [
       "<Figure size 720x720 with 4 Axes>"
      ]
     },
     "metadata": {
      "needs_background": "light"
     },
     "output_type": "display_data"
    }
   ],
   "source": [
    "# cluster map \n",
    "sns.clustermap(data=df.corr(), annot=True, cmap='Greens')"
   ]
  },
  {
   "cell_type": "markdown",
   "metadata": {
    "colab_type": "text",
    "id": "GikUvYuhbz3d"
   },
   "source": [
    "### 4. B. Data visualization & business intelligence\n",
    "We skip this step to focus on model building. In a real-world project, you should extract business intelligence using data visualization (e.g., groupby, matplotlib, seaborn)\n"
   ]
  },
  {
   "cell_type": "markdown",
   "metadata": {
    "colab_type": "text",
    "id": "KiUO2OsEbz3e"
   },
   "source": [
    "### Model Building (Predictive/Classification analytics)"
   ]
  },
  {
   "cell_type": "markdown",
   "metadata": {
    "colab_type": "text",
    "id": "IzllVn9Kbz3f"
   },
   "source": [
    "#### Top 10 algorithms & methods used by Data Scientists.\n",
    "\n",
    "<img src=\"images/top10algorithms.png\">\n",
    "source: kdnuggets.com"
   ]
  },
  {
   "cell_type": "markdown",
   "metadata": {
    "colab_type": "text",
    "id": "z-3UnIxjbz3f"
   },
   "source": [
    "There are many different machine learning algorithms for predictive model building. \n",
    "\n",
    "> - **Decision Tree**\n",
    "> - **Logistic Regression**\n",
    "> - **k-nearest neighbors**"
   ]
  },
  {
   "cell_type": "markdown",
   "metadata": {
    "colab_type": "text",
    "id": "Mg53a6rnbz3g"
   },
   "source": [
    "# Decision Tree\n",
    "\n",
    "* Most intuitive\n",
    "* Implicitly perform feature selection (selecting which X variables are important)\n",
    "* Requires little effort from users for data preparation (can handle missing values)\n",
    "* Easy to interpret and explain to executives!\n",
    "* Provides decision rules\n",
    "* Different decision tree classification algorithms (e.g., CART, ID3, CHAID)\n",
    "* CART (Classification And Regression Tree) is the default (in scikit learn)"
   ]
  },
  {
   "cell_type": "markdown",
   "metadata": {
    "colab_type": "text",
    "id": "ArFrq0oubz3g"
   },
   "source": [
    "Let's consider an example:\n",
    "<img src=\"images\\dt1.gif\">\n",
    "\n",
    "<center> 4 people with good credit & 5 people with bad credit status </center>\n",
    "\n",
    "Here is the decision tree\n",
    "<img src=\"images\\dt2.gif\">\n",
    "\n",
    "The goal of decision tree is to split a node in a way to maximize purity. The above example tells that each splited node is 100% pure, which is ideal. See the appendix more about \"impurity\" or Gini index."
   ]
  },
  {
   "cell_type": "markdown",
   "metadata": {
    "colab_type": "text",
    "id": "bFBVmyyHbz3i"
   },
   "source": [
    "Let's consider another example:\n",
    "<img src=\"images\\dt3.gif\">\n",
    "\n",
    "<center> 22 people with passing grade & 20 people with failing grade </center>\n",
    "\n",
    "\n",
    "How about this split?\n",
    "<img src=\"images\\dt4.gif\">\n",
    "\n",
    "Here is the decision tree: Each box is called **\"a leaf node\"**\n",
    "<img src=\"images\\dt5.gif\">\n",
    "\n",
    "Then, **decision rules** are:\n",
    "> * If Enlish score >= 80 then, \"pass\"\n",
    "> * Elseif Math score >= 75 then, \"pass\"\n",
    "> * Else, then \"fail\""
   ]
  },
  {
   "cell_type": "markdown",
   "metadata": {
    "colab_type": "text",
    "id": "wWEtTfR8bz3i"
   },
   "source": [
    "> The above decision tree indicates that **English Score** is the most important X variable to consider in terms of determining who is likely to pass or fail."
   ]
  },
  {
   "cell_type": "markdown",
   "metadata": {},
   "source": [
    "### Categorical to Dummy Variables"
   ]
  },
  {
   "cell_type": "code",
   "execution_count": 17,
   "metadata": {},
   "outputs": [
    {
     "data": {
      "text/html": [
       "<div>\n",
       "<style scoped>\n",
       "    .dataframe tbody tr th:only-of-type {\n",
       "        vertical-align: middle;\n",
       "    }\n",
       "\n",
       "    .dataframe tbody tr th {\n",
       "        vertical-align: top;\n",
       "    }\n",
       "\n",
       "    .dataframe thead th {\n",
       "        text-align: right;\n",
       "    }\n",
       "</style>\n",
       "<table border=\"1\" class=\"dataframe\">\n",
       "  <thead>\n",
       "    <tr style=\"text-align: right;\">\n",
       "      <th></th>\n",
       "      <th>Age</th>\n",
       "      <th>Marital_Status</th>\n",
       "      <th>Gender</th>\n",
       "      <th>Weight_Category</th>\n",
       "      <th>Cholesterol</th>\n",
       "      <th>Stress_Management</th>\n",
       "      <th>Trait_Anxiety</th>\n",
       "      <th>2nd_Heart_Attack</th>\n",
       "    </tr>\n",
       "  </thead>\n",
       "  <tbody>\n",
       "    <tr>\n",
       "      <th>0</th>\n",
       "      <td>60</td>\n",
       "      <td>2</td>\n",
       "      <td>0</td>\n",
       "      <td>1</td>\n",
       "      <td>150</td>\n",
       "      <td>1</td>\n",
       "      <td>50</td>\n",
       "      <td>1</td>\n",
       "    </tr>\n",
       "    <tr>\n",
       "      <th>1</th>\n",
       "      <td>69</td>\n",
       "      <td>2</td>\n",
       "      <td>1</td>\n",
       "      <td>1</td>\n",
       "      <td>170</td>\n",
       "      <td>0</td>\n",
       "      <td>60</td>\n",
       "      <td>1</td>\n",
       "    </tr>\n",
       "  </tbody>\n",
       "</table>\n",
       "</div>"
      ],
      "text/plain": [
       "   Age  Marital_Status  Gender  Weight_Category  Cholesterol  \\\n",
       "0   60               2       0                1          150   \n",
       "1   69               2       1                1          170   \n",
       "\n",
       "   Stress_Management  Trait_Anxiety  2nd_Heart_Attack  \n",
       "0                  1             50                 1  \n",
       "1                  0             60                 1  "
      ]
     },
     "execution_count": 17,
     "metadata": {},
     "output_type": "execute_result"
    }
   ],
   "source": [
    "df.head(2)"
   ]
  },
  {
   "cell_type": "code",
   "execution_count": 18,
   "metadata": {},
   "outputs": [
    {
     "name": "stdout",
     "output_type": "stream",
     "text": [
      "<class 'pandas.core.frame.DataFrame'>\n",
      "RangeIndex: 138 entries, 0 to 137\n",
      "Data columns (total 8 columns):\n",
      " #   Column             Non-Null Count  Dtype\n",
      "---  ------             --------------  -----\n",
      " 0   Age                138 non-null    int64\n",
      " 1   Marital_Status     138 non-null    int64\n",
      " 2   Gender             138 non-null    int64\n",
      " 3   Weight_Category    138 non-null    int64\n",
      " 4   Cholesterol        138 non-null    int64\n",
      " 5   Stress_Management  138 non-null    int64\n",
      " 6   Trait_Anxiety      138 non-null    int64\n",
      " 7   2nd_Heart_Attack   138 non-null    int32\n",
      "dtypes: int32(1), int64(7)\n",
      "memory usage: 8.2 KB\n"
     ]
    }
   ],
   "source": [
    "df.info()"
   ]
  },
  {
   "cell_type": "code",
   "execution_count": 19,
   "metadata": {},
   "outputs": [
    {
     "data": {
      "text/html": [
       "<div>\n",
       "<style scoped>\n",
       "    .dataframe tbody tr th:only-of-type {\n",
       "        vertical-align: middle;\n",
       "    }\n",
       "\n",
       "    .dataframe tbody tr th {\n",
       "        vertical-align: top;\n",
       "    }\n",
       "\n",
       "    .dataframe thead th {\n",
       "        text-align: right;\n",
       "    }\n",
       "</style>\n",
       "<table border=\"1\" class=\"dataframe\">\n",
       "  <thead>\n",
       "    <tr style=\"text-align: right;\">\n",
       "      <th></th>\n",
       "      <th>Age</th>\n",
       "      <th>Cholesterol</th>\n",
       "      <th>Trait_Anxiety</th>\n",
       "      <th>2nd_Heart_Attack</th>\n",
       "      <th>Marital_Status_1</th>\n",
       "      <th>Marital_Status_2</th>\n",
       "      <th>Marital_Status_3</th>\n",
       "      <th>Gender_1</th>\n",
       "      <th>Weight_Category_1</th>\n",
       "      <th>Weight_Category_2</th>\n",
       "      <th>Stress_Management_1</th>\n",
       "    </tr>\n",
       "  </thead>\n",
       "  <tbody>\n",
       "    <tr>\n",
       "      <th>0</th>\n",
       "      <td>60</td>\n",
       "      <td>150</td>\n",
       "      <td>50</td>\n",
       "      <td>1</td>\n",
       "      <td>0</td>\n",
       "      <td>1</td>\n",
       "      <td>0</td>\n",
       "      <td>0</td>\n",
       "      <td>1</td>\n",
       "      <td>0</td>\n",
       "      <td>1</td>\n",
       "    </tr>\n",
       "    <tr>\n",
       "      <th>1</th>\n",
       "      <td>69</td>\n",
       "      <td>170</td>\n",
       "      <td>60</td>\n",
       "      <td>1</td>\n",
       "      <td>0</td>\n",
       "      <td>1</td>\n",
       "      <td>0</td>\n",
       "      <td>1</td>\n",
       "      <td>1</td>\n",
       "      <td>0</td>\n",
       "      <td>0</td>\n",
       "    </tr>\n",
       "  </tbody>\n",
       "</table>\n",
       "</div>"
      ],
      "text/plain": [
       "   Age  Cholesterol  Trait_Anxiety  2nd_Heart_Attack  Marital_Status_1  \\\n",
       "0   60          150             50                 1                 0   \n",
       "1   69          170             60                 1                 0   \n",
       "\n",
       "   Marital_Status_2  Marital_Status_3  Gender_1  Weight_Category_1  \\\n",
       "0                 1                 0         0                  1   \n",
       "1                 1                 0         1                  1   \n",
       "\n",
       "   Weight_Category_2  Stress_Management_1  \n",
       "0                  0                    1  \n",
       "1                  0                    0  "
      ]
     },
     "execution_count": 19,
     "metadata": {},
     "output_type": "execute_result"
    }
   ],
   "source": [
    "# convert categorical variables to dummy variables\n",
    "\n",
    "df =  pd.get_dummies(df, columns=[\"Marital_Status\", \"Gender\", \"Weight_Category\", \"Stress_Management\"],\n",
    "                         prefix=[\"Marital_Status\", \"Gender\", \"Weight_Category\", \"Stress_Management\"],\n",
    "                         drop_first=True)\n",
    "df.head(2)"
   ]
  },
  {
   "cell_type": "code",
   "execution_count": 20,
   "metadata": {},
   "outputs": [
    {
     "name": "stdout",
     "output_type": "stream",
     "text": [
      "<class 'pandas.core.frame.DataFrame'>\n",
      "RangeIndex: 138 entries, 0 to 137\n",
      "Data columns (total 11 columns):\n",
      " #   Column               Non-Null Count  Dtype\n",
      "---  ------               --------------  -----\n",
      " 0   Age                  138 non-null    int64\n",
      " 1   Cholesterol          138 non-null    int64\n",
      " 2   Trait_Anxiety        138 non-null    int64\n",
      " 3   2nd_Heart_Attack     138 non-null    int32\n",
      " 4   Marital_Status_1     138 non-null    uint8\n",
      " 5   Marital_Status_2     138 non-null    uint8\n",
      " 6   Marital_Status_3     138 non-null    uint8\n",
      " 7   Gender_1             138 non-null    uint8\n",
      " 8   Weight_Category_1    138 non-null    uint8\n",
      " 9   Weight_Category_2    138 non-null    uint8\n",
      " 10  Stress_Management_1  138 non-null    uint8\n",
      "dtypes: int32(1), int64(3), uint8(7)\n",
      "memory usage: 4.8 KB\n"
     ]
    }
   ],
   "source": [
    "df.info()"
   ]
  },
  {
   "cell_type": "markdown",
   "metadata": {
    "colab_type": "text",
    "id": "exiIr8libz3j"
   },
   "source": [
    "### Model Building & Validation\n",
    "\n",
    "When building a predictive model, we split the original data into two datasets: **training dataset and testing (validation) dataset**. This is called **\"split validation\"**, a type of **\"model validation\"**\n",
    "- A predictive model is built using the **training dataset** and **the model quality** is assessed as the model is applied into the **testing (validation) dataset** (See Appendix for more details)\n",
    "\n",
    "> **Two types of model validation**: \n",
    " 1. **split validation** (70% of the original data as training and the other 30% as testing dataset)\n",
    " 2. **cross validation** (90% of the original data as training and the other 10% as testing dataset): This allows to test the model quality 10 times. The average value is used to measure the model performance"
   ]
  },
  {
   "cell_type": "code",
   "execution_count": 21,
   "metadata": {
    "colab": {},
    "colab_type": "code",
    "id": "Q7b3HnULbz3k"
   },
   "outputs": [],
   "source": [
    "# declare X variables and y variable\n",
    "\n",
    "y = df['2nd_Heart_Attack']\n",
    "X = df.drop(['2nd_Heart_Attack'], axis=1)"
   ]
  },
  {
   "cell_type": "code",
   "execution_count": 22,
   "metadata": {
    "colab": {},
    "colab_type": "code",
    "id": "vEC5unChbz3p"
   },
   "outputs": [
    {
     "data": {
      "text/plain": [
       "DecisionTreeClassifier()"
      ]
     },
     "execution_count": 22,
     "metadata": {},
     "output_type": "execute_result"
    }
   ],
   "source": [
    "# split validation\n",
    "X_train, X_test, y_train, y_test = train_test_split(X, y, test_size=0.3, random_state=0)\n",
    "\n",
    "# Initialize DecisionTreeClassifier() ... name your decision model \"dt\"\n",
    "dt = DecisionTreeClassifier()\n",
    "\n",
    "# Train a decision tree model\n",
    "dt.fit(X_train, y_train)"
   ]
  },
  {
   "cell_type": "code",
   "execution_count": 23,
   "metadata": {},
   "outputs": [
    {
     "name": "stdout",
     "output_type": "stream",
     "text": [
      "96\n",
      "42\n"
     ]
    }
   ],
   "source": [
    "print(len(X_train))\n",
    "print(len(X_test))"
   ]
  },
  {
   "cell_type": "code",
   "execution_count": 24,
   "metadata": {
    "colab": {},
    "colab_type": "code",
    "id": "mFS1TTZRbz3t",
    "scrolled": true
   },
   "outputs": [
    {
     "name": "stdout",
     "output_type": "stream",
     "text": [
      "0.9285714285714286\n",
      "--------------------------------------------------------\n",
      "[[18  1]\n",
      " [ 2 21]]\n",
      "--------------------------------------------------------\n",
      "              precision    recall  f1-score   support\n",
      "\n",
      "           0       0.90      0.95      0.92        19\n",
      "           1       0.95      0.91      0.93        23\n",
      "\n",
      "    accuracy                           0.93        42\n",
      "   macro avg       0.93      0.93      0.93        42\n",
      "weighted avg       0.93      0.93      0.93        42\n",
      "\n",
      "--------------------------------------------------------\n",
      "0.9302059496567506\n"
     ]
    }
   ],
   "source": [
    "#Model evaluation\n",
    "# http://scikit-learn.org/stable/modules/model_evaluation.html\n",
    "print(metrics.accuracy_score(y_test, dt.predict(X_test)))\n",
    "print(\"--------------------------------------------------------\")\n",
    "print(metrics.confusion_matrix(y_test, dt.predict(X_test))) \n",
    "print(\"--------------------------------------------------------\")\n",
    "print(metrics.classification_report(y_test, dt.predict(X_test)))\n",
    "print(\"--------------------------------------------------------\")\n",
    "print(metrics.roc_auc_score(y_test, dt.predict(X_test)))\n",
    "\n",
    "# y-test is the actual y value in the testing dataset\n",
    "# dt.predict(X_test) is the predicted y value generated by your model\n",
    "# If they are same, we can say your model is accurate."
   ]
  },
  {
   "cell_type": "code",
   "execution_count": 25,
   "metadata": {
    "colab": {},
    "colab_type": "code",
    "id": "yqDGAzHybz3u"
   },
   "outputs": [
    {
     "name": "stdout",
     "output_type": "stream",
     "text": [
      "Requirement already satisfied: scikit-plot in c:\\users\\patri\\anaconda3\\lib\\site-packages (0.3.7)\n",
      "Requirement already satisfied: scipy>=0.9 in c:\\users\\patri\\anaconda3\\lib\\site-packages (from scikit-plot) (1.5.2)\n",
      "Requirement already satisfied: matplotlib>=1.4.0 in c:\\users\\patri\\anaconda3\\lib\\site-packages (from scikit-plot) (3.3.2)\n",
      "Requirement already satisfied: scikit-learn>=0.18 in c:\\users\\patri\\anaconda3\\lib\\site-packages (from scikit-plot) (0.23.2)\n",
      "Requirement already satisfied: joblib>=0.10 in c:\\users\\patri\\anaconda3\\lib\\site-packages (from scikit-plot) (0.17.0)\n",
      "Requirement already satisfied: numpy>=1.14.5 in c:\\users\\patri\\anaconda3\\lib\\site-packages (from scipy>=0.9->scikit-plot) (1.19.2)\n",
      "Requirement already satisfied: kiwisolver>=1.0.1 in c:\\users\\patri\\anaconda3\\lib\\site-packages (from matplotlib>=1.4.0->scikit-plot) (1.3.0)\n",
      "Requirement already satisfied: python-dateutil>=2.1 in c:\\users\\patri\\anaconda3\\lib\\site-packages (from matplotlib>=1.4.0->scikit-plot) (2.8.1)\n",
      "Requirement already satisfied: pillow>=6.2.0 in c:\\users\\patri\\anaconda3\\lib\\site-packages (from matplotlib>=1.4.0->scikit-plot) (8.0.1)\n",
      "Requirement already satisfied: cycler>=0.10 in c:\\users\\patri\\anaconda3\\lib\\site-packages (from matplotlib>=1.4.0->scikit-plot) (0.10.0)\n",
      "Requirement already satisfied: pyparsing!=2.0.4,!=2.1.2,!=2.1.6,>=2.0.3 in c:\\users\\patri\\anaconda3\\lib\\site-packages (from matplotlib>=1.4.0->scikit-plot) (2.4.7)\n",
      "Requirement already satisfied: certifi>=2020.06.20 in c:\\users\\patri\\anaconda3\\lib\\site-packages (from matplotlib>=1.4.0->scikit-plot) (2020.6.20)\n",
      "Requirement already satisfied: threadpoolctl>=2.0.0 in c:\\users\\patri\\anaconda3\\lib\\site-packages (from scikit-learn>=0.18->scikit-plot) (2.1.0)\n",
      "Requirement already satisfied: six>=1.5 in c:\\users\\patri\\anaconda3\\lib\\site-packages (from python-dateutil>=2.1->matplotlib>=1.4.0->scikit-plot) (1.15.0)\n"
     ]
    }
   ],
   "source": [
    "# install scikit-plot first (change the cell mode to Code and run the cell)\n",
    "\n",
    "!pip install scikit-plot "
   ]
  },
  {
   "cell_type": "code",
   "execution_count": 26,
   "metadata": {
    "colab": {},
    "colab_type": "code",
    "id": "48-ySg-6bz3z"
   },
   "outputs": [
    {
     "data": {
      "image/png": "[encoded data removed]",
      "text/plain": [
       "<Figure size 432x288 with 2 Axes>"
      ]
     },
     "metadata": {
      "needs_background": "light"
     },
     "output_type": "display_data"
    }
   ],
   "source": [
    "import scikitplot as skplt\n",
    "\n",
    "skplt.metrics.plot_confusion_matrix(y_true=np.array(y_test), y_pred=dt.predict(X_test))\n",
    "plt.show()"
   ]
  },
  {
   "cell_type": "markdown",
   "metadata": {},
   "source": [
    "If you receive the error message \"ModuleNotFoundError: No module named 'joblib'\", then install joblib:\n",
    "\n",
    "In a command prompt (or terminal), **conda install -c anaconda joblib**"
   ]
  },
  {
   "cell_type": "markdown",
   "metadata": {
    "colab_type": "text",
    "id": "Lp2kPBdgbz31"
   },
   "source": [
    "> **So, what is the model accuracy?**\n",
    "\n",
    "The decision tree model is 92.9% accurate. Therefore, we expect that the model will be about **93% accurate** when the model is applied into a real-world situation\n",
    "\n",
    "True Positive Rate (Sensitivity) = 21/23 = 0.95\n",
    "\n",
    "False Positive Rate = 1/19 = 0.052\n",
    "\n",
    "True Negative Rate (Specificity) = 18/19\n",
    "\n",
    "False Negatve Rate = 2/23\n",
    "\n",
    "There is another important measure (perhaps, the most popular one) called **AUC** (see the appendix for more details)"
   ]
  },
  {
   "cell_type": "markdown",
   "metadata": {
    "colab_type": "text",
    "id": "oTNOdYvVbz32"
   },
   "source": [
    "<img src=\"images\\ppt\\slide17.gif\">\n",
    "<img src=\"images\\ppt\\slide18.gif\">"
   ]
  },
  {
   "cell_type": "markdown",
   "metadata": {
    "colab_type": "text",
    "id": "2DdIsmwbbz32"
   },
   "source": [
    "http://scikit-learn.org/stable/auto_examples/model_selection/plot_precision_recall.html\n",
    "\n",
    "Precision = true positives / (true positives + false positives) \n",
    "    - The ability of the classifier to not label a negative sample as positive\n",
    "\n",
    "Recall = true positives / (true positives + false negatives). \n",
    "    - The ability of the classifier to find all positive samples\n",
    "\n",
    "f1  = (precision $*$ recall) / (precision + recall)\n",
    "\n",
    "confusion matrix: rows are the actual values; columns are the predicted value\n",
    "\n",
    "AUC score (Area Under Curve, see the appendix for more details)"
   ]
  },
  {
   "cell_type": "markdown",
   "metadata": {
    "colab_type": "text",
    "id": "debqMFxobz33"
   },
   "source": [
    "### Visualizing decision tree\n",
    "\n",
    "There are different ways of visualizing decision tree. See ``1_Supplementary_Ways_Visualize_DecisionTree.ipynb`` for the details"
   ]
  },
  {
   "cell_type": "markdown",
   "metadata": {
    "colab_type": "text",
    "id": "g_1MVqIFbz34"
   },
   "source": [
    "#### Print Text Representation (Recommended)"
   ]
  },
  {
   "cell_type": "code",
   "execution_count": 27,
   "metadata": {},
   "outputs": [
    {
     "name": "stdout",
     "output_type": "stream",
     "text": [
      "|--- Marital_Status_2 <= 0.50\n",
      "|   |--- Trait_Anxiety <= 67.50\n",
      "|   |   |--- Cholesterol <= 234.50\n",
      "|   |   |   |--- Age <= 69.50\n",
      "|   |   |   |   |--- class: 0\n",
      "|   |   |   |--- Age >  69.50\n",
      "|   |   |   |   |--- Cholesterol <= 180.00\n",
      "|   |   |   |   |   |--- class: 1\n",
      "|   |   |   |   |--- Cholesterol >  180.00\n",
      "|   |   |   |   |   |--- class: 0\n",
      "|   |   |--- Cholesterol >  234.50\n",
      "|   |   |   |--- class: 1\n",
      "|   |--- Trait_Anxiety >  67.50\n",
      "|   |   |--- class: 1\n",
      "|--- Marital_Status_2 >  0.50\n",
      "|   |--- Cholesterol <= 143.50\n",
      "|   |   |--- class: 0\n",
      "|   |--- Cholesterol >  143.50\n",
      "|   |   |--- class: 1\n",
      "\n"
     ]
    }
   ],
   "source": [
    "text_representation = tree.export_text(dt, feature_names=(list(X.columns)))\n",
    "print(text_representation)"
   ]
  },
  {
   "cell_type": "markdown",
   "metadata": {},
   "source": [
    "For example, if the person's marital status is 2 (divorced), which is the bottom of the text representation, \n",
    "- and cholesterol level is less than 143.50, \n",
    "    - then the likely outcome is **\"not having 2nd heartattack\"**\n",
    "- but cholesterol level is greater than 143.50, \n",
    "    - then the likely outcome is **\"having 2nd heartattack\"**"
   ]
  },
  {
   "cell_type": "code",
   "execution_count": 28,
   "metadata": {},
   "outputs": [],
   "source": [
    "# save text representation \n",
    "with open(\"decistion_tree.log\", \"w\") as fout:\n",
    "    fout.write(text_representation)"
   ]
  },
  {
   "cell_type": "markdown",
   "metadata": {},
   "source": [
    "#### Plot Tree with plot_tree (Recommended)"
   ]
  },
  {
   "cell_type": "code",
   "execution_count": 29,
   "metadata": {},
   "outputs": [
    {
     "data": {
      "image/png": "[encoded data removed]",
      "text/plain": [
       "<Figure size 1800x1440 with 1 Axes>"
      ]
     },
     "metadata": {
      "needs_background": "light"
     },
     "output_type": "display_data"
    }
   ],
   "source": [
    "fig = plt.figure(figsize=(25,20))\n",
    "tree.plot_tree(dt, \n",
    "                feature_names = X.columns, \n",
    "                class_names=['no','yes'],    # no: healthy, yes: 2nd heartattack\n",
    "                filled = True);\n",
    "\n",
    "# left arrow means \"True\"\n",
    "# right arrow means \"False\""
   ]
  },
  {
   "cell_type": "code",
   "execution_count": 30,
   "metadata": {},
   "outputs": [],
   "source": [
    "fig.savefig(\"decistion_tree.png\")"
   ]
  },
  {
   "cell_type": "markdown",
   "metadata": {
    "colab_type": "text",
    "id": "rpTQ5rgObz4C"
   },
   "source": [
    "#### Interpreting decision tree\n",
    "\n",
    ">**Marital_Status_2 (whether someone is divorced or not)** appears to be the single most influential factor. Many **decision rules** can be extracted. For example:\n",
    "\n",
    ">Marital_Status_2 <= 0.5 means someone is **not divorced**. Thus,\n",
    "\n",
    "1. All those 34 people who **divorced** and whose cholesterol **is not <= 143.5** (meaning **greater than 143.5**) are predicted as risky for 2nd heart attack.\n",
    "\n",
    "2. All those 5 people who **divorced** but whose cholesterol **less than 143.5** are predicted as healthy people.\n",
    "\n",
    "3. develop more decision rules here ..."
   ]
  },
  {
   "cell_type": "markdown",
   "metadata": {
    "colab_type": "text",
    "id": "hec9r9SUbz4C"
   },
   "source": [
    "#### What if your decision tree looks too complicated to be practical?\n",
    "- A \"full-grown\" decision tree could be too complicated to be practical\n",
    "- To be useful, a model needs to be simple, but not too simple\n",
    "- **\"Everything Should Be Made as Simple as Possible, But Not Simpler\"** - Albert Einstein or ?"
   ]
  },
  {
   "cell_type": "code",
   "execution_count": 31,
   "metadata": {
    "colab_type": "raw",
    "id": "XQdthr7xbz4D"
   },
   "outputs": [
    {
     "data": {
      "text/plain": [
       "DecisionTreeClassifier(max_depth=3, min_samples_leaf=5)"
      ]
     },
     "execution_count": 31,
     "metadata": {},
     "output_type": "execute_result"
    }
   ],
   "source": [
    "# dt = DecisionTreeClassifier()    # develop a very complex (\"full-grown\") tree\n",
    "\n",
    "# You can make a simpler decision tree ... name the model \"dt_simple\" (max_depth=3, min_samples_leaf=5)\n",
    "\n",
    "X_train, X_test, y_train, y_test = train_test_split(X, y, test_size=0.3, random_state=0)\n",
    "dt_simple = DecisionTreeClassifier(max_depth=3, min_samples_leaf=5)\n",
    "dt_simple.fit(X_train, y_train)\n",
    "\n",
    "# max_depth : The maximum depth of the tree. If None, then nodes are expanded until all leaves are pure or until all leaves contain less than min_samples_split samples.\n",
    "\n",
    "# min_samples_leaf : The minimum number of samples required to be at a leaf node\n",
    "\n",
    "# http://scikit-learn.org/stable/modules/generated/sklearn.tree.DecisionTreeClassifier.html#sklearn.tree.DecisionTreeClassifier"
   ]
  },
  {
   "cell_type": "code",
   "execution_count": 32,
   "metadata": {
    "colab": {},
    "colab_type": "code",
    "id": "DjIW_vF-bz4G"
   },
   "outputs": [
    {
     "name": "stdout",
     "output_type": "stream",
     "text": [
      "0.8809523809523809\n",
      "--------------------------------------------------------\n",
      "[[18  1]\n",
      " [ 4 19]]\n",
      "--------------------------------------------------------\n",
      "              precision    recall  f1-score   support\n",
      "\n",
      "           0       0.82      0.95      0.88        19\n",
      "           1       0.95      0.83      0.88        23\n",
      "\n",
      "    accuracy                           0.88        42\n",
      "   macro avg       0.88      0.89      0.88        42\n",
      "weighted avg       0.89      0.88      0.88        42\n",
      "\n",
      "--------------------------------------------------------\n",
      "0.8867276887871854\n"
     ]
    }
   ],
   "source": [
    "# Find out the performance of this model & interpret the results\n",
    "\n",
    "print(metrics.accuracy_score(y_test, dt_simple.predict(X_test)))\n",
    "print(\"--------------------------------------------------------\")\n",
    "print(metrics.confusion_matrix(y_test, dt_simple.predict(X_test))) \n",
    "print(\"--------------------------------------------------------\")\n",
    "print(metrics.classification_report(y_test, dt_simple.predict(X_test)))\n",
    "print(\"--------------------------------------------------------\")\n",
    "print(metrics.roc_auc_score(y_test, dt_simple.predict(X_test)))"
   ]
  },
  {
   "cell_type": "code",
   "execution_count": 33,
   "metadata": {
    "colab": {},
    "colab_type": "code",
    "id": "4JEnRqsRbz4I"
   },
   "outputs": [
    {
     "data": {
      "image/png": "[encoded data removed]",
      "text/plain": [
       "<Figure size 1800x1440 with 1 Axes>"
      ]
     },
     "metadata": {
      "needs_background": "light"
     },
     "output_type": "display_data"
    }
   ],
   "source": [
    "fig = plt.figure(figsize=(25,20))\n",
    "tree.plot_tree(dt_simple, \n",
    "                feature_names = X.columns, \n",
    "                class_names=['no','yes'],    # no: healthy, yes: 2nd heartattack\n",
    "                filled = True);\n",
    "\n",
    "# left arrow means \"True\"\n",
    "# right arrow means \"False\""
   ]
  },
  {
   "cell_type": "markdown",
   "metadata": {
    "colab_type": "text",
    "id": "S9mP8hpCbz4M"
   },
   "source": [
    "## Model Deployement: Make Predictions on the new dataset (scoring dataset)\n",
    "\n",
    "There are different names for scoring dataset. Examples include:\n",
    "- Test dataset\n",
    "- Future dataset\n",
    "- Dataset without y value or label\n",
    "\n",
    "**Before applying the machine model, the exactly same procedure used to transform the training dataset MUST be applied to the scoring dataset as well**"
   ]
  },
  {
   "cell_type": "code",
   "execution_count": 34,
   "metadata": {
    "colab": {},
    "colab_type": "code",
    "id": "aMa8rzTsbz4M"
   },
   "outputs": [
    {
     "data": {
      "text/html": [
       "<div>\n",
       "<style scoped>\n",
       "    .dataframe tbody tr th:only-of-type {\n",
       "        vertical-align: middle;\n",
       "    }\n",
       "\n",
       "    .dataframe tbody tr th {\n",
       "        vertical-align: top;\n",
       "    }\n",
       "\n",
       "    .dataframe thead th {\n",
       "        text-align: right;\n",
       "    }\n",
       "</style>\n",
       "<table border=\"1\" class=\"dataframe\">\n",
       "  <thead>\n",
       "    <tr style=\"text-align: right;\">\n",
       "      <th></th>\n",
       "      <th>Age</th>\n",
       "      <th>Marital_Status</th>\n",
       "      <th>Gender</th>\n",
       "      <th>Weight_Category</th>\n",
       "      <th>Cholesterol</th>\n",
       "      <th>Stress_Management</th>\n",
       "      <th>Trait_Anxiety</th>\n",
       "    </tr>\n",
       "  </thead>\n",
       "  <tbody>\n",
       "    <tr>\n",
       "      <th>0</th>\n",
       "      <td>61</td>\n",
       "      <td>0</td>\n",
       "      <td>1</td>\n",
       "      <td>1</td>\n",
       "      <td>139</td>\n",
       "      <td>1</td>\n",
       "      <td>50</td>\n",
       "    </tr>\n",
       "    <tr>\n",
       "      <th>1</th>\n",
       "      <td>55</td>\n",
       "      <td>2</td>\n",
       "      <td>1</td>\n",
       "      <td>2</td>\n",
       "      <td>163</td>\n",
       "      <td>0</td>\n",
       "      <td>40</td>\n",
       "    </tr>\n",
       "  </tbody>\n",
       "</table>\n",
       "</div>"
      ],
      "text/plain": [
       "   Age  Marital_Status  Gender  Weight_Category  Cholesterol  \\\n",
       "0   61               0       1                1          139   \n",
       "1   55               2       1                2          163   \n",
       "\n",
       "   Stress_Management  Trait_Anxiety  \n",
       "0                  1             50  \n",
       "1                  0             40  "
      ]
     },
     "execution_count": 34,
     "metadata": {},
     "output_type": "execute_result"
    }
   ],
   "source": [
    "# scoring dataset\n",
    "score=pd.read_csv(\"data/heartattack_scoring.csv\")\n",
    "score.head(2)\n",
    "#no Y value in this dataset ... \n",
    "#we are trying to predict whether the people in this scoring dataset are likely to have 2nd heart attack or not."
   ]
  },
  {
   "cell_type": "code",
   "execution_count": 35,
   "metadata": {},
   "outputs": [
    {
     "data": {
      "text/html": [
       "<div>\n",
       "<style scoped>\n",
       "    .dataframe tbody tr th:only-of-type {\n",
       "        vertical-align: middle;\n",
       "    }\n",
       "\n",
       "    .dataframe tbody tr th {\n",
       "        vertical-align: top;\n",
       "    }\n",
       "\n",
       "    .dataframe thead th {\n",
       "        text-align: right;\n",
       "    }\n",
       "</style>\n",
       "<table border=\"1\" class=\"dataframe\">\n",
       "  <thead>\n",
       "    <tr style=\"text-align: right;\">\n",
       "      <th></th>\n",
       "      <th>Age</th>\n",
       "      <th>Cholesterol</th>\n",
       "      <th>Trait_Anxiety</th>\n",
       "      <th>Marital_Status_1</th>\n",
       "      <th>Marital_Status_2</th>\n",
       "      <th>Marital_Status_3</th>\n",
       "      <th>Gender_1</th>\n",
       "      <th>Weight_Category_1</th>\n",
       "      <th>Weight_Category_2</th>\n",
       "      <th>Stress_Management_1</th>\n",
       "    </tr>\n",
       "  </thead>\n",
       "  <tbody>\n",
       "    <tr>\n",
       "      <th>0</th>\n",
       "      <td>61</td>\n",
       "      <td>139</td>\n",
       "      <td>50</td>\n",
       "      <td>0</td>\n",
       "      <td>0</td>\n",
       "      <td>0</td>\n",
       "      <td>1</td>\n",
       "      <td>1</td>\n",
       "      <td>0</td>\n",
       "      <td>1</td>\n",
       "    </tr>\n",
       "    <tr>\n",
       "      <th>1</th>\n",
       "      <td>55</td>\n",
       "      <td>163</td>\n",
       "      <td>40</td>\n",
       "      <td>0</td>\n",
       "      <td>1</td>\n",
       "      <td>0</td>\n",
       "      <td>1</td>\n",
       "      <td>0</td>\n",
       "      <td>1</td>\n",
       "      <td>0</td>\n",
       "    </tr>\n",
       "  </tbody>\n",
       "</table>\n",
       "</div>"
      ],
      "text/plain": [
       "   Age  Cholesterol  Trait_Anxiety  Marital_Status_1  Marital_Status_2  \\\n",
       "0   61          139             50                 0                 0   \n",
       "1   55          163             40                 0                 1   \n",
       "\n",
       "   Marital_Status_3  Gender_1  Weight_Category_1  Weight_Category_2  \\\n",
       "0                 0         1                  1                  0   \n",
       "1                 0         1                  0                  1   \n",
       "\n",
       "   Stress_Management_1  \n",
       "0                    1  \n",
       "1                    0  "
      ]
     },
     "execution_count": 35,
     "metadata": {},
     "output_type": "execute_result"
    }
   ],
   "source": [
    "### Categorical to Dummy Variables\n",
    "\n",
    "# convert categorical variables to dummy variables\n",
    "\n",
    "score =  pd.get_dummies(score, columns=[\"Marital_Status\", \"Gender\", \"Weight_Category\", \"Stress_Management\"],\n",
    "                         prefix=[\"Marital_Status\", \"Gender\", \"Weight_Category\", \"Stress_Management\"],\n",
    "                         drop_first=True)\n",
    "score.head(2)"
   ]
  },
  {
   "cell_type": "code",
   "execution_count": 36,
   "metadata": {
    "colab": {},
    "colab_type": "code",
    "id": "I0JxfqCAbz4O"
   },
   "outputs": [
    {
     "name": "stdout",
     "output_type": "stream",
     "text": [
      "<class 'pandas.core.frame.DataFrame'>\n",
      "RangeIndex: 690 entries, 0 to 689\n",
      "Data columns (total 10 columns):\n",
      " #   Column               Non-Null Count  Dtype\n",
      "---  ------               --------------  -----\n",
      " 0   Age                  690 non-null    int64\n",
      " 1   Cholesterol          690 non-null    int64\n",
      " 2   Trait_Anxiety        690 non-null    int64\n",
      " 3   Marital_Status_1     690 non-null    uint8\n",
      " 4   Marital_Status_2     690 non-null    uint8\n",
      " 5   Marital_Status_3     690 non-null    uint8\n",
      " 6   Gender_1             690 non-null    uint8\n",
      " 7   Weight_Category_1    690 non-null    uint8\n",
      " 8   Weight_Category_2    690 non-null    uint8\n",
      " 9   Stress_Management_1  690 non-null    uint8\n",
      "dtypes: int64(3), uint8(7)\n",
      "memory usage: 21.0 KB\n"
     ]
    }
   ],
   "source": [
    "score.info()"
   ]
  },
  {
   "cell_type": "code",
   "execution_count": 37,
   "metadata": {
    "colab": {},
    "colab_type": "code",
    "id": "qb78JneObz4R"
   },
   "outputs": [
    {
     "name": "stdout",
     "output_type": "stream",
     "text": [
      "[0 1 0 1 1 1 0 0 1 0 1 0 1 1 1 0 1 0 0 1 0 1 0 0 0 1 1 1 1 0 1 0 0 0 0 1 1\n",
      " 0 1 0 0 0 1 1 0 0 0 1 1 0 0 0 0 1 1 1 0 0 1 0 1 0 1 1 0 1 1 0 1 0 0 1 1 1\n",
      " 0 1 1 0 0 0 1 0 1 0 1 1 0 1 1 1 1 0 0 1 0 0 0 0 0 1 0 1 0 0 1 1 0 1 0 0 0\n",
      " 1 0 1 0 1 0 0 1 0 0 0 0 1 1 0 1 1 1 0 0 0 0 1 0 0 1 1 1 1 1 1 1 0 1 0 0 0\n",
      " 1 0 0 1 1 1 1 1 1 0 1 1 1 0 0 1 0 0 1 1 0 1 1 0 0 0 0 0 0 0 1 1 1 1 1 1 1\n",
      " 0 1 1 1 0 1 1 0 0 1 0 1 1 1 0 0 0 1 0 0 1 0 0 0 0 1 1 1 0 0 0 0 1 1 1 0 1\n",
      " 0 0 0 1 1 0 0 0 0 1 0 1 1 1 0 0 1 1 0 0 0 1 1 0 1 0 0 0 0 1 1 1 1 1 0 1 0\n",
      " 0 0 1 0 1 1 1 1 0 1 0 1 1 1 0 1 1 0 0 0 0 1 0 0 0 1 0 0 0 0 0 0 1 1 1 1 1\n",
      " 1 1 0 1 1 0 1 0 1 1 1 1 1 1 0 1 0 0 1 0 1 1 0 0 0 1 1 0 0 0 0 0 1 1 1 0 0\n",
      " 0 1 0 0 1 0 1 0 0 0 0 0 1 1 1 0 1 1 0 1 1 1 0 1 0 1 0 0 0 0 0 1 0 1 0 1 0\n",
      " 1 0 0 0 0 1 1 1 0 1 1 1 1 0 1 0 0 1 1 1 0 1 1 0 1 0 0 0 1 1 0 1 1 0 0 0 0\n",
      " 1 1 0 0 0 1 1 1 0 1 0 1 1 1 0 0 0 1 0 1 0 1 1 0 0 1 0 0 1 0 0 0 0 0 0 0 0\n",
      " 0 0 1 0 0 0 1 1 0 1 1 1 0 0 1 1 1 0 1 1 1 0 0 0 1 1 1 0 0 1 1 0 1 0 0 0 0\n",
      " 1 1 1 0 1 1 0 1 0 1 1 0 1 1 1 0 0 0 1 1 1 0 1 1 1 0 1 1 1 0 1 0 0 1 1 1 1\n",
      " 1 1 1 1 1 1 1 0 1 0 1 0 0 0 0 0 1 1 1 0 0 0 0 0 1 0 0 0 1 1 1 0 0 1 1 1 1\n",
      " 1 0 0 0 0 1 0 1 0 1 1 1 1 0 0 1 0 0 0 1 1 0 0 0 1 1 1 0 0 1 1 1 1 1 1 1 0\n",
      " 0 0 1 1 0 0 1 0 1 0 1 0 1 0 1 1 0 1 1 1 1 1 0 1 0 1 0 1 1 0 1 0 0 0 0 0 0\n",
      " 0 1 0 1 0 1 0 1 1 0 0 0 1 1 1 1 1 0 0 0 1 0 0 0 0 0 0 0 0 1 1 1 0 0 1 1 0\n",
      " 0 1 1 1 1 0 0 1 1 1 1 0 0 0 1 0 1 0 0 1 1 0 0 1]\n"
     ]
    }
   ],
   "source": [
    "# deploy your model for real world\n",
    "\n",
    "predictedY = dt.predict(score)\n",
    "print(predictedY)"
   ]
  },
  {
   "cell_type": "code",
   "execution_count": 38,
   "metadata": {
    "colab": {},
    "colab_type": "code",
    "id": "pvB9WMNKbz4T"
   },
   "outputs": [
    {
     "data": {
      "text/html": [
       "<div>\n",
       "<style scoped>\n",
       "    .dataframe tbody tr th:only-of-type {\n",
       "        vertical-align: middle;\n",
       "    }\n",
       "\n",
       "    .dataframe tbody tr th {\n",
       "        vertical-align: top;\n",
       "    }\n",
       "\n",
       "    .dataframe thead th {\n",
       "        text-align: right;\n",
       "    }\n",
       "</style>\n",
       "<table border=\"1\" class=\"dataframe\">\n",
       "  <thead>\n",
       "    <tr style=\"text-align: right;\">\n",
       "      <th></th>\n",
       "      <th>predicted Y</th>\n",
       "    </tr>\n",
       "  </thead>\n",
       "  <tbody>\n",
       "    <tr>\n",
       "      <th>0</th>\n",
       "      <td>0</td>\n",
       "    </tr>\n",
       "    <tr>\n",
       "      <th>1</th>\n",
       "      <td>1</td>\n",
       "    </tr>\n",
       "    <tr>\n",
       "      <th>2</th>\n",
       "      <td>0</td>\n",
       "    </tr>\n",
       "    <tr>\n",
       "      <th>3</th>\n",
       "      <td>1</td>\n",
       "    </tr>\n",
       "    <tr>\n",
       "      <th>4</th>\n",
       "      <td>1</td>\n",
       "    </tr>\n",
       "  </tbody>\n",
       "</table>\n",
       "</div>"
      ],
      "text/plain": [
       "   predicted Y\n",
       "0            0\n",
       "1            1\n",
       "2            0\n",
       "3            1\n",
       "4            1"
      ]
     },
     "execution_count": 38,
     "metadata": {},
     "output_type": "execute_result"
    }
   ],
   "source": [
    "#combine the predicted Y value with the scoring dataset\n",
    "predictedY = pd.DataFrame(predictedY, columns=['predicted Y'])\n",
    "predictedY.head()"
   ]
  },
  {
   "cell_type": "code",
   "execution_count": 39,
   "metadata": {
    "colab": {},
    "colab_type": "code",
    "id": "kW0FnO4Ybz4U"
   },
   "outputs": [
    {
     "data": {
      "text/html": [
       "<div>\n",
       "<style scoped>\n",
       "    .dataframe tbody tr th:only-of-type {\n",
       "        vertical-align: middle;\n",
       "    }\n",
       "\n",
       "    .dataframe tbody tr th {\n",
       "        vertical-align: top;\n",
       "    }\n",
       "\n",
       "    .dataframe thead th {\n",
       "        text-align: right;\n",
       "    }\n",
       "</style>\n",
       "<table border=\"1\" class=\"dataframe\">\n",
       "  <thead>\n",
       "    <tr style=\"text-align: right;\">\n",
       "      <th></th>\n",
       "      <th>Age</th>\n",
       "      <th>Cholesterol</th>\n",
       "      <th>Trait_Anxiety</th>\n",
       "      <th>Marital_Status_1</th>\n",
       "      <th>Marital_Status_2</th>\n",
       "      <th>Marital_Status_3</th>\n",
       "      <th>Gender_1</th>\n",
       "      <th>Weight_Category_1</th>\n",
       "      <th>Weight_Category_2</th>\n",
       "      <th>Stress_Management_1</th>\n",
       "      <th>predicted Y</th>\n",
       "    </tr>\n",
       "  </thead>\n",
       "  <tbody>\n",
       "    <tr>\n",
       "      <th>0</th>\n",
       "      <td>61</td>\n",
       "      <td>139</td>\n",
       "      <td>50</td>\n",
       "      <td>0</td>\n",
       "      <td>0</td>\n",
       "      <td>0</td>\n",
       "      <td>1</td>\n",
       "      <td>1</td>\n",
       "      <td>0</td>\n",
       "      <td>1</td>\n",
       "      <td>0</td>\n",
       "    </tr>\n",
       "    <tr>\n",
       "      <th>1</th>\n",
       "      <td>55</td>\n",
       "      <td>163</td>\n",
       "      <td>40</td>\n",
       "      <td>0</td>\n",
       "      <td>1</td>\n",
       "      <td>0</td>\n",
       "      <td>1</td>\n",
       "      <td>0</td>\n",
       "      <td>1</td>\n",
       "      <td>0</td>\n",
       "      <td>1</td>\n",
       "    </tr>\n",
       "    <tr>\n",
       "      <th>2</th>\n",
       "      <td>53</td>\n",
       "      <td>172</td>\n",
       "      <td>55</td>\n",
       "      <td>1</td>\n",
       "      <td>0</td>\n",
       "      <td>0</td>\n",
       "      <td>1</td>\n",
       "      <td>1</td>\n",
       "      <td>0</td>\n",
       "      <td>0</td>\n",
       "      <td>0</td>\n",
       "    </tr>\n",
       "    <tr>\n",
       "      <th>3</th>\n",
       "      <td>58</td>\n",
       "      <td>206</td>\n",
       "      <td>70</td>\n",
       "      <td>1</td>\n",
       "      <td>0</td>\n",
       "      <td>0</td>\n",
       "      <td>1</td>\n",
       "      <td>0</td>\n",
       "      <td>1</td>\n",
       "      <td>0</td>\n",
       "      <td>1</td>\n",
       "    </tr>\n",
       "    <tr>\n",
       "      <th>4</th>\n",
       "      <td>62</td>\n",
       "      <td>148</td>\n",
       "      <td>50</td>\n",
       "      <td>0</td>\n",
       "      <td>1</td>\n",
       "      <td>0</td>\n",
       "      <td>1</td>\n",
       "      <td>1</td>\n",
       "      <td>0</td>\n",
       "      <td>1</td>\n",
       "      <td>1</td>\n",
       "    </tr>\n",
       "  </tbody>\n",
       "</table>\n",
       "</div>"
      ],
      "text/plain": [
       "   Age  Cholesterol  Trait_Anxiety  Marital_Status_1  Marital_Status_2  \\\n",
       "0   61          139             50                 0                 0   \n",
       "1   55          163             40                 0                 1   \n",
       "2   53          172             55                 1                 0   \n",
       "3   58          206             70                 1                 0   \n",
       "4   62          148             50                 0                 1   \n",
       "\n",
       "   Marital_Status_3  Gender_1  Weight_Category_1  Weight_Category_2  \\\n",
       "0                 0         1                  1                  0   \n",
       "1                 0         1                  0                  1   \n",
       "2                 0         1                  1                  0   \n",
       "3                 0         1                  0                  1   \n",
       "4                 0         1                  1                  0   \n",
       "\n",
       "   Stress_Management_1  predicted Y  \n",
       "0                    1            0  \n",
       "1                    0            1  \n",
       "2                    0            0  \n",
       "3                    0            1  \n",
       "4                    1            1  "
      ]
     },
     "execution_count": 39,
     "metadata": {},
     "output_type": "execute_result"
    }
   ],
   "source": [
    "#finally ...\n",
    "data1 = score.join(predictedY) \n",
    "data1.head()"
   ]
  },
  {
   "cell_type": "code",
   "execution_count": 40,
   "metadata": {},
   "outputs": [
    {
     "data": {
      "text/html": [
       "<div>\n",
       "<style scoped>\n",
       "    .dataframe tbody tr th:only-of-type {\n",
       "        vertical-align: middle;\n",
       "    }\n",
       "\n",
       "    .dataframe tbody tr th {\n",
       "        vertical-align: top;\n",
       "    }\n",
       "\n",
       "    .dataframe thead th {\n",
       "        text-align: right;\n",
       "    }\n",
       "</style>\n",
       "<table border=\"1\" class=\"dataframe\">\n",
       "  <thead>\n",
       "    <tr style=\"text-align: right;\">\n",
       "      <th></th>\n",
       "      <th>Age</th>\n",
       "      <th>Cholesterol</th>\n",
       "      <th>Trait_Anxiety</th>\n",
       "      <th>Marital_Status_1</th>\n",
       "      <th>Marital_Status_2</th>\n",
       "      <th>Marital_Status_3</th>\n",
       "      <th>Gender_1</th>\n",
       "      <th>Weight_Category_1</th>\n",
       "      <th>Weight_Category_2</th>\n",
       "      <th>Stress_Management_1</th>\n",
       "      <th>predicted Y</th>\n",
       "    </tr>\n",
       "  </thead>\n",
       "  <tbody>\n",
       "    <tr>\n",
       "      <th>345</th>\n",
       "      <td>68</td>\n",
       "      <td>170</td>\n",
       "      <td>60</td>\n",
       "      <td>0</td>\n",
       "      <td>1</td>\n",
       "      <td>0</td>\n",
       "      <td>1</td>\n",
       "      <td>1</td>\n",
       "      <td>0</td>\n",
       "      <td>0</td>\n",
       "      <td>1</td>\n",
       "    </tr>\n",
       "    <tr>\n",
       "      <th>380</th>\n",
       "      <td>60</td>\n",
       "      <td>150</td>\n",
       "      <td>50</td>\n",
       "      <td>0</td>\n",
       "      <td>1</td>\n",
       "      <td>0</td>\n",
       "      <td>1</td>\n",
       "      <td>1</td>\n",
       "      <td>0</td>\n",
       "      <td>1</td>\n",
       "      <td>1</td>\n",
       "    </tr>\n",
       "    <tr>\n",
       "      <th>401</th>\n",
       "      <td>66</td>\n",
       "      <td>174</td>\n",
       "      <td>60</td>\n",
       "      <td>0</td>\n",
       "      <td>1</td>\n",
       "      <td>0</td>\n",
       "      <td>1</td>\n",
       "      <td>1</td>\n",
       "      <td>0</td>\n",
       "      <td>0</td>\n",
       "      <td>1</td>\n",
       "    </tr>\n",
       "    <tr>\n",
       "      <th>399</th>\n",
       "      <td>54</td>\n",
       "      <td>162</td>\n",
       "      <td>40</td>\n",
       "      <td>0</td>\n",
       "      <td>1</td>\n",
       "      <td>0</td>\n",
       "      <td>1</td>\n",
       "      <td>0</td>\n",
       "      <td>1</td>\n",
       "      <td>0</td>\n",
       "      <td>1</td>\n",
       "    </tr>\n",
       "    <tr>\n",
       "      <th>398</th>\n",
       "      <td>71</td>\n",
       "      <td>173</td>\n",
       "      <td>60</td>\n",
       "      <td>0</td>\n",
       "      <td>1</td>\n",
       "      <td>0</td>\n",
       "      <td>1</td>\n",
       "      <td>1</td>\n",
       "      <td>0</td>\n",
       "      <td>0</td>\n",
       "      <td>1</td>\n",
       "    </tr>\n",
       "    <tr>\n",
       "      <th>...</th>\n",
       "      <td>...</td>\n",
       "      <td>...</td>\n",
       "      <td>...</td>\n",
       "      <td>...</td>\n",
       "      <td>...</td>\n",
       "      <td>...</td>\n",
       "      <td>...</td>\n",
       "      <td>...</td>\n",
       "      <td>...</td>\n",
       "      <td>...</td>\n",
       "      <td>...</td>\n",
       "    </tr>\n",
       "    <tr>\n",
       "      <th>404</th>\n",
       "      <td>67</td>\n",
       "      <td>169</td>\n",
       "      <td>60</td>\n",
       "      <td>1</td>\n",
       "      <td>0</td>\n",
       "      <td>0</td>\n",
       "      <td>1</td>\n",
       "      <td>0</td>\n",
       "      <td>0</td>\n",
       "      <td>0</td>\n",
       "      <td>0</td>\n",
       "    </tr>\n",
       "    <tr>\n",
       "      <th>403</th>\n",
       "      <td>61</td>\n",
       "      <td>140</td>\n",
       "      <td>45</td>\n",
       "      <td>0</td>\n",
       "      <td>1</td>\n",
       "      <td>0</td>\n",
       "      <td>1</td>\n",
       "      <td>0</td>\n",
       "      <td>0</td>\n",
       "      <td>1</td>\n",
       "      <td>0</td>\n",
       "    </tr>\n",
       "    <tr>\n",
       "      <th>146</th>\n",
       "      <td>54</td>\n",
       "      <td>123</td>\n",
       "      <td>45</td>\n",
       "      <td>0</td>\n",
       "      <td>0</td>\n",
       "      <td>1</td>\n",
       "      <td>0</td>\n",
       "      <td>0</td>\n",
       "      <td>0</td>\n",
       "      <td>1</td>\n",
       "      <td>0</td>\n",
       "    </tr>\n",
       "    <tr>\n",
       "      <th>147</th>\n",
       "      <td>52</td>\n",
       "      <td>174</td>\n",
       "      <td>35</td>\n",
       "      <td>1</td>\n",
       "      <td>0</td>\n",
       "      <td>0</td>\n",
       "      <td>0</td>\n",
       "      <td>0</td>\n",
       "      <td>0</td>\n",
       "      <td>1</td>\n",
       "      <td>0</td>\n",
       "    </tr>\n",
       "    <tr>\n",
       "      <th>0</th>\n",
       "      <td>61</td>\n",
       "      <td>139</td>\n",
       "      <td>50</td>\n",
       "      <td>0</td>\n",
       "      <td>0</td>\n",
       "      <td>0</td>\n",
       "      <td>1</td>\n",
       "      <td>1</td>\n",
       "      <td>0</td>\n",
       "      <td>1</td>\n",
       "      <td>0</td>\n",
       "    </tr>\n",
       "  </tbody>\n",
       "</table>\n",
       "<p>690 rows × 11 columns</p>\n",
       "</div>"
      ],
      "text/plain": [
       "     Age  Cholesterol  Trait_Anxiety  Marital_Status_1  Marital_Status_2  \\\n",
       "345   68          170             60                 0                 1   \n",
       "380   60          150             50                 0                 1   \n",
       "401   66          174             60                 0                 1   \n",
       "399   54          162             40                 0                 1   \n",
       "398   71          173             60                 0                 1   \n",
       "..   ...          ...            ...               ...               ...   \n",
       "404   67          169             60                 1                 0   \n",
       "403   61          140             45                 0                 1   \n",
       "146   54          123             45                 0                 0   \n",
       "147   52          174             35                 1                 0   \n",
       "0     61          139             50                 0                 0   \n",
       "\n",
       "     Marital_Status_3  Gender_1  Weight_Category_1  Weight_Category_2  \\\n",
       "345                 0         1                  1                  0   \n",
       "380                 0         1                  1                  0   \n",
       "401                 0         1                  1                  0   \n",
       "399                 0         1                  0                  1   \n",
       "398                 0         1                  1                  0   \n",
       "..                ...       ...                ...                ...   \n",
       "404                 0         1                  0                  0   \n",
       "403                 0         1                  0                  0   \n",
       "146                 1         0                  0                  0   \n",
       "147                 0         0                  0                  0   \n",
       "0                   0         1                  1                  0   \n",
       "\n",
       "     Stress_Management_1  predicted Y  \n",
       "345                    0            1  \n",
       "380                    1            1  \n",
       "401                    0            1  \n",
       "399                    0            1  \n",
       "398                    0            1  \n",
       "..                   ...          ...  \n",
       "404                    0            0  \n",
       "403                    1            0  \n",
       "146                    1            0  \n",
       "147                    1            0  \n",
       "0                      1            0  \n",
       "\n",
       "[690 rows x 11 columns]"
      ]
     },
     "execution_count": 40,
     "metadata": {},
     "output_type": "execute_result"
    }
   ],
   "source": [
    "data1.sort_values('predicted Y', ascending=False)"
   ]
  },
  {
   "cell_type": "markdown",
   "metadata": {
    "colab_type": "text",
    "id": "HUOYv6Acbz4W"
   },
   "source": [
    "2nd person (a 55 years old male) is likely to have 2nd heart attack"
   ]
  },
  {
   "cell_type": "code",
   "execution_count": 41,
   "metadata": {
    "colab": {},
    "colab_type": "code",
    "id": "vsiYST4Wbz4X"
   },
   "outputs": [],
   "source": [
    "data1.to_csv(\"data/output_risky_patients.csv\")"
   ]
  },
  {
   "cell_type": "markdown",
   "metadata": {},
   "source": [
    "# Appendixes "
   ]
  },
  {
   "cell_type": "markdown",
   "metadata": {
    "colab_type": "text",
    "id": "1FvluXO5bz4a"
   },
   "source": [
    "## 10 fold cross validation\n",
    "\n",
    "We have used split validataion (training set and testing set) to build predictive models and test their quality. There is another option called 10 folder cross validation.\n",
    "\n",
    "#### Split validation\n",
    "* X_train, X_test, y_train, y_test = train_test_split(X, y, test_size=0.3, random_state=0)\n",
    "* 70% of the data for �training� (or building) a supervised learning model and 30% of the data for �testing� the quality of the model\n",
    "\n",
    "* Let's consider an exmple\n",
    "    * X value = Size ; y value = Price \n",
    "<img src=\"http://www.holehouse.org/mlclass/10_Advice_for_applying_machine_learning_files/Image%20[1].png\">\n",
    "\n",
    "<img src=\"http://www.developer.com/imagesvr_ce/6793/ML4.png\">\n",
    "\n",
    "#### Cross validation (CV) or 10-fold CV\n",
    "* The basic idea is that, rather than testing the model quality **only once**, cross validation (or 10-fold CV) tests the model **10 times** with 10 different testing datasets.\n",
    "##### How?\n",
    "* The training (or original) dataset is randomly partitioned into 10 equal sized subsamples (see the figure below). \n",
    "* At each time, one subsample is set aside as the **testing** or **validation dataset** and the other 9 subsamples are used as the training dataset. \n",
    "* A model is built using the training dataset and tested with the testing dataset. This is done 10 times. \n",
    "* This leads to 10 evaluation scores (mean squared error). The final score is based on the average of the scores.\n",
    "\n",
    "<img src=\"https://chrisjmccormick.files.wordpress.com/2013/07/10_fold_cv.png\">"
   ]
  },
  {
   "cell_type": "code",
   "execution_count": 42,
   "metadata": {
    "colab": {},
    "colab_type": "code",
    "id": "jI9tOVDtbz4c"
   },
   "outputs": [
    {
     "name": "stdout",
     "output_type": "stream",
     "text": [
      "[0.92857143 0.85714286 1.         1.         0.78571429 0.92857143\n",
      " 1.         0.92857143 1.         1.        ]\n",
      "0.9428571428571428\n"
     ]
    }
   ],
   "source": [
    "# evaluate the decision tree model using 10-fold cross-validation\n",
    "\n",
    "# initialize decision tree algorithm (without fitting)\n",
    "\n",
    "scores = cross_val_score(DecisionTreeClassifier(), X, y, scoring='accuracy', cv=10)\n",
    "print(scores)\n",
    "print(scores.mean())"
   ]
  },
  {
   "cell_type": "code",
   "execution_count": 43,
   "metadata": {},
   "outputs": [
    {
     "name": "stdout",
     "output_type": "stream",
     "text": [
      "Accuracy: 0.94 (+/- 0.14)\n"
     ]
    }
   ],
   "source": [
    "# https://scikit-learn.org/stable/modules/cross_validation.html\n",
    "#The mean score and the 95% confidence interval of the score estimate are hence given by:\n",
    "print(\"Accuracy: %0.2f (+/- %0.2f)\" % (scores.mean(), scores.std() * 2))"
   ]
  },
  {
   "cell_type": "markdown",
   "metadata": {
    "colab_type": "text",
    "id": "ZyGXMmk0bz4m"
   },
   "source": [
    "## Random Forest (Ensemble model): Very Important !!!\n",
    "\n",
    "- This is like **getting opionions from multiple doctors**, not one doctor, for medical diagnosis\n",
    "- Building **multiple decision trees (ensembled decision trees) with the purpose to improve the model accuracy**\n",
    "- **RandomForestClassifier**(n_estimators=10, max_depth=None, min_samples_split=1, random_state=0)\n",
    "    - n_estimators = the number of **decision trees** in the forest \n",
    "- **Combining different opionions is likely to lead to high accuracy**. \n",
    "- The winners of some recent industry data anlytics competitions (e.g., Kaggle.com) happened to use **random forest**. A recent paper \"[(Do We Need Hundreds of Classifiers to Solve Real World Classification Problems?)](http://jmlr.csail.mit.edu/papers/volume15/delgado14a/delgado14a.pdf)\" published in the Journal of Machine Learning Research shows:\n",
    "\n",
    "> **Ensembled decision tree (Random Forest) performs the best for most classification problems.**\n",
    "\n",
    "- \"blackbox\" algorithm: a drawback ...\n",
    "\n",
    "<img src = 'http://res.cloudinary.com/dyd911kmh/image/upload/f_auto,q_auto:best/v1526467744/voting_dnjweq.jpg'>\n"
   ]
  },
  {
   "cell_type": "code",
   "execution_count": 44,
   "metadata": {
    "colab": {},
    "colab_type": "code",
    "id": "peHcSJLCbz4p"
   },
   "outputs": [
    {
     "data": {
      "text/plain": [
       "0.9523809523809523"
      ]
     },
     "execution_count": 44,
     "metadata": {},
     "output_type": "execute_result"
    }
   ],
   "source": [
    "from sklearn.ensemble import RandomForestClassifier\n",
    "\n",
    "clf = RandomForestClassifier(n_estimators=20)    #building 20 decision trees\n",
    "clf=clf.fit(X_train, y_train)\n",
    "clf.score(X_test, y_test)"
   ]
  },
  {
   "cell_type": "code",
   "execution_count": 45,
   "metadata": {
    "colab": {},
    "colab_type": "code",
    "id": "qqfdSc-pbz4q"
   },
   "outputs": [
    {
     "name": "stdout",
     "output_type": "stream",
     "text": [
      "0.9523809523809523\n",
      "[[18  1]\n",
      " [ 1 22]]\n",
      "              precision    recall  f1-score   support\n",
      "\n",
      "           0       0.95      0.95      0.95        19\n",
      "           1       0.96      0.96      0.96        23\n",
      "\n",
      "    accuracy                           0.95        42\n",
      "   macro avg       0.95      0.95      0.95        42\n",
      "weighted avg       0.95      0.95      0.95        42\n",
      "\n"
     ]
    }
   ],
   "source": [
    "# generate evaluation metrics\n",
    "print(metrics.accuracy_score(y_test, clf.predict(X_test))) #overall accuracy\n",
    "print(metrics.confusion_matrix(y_test, clf.predict(X_test)))\n",
    "print(metrics.classification_report(y_test, clf.predict(X_test)))"
   ]
  },
  {
   "cell_type": "markdown",
   "metadata": {
    "colab_type": "text",
    "id": "ilgp6WpUbz4t"
   },
   "source": [
    "> #### Feature Selection (or Feature Engineering): Selecting important variables"
   ]
  },
  {
   "cell_type": "markdown",
   "metadata": {
    "colab_type": "text",
    "id": "vOs0rKeAbz4w"
   },
   "source": [
    "Marital_Status_2 and age appear to be two most important predictors."
   ]
  },
  {
   "cell_type": "code",
   "execution_count": 46,
   "metadata": {
    "colab": {},
    "colab_type": "code",
    "id": "EejOmOtdbz4x"
   },
   "outputs": [
    {
     "data": {
      "text/html": [
       "<div>\n",
       "<style scoped>\n",
       "    .dataframe tbody tr th:only-of-type {\n",
       "        vertical-align: middle;\n",
       "    }\n",
       "\n",
       "    .dataframe tbody tr th {\n",
       "        vertical-align: top;\n",
       "    }\n",
       "\n",
       "    .dataframe thead th {\n",
       "        text-align: right;\n",
       "    }\n",
       "</style>\n",
       "<table border=\"1\" class=\"dataframe\">\n",
       "  <thead>\n",
       "    <tr style=\"text-align: right;\">\n",
       "      <th></th>\n",
       "      <th>importance</th>\n",
       "    </tr>\n",
       "  </thead>\n",
       "  <tbody>\n",
       "    <tr>\n",
       "      <th>Age</th>\n",
       "      <td>0.227724</td>\n",
       "    </tr>\n",
       "    <tr>\n",
       "      <th>Cholesterol</th>\n",
       "      <td>0.211627</td>\n",
       "    </tr>\n",
       "    <tr>\n",
       "      <th>Marital_Status_2</th>\n",
       "      <td>0.200718</td>\n",
       "    </tr>\n",
       "    <tr>\n",
       "      <th>Weight_Category_2</th>\n",
       "      <td>0.127144</td>\n",
       "    </tr>\n",
       "    <tr>\n",
       "      <th>Trait_Anxiety</th>\n",
       "      <td>0.091932</td>\n",
       "    </tr>\n",
       "    <tr>\n",
       "      <th>Marital_Status_1</th>\n",
       "      <td>0.051845</td>\n",
       "    </tr>\n",
       "    <tr>\n",
       "      <th>Stress_Management_1</th>\n",
       "      <td>0.030937</td>\n",
       "    </tr>\n",
       "    <tr>\n",
       "      <th>Marital_Status_3</th>\n",
       "      <td>0.030613</td>\n",
       "    </tr>\n",
       "    <tr>\n",
       "      <th>Gender_1</th>\n",
       "      <td>0.016736</td>\n",
       "    </tr>\n",
       "    <tr>\n",
       "      <th>Weight_Category_1</th>\n",
       "      <td>0.010723</td>\n",
       "    </tr>\n",
       "  </tbody>\n",
       "</table>\n",
       "</div>"
      ],
      "text/plain": [
       "                     importance\n",
       "Age                    0.227724\n",
       "Cholesterol            0.211627\n",
       "Marital_Status_2       0.200718\n",
       "Weight_Category_2      0.127144\n",
       "Trait_Anxiety          0.091932\n",
       "Marital_Status_1       0.051845\n",
       "Stress_Management_1    0.030937\n",
       "Marital_Status_3       0.030613\n",
       "Gender_1               0.016736\n",
       "Weight_Category_1      0.010723"
      ]
     },
     "execution_count": 46,
     "metadata": {},
     "output_type": "execute_result"
    }
   ],
   "source": [
    "# another method\n",
    "pd.DataFrame(clf.feature_importances_, index = X.columns,\n",
    "                                    columns=['importance']).sort_values('importance', ascending=False)"
   ]
  },
  {
   "cell_type": "code",
   "execution_count": 47,
   "metadata": {
    "colab": {},
    "colab_type": "code",
    "id": "n90mA660bz4y"
   },
   "outputs": [
    {
     "data": {
      "image/png": "[encoded data removed]",
      "text/plain": [
       "<Figure size 432x288 with 1 Axes>"
      ]
     },
     "metadata": {
      "needs_background": "light"
     },
     "output_type": "display_data"
    }
   ],
   "source": [
    "pd.DataFrame(clf.feature_importances_, index = X.columns,\n",
    "                                    columns=['importance']).sort_values('importance', ascending=False).plot(kind='barh', \n",
    "                                                                                                            legend=None);"
   ]
  },
  {
   "cell_type": "code",
   "execution_count": 48,
   "metadata": {
    "colab": {},
    "colab_type": "code",
    "id": "hlR9crqlbz4z"
   },
   "outputs": [
    {
     "data": {
      "text/plain": [
       "array([[0.9 , 0.1 ],\n",
       "       [0.  , 1.  ],\n",
       "       [1.  , 0.  ],\n",
       "       [1.  , 0.  ],\n",
       "       [0.05, 0.95],\n",
       "       [0.95, 0.05],\n",
       "       [0.05, 0.95],\n",
       "       [0.05, 0.95],\n",
       "       [0.  , 1.  ],\n",
       "       [1.  , 0.  ],\n",
       "       [0.  , 1.  ],\n",
       "       [0.05, 0.95],\n",
       "       [0.  , 1.  ],\n",
       "       [0.95, 0.05],\n",
       "       [0.85, 0.15],\n",
       "       [0.1 , 0.9 ],\n",
       "       [0.15, 0.85],\n",
       "       [0.  , 1.  ],\n",
       "       [0.9 , 0.1 ],\n",
       "       [0.05, 0.95],\n",
       "       [0.  , 1.  ],\n",
       "       [1.  , 0.  ],\n",
       "       [1.  , 0.  ],\n",
       "       [0.85, 0.15],\n",
       "       [0.05, 0.95],\n",
       "       [0.05, 0.95],\n",
       "       [0.15, 0.85],\n",
       "       [0.95, 0.05],\n",
       "       [0.95, 0.05],\n",
       "       [0.  , 1.  ],\n",
       "       [0.9 , 0.1 ],\n",
       "       [1.  , 0.  ],\n",
       "       [0.1 , 0.9 ],\n",
       "       [1.  , 0.  ],\n",
       "       [0.  , 1.  ],\n",
       "       [1.  , 0.  ],\n",
       "       [0.  , 1.  ],\n",
       "       [0.05, 0.95],\n",
       "       [0.15, 0.85],\n",
       "       [0.95, 0.05],\n",
       "       [0.45, 0.55],\n",
       "       [1.  , 0.  ]])"
      ]
     },
     "execution_count": 48,
     "metadata": {},
     "output_type": "execute_result"
    }
   ],
   "source": [
    "#Predict class probabilities for X\n",
    "clf.predict_proba(X_test)\n",
    "# 1st value: the probability of NO\n",
    "# 2nd value: the probability of YES (2nd heart attack)"
   ]
  },
  {
   "cell_type": "markdown",
   "metadata": {
    "colab_type": "text",
    "id": "m3hT3pUFbz40"
   },
   "source": [
    "#### Make predictions on the new dataset (scoring dataset without y value)"
   ]
  },
  {
   "cell_type": "code",
   "execution_count": 49,
   "metadata": {
    "colab": {},
    "colab_type": "code",
    "id": "nMshzAVTbz41"
   },
   "outputs": [],
   "source": [
    "score=pd.read_csv(\"data/heartattack_scoring.csv\")\n",
    "score =  pd.get_dummies(score, columns=[\"Marital_Status\", \"Gender\", \"Weight_Category\", \"Stress_Management\"],\n",
    "                         prefix=[\"Marital_Status\", \"Gender\", \"Weight_Category\", \"Stress_Management\"],\n",
    "                         drop_first=True)\n",
    "output_scoring = clf.predict(score)\n",
    "predicted_y= pd.DataFrame(output_scoring, columns=['Predicted 2nd Heart Attack'])\n",
    "\n",
    "probs = clf.predict_proba(score)\n",
    "probs = pd.DataFrame(probs, columns=['prob of NO', 'prob of YES'])\n",
    "\n",
    "risky_patients = predicted_y.join(probs)\n",
    "\n",
    "risky_patients.to_csv(\"data/output_heartattack_RandomForest_ScoringDataset.csv\")"
   ]
  },
  {
   "cell_type": "markdown",
   "metadata": {
    "colab_type": "text",
    "id": "hqtShkJ3bz42"
   },
   "source": [
    "## Model Evaluation with Receiver Operating Characteristic (ROC)\n",
    "* In addition to confusion matrix, this is another method to evaluate classifier output quality\n",
    "* True positive rate on the Y axis and false positive rate on the X axis (the top left corner of the plot is �ideal point�)\n",
    "* The steeper the curve is, the better the classifier quality is\n",
    "* In general, high quality model leads to a steeper curve\n",
    "\n",
    "### ROC & AUC Score\n",
    "\n",
    "- TPR on the Y axis\n",
    "- FPR on the X axis\n",
    "- High TPR --> High model accuracy\n",
    "- High FPR --> Poor model accuracy\n",
    "- Therefore, a steeper curve indicates a good model performance\n",
    "\n",
    "### Examples\n",
    "<img src = \"http://gim.unmc.edu/dxtests/roccomp.jpg\">"
   ]
  },
  {
   "cell_type": "code",
   "execution_count": 50,
   "metadata": {},
   "outputs": [
    {
     "data": {
      "image/png": "[encoded data removed]",
      "text/plain": [
       "<Figure size 432x288 with 1 Axes>"
      ]
     },
     "metadata": {
      "needs_background": "light"
     },
     "output_type": "display_data"
    }
   ],
   "source": [
    "# calculate the fpr and tpr for all thresholds of the classification\n",
    "\n",
    "preds = dt.predict_proba(X_test)[:,1]\n",
    "fpr, tpr, threshold = metrics.roc_curve(y_test, preds)\n",
    "roc_auc = metrics.auc(fpr, tpr)\n",
    "\n",
    "# method I: plt\n",
    "import matplotlib.pyplot as plt\n",
    "plt.title('Receiver Operating Characteristic')\n",
    "plt.plot(fpr, tpr, 'b', label = 'AUC = %0.2f' % roc_auc)\n",
    "plt.legend(loc = 'lower right')\n",
    "plt.plot([0, 1], [0, 1],'r--')\n",
    "plt.xlim([0, 1])\n",
    "plt.ylim([0, 1])\n",
    "plt.ylabel('True Positive Rate')\n",
    "plt.xlabel('False Positive Rate')\n",
    "plt.show()"
   ]
  },
  {
   "cell_type": "code",
   "execution_count": 51,
   "metadata": {},
   "outputs": [
    {
     "name": "stdout",
     "output_type": "stream",
     "text": [
      "False-positive rate: [0.         0.05263158 1.        ]\n",
      "True-positive rate:  [0.         0.91304348 1.        ]\n",
      "AUC score:  0.9302059496567506\n"
     ]
    }
   ],
   "source": [
    "print(\"False-positive rate:\", fpr)\n",
    "print(\"True-positive rate: \", tpr)\n",
    "print(\"AUC score: \", metrics.roc_auc_score(y_test, dt.predict(X_test)))"
   ]
  },
  {
   "cell_type": "markdown",
   "metadata": {
    "colab_type": "text",
    "id": "NdVLUb3Bbz44"
   },
   "source": [
    "- **Yes. ROC chart shows that 5% FPR & 91.3% TPR**\n",
    "- **And, AUC is 0.93**\n",
    "\n",
    "#### AUC (Area Under Curve), perhaps the most widely used measure, is considered more important than accuracy (confusion matrix)"
   ]
  },
  {
   "cell_type": "markdown",
   "metadata": {
    "colab_type": "text",
    "id": "KukF7JOYbz45"
   },
   "source": [
    "## Decision Tree Algorithm"
   ]
  },
  {
   "cell_type": "markdown",
   "metadata": {
    "colab_type": "text",
    "id": "WOsckRszbz45"
   },
   "source": [
    "CART (Calssification And Regression Tree) is the default decision tree classication algorithm in scikit learn. \n",
    "\n",
    "The goal of this algorithm is **to minimize impurity in nodes** (in other words, to maximize purity in nodes).\n",
    "\n",
    "<img src=\"images\\gini.png\">\n",
    "\n",
    "where Gini score is the degree of **impurity**"
   ]
  },
  {
   "cell_type": "markdown",
   "metadata": {
    "colab_type": "text",
    "id": "k8MrQHS8bz46"
   },
   "source": [
    "Consider an example below:\n",
    "<img src=\"images\\dt1.gif\">\n",
    "\n",
    "9 observations in the dataset. \n",
    "- **Before split,** \n",
    "    - **the box contains 5 poor creditors and 4 good creditors.**\n",
    "    - **Gini impurity = 1 - (5/9)^2 - (4/9)^2  = 0.5 (this is the maxium impurity)**\n",
    "\n",
    "\n",
    "The best way to minimize impurity is below:\n",
    "<img src=\"images\\dt2.gif\">\n",
    "\n",
    "- **After split,** \n",
    "    - the left node contains 5 poor creditors and 0 good creditors: **Gini impurity of the left node = 1 - (5/5)^2 - (0/5)^2  = 0 (this is the minimum impurity)**\n",
    "    - the right node contains 0 poor creditors and 4 good creditors: **Gini impurity of the right node = 1 - (0/4)^2 - (4/4)^2  = 0 (this is the minimum impurity)**\n",
    "    - **The weighted Gini = (5/9)*0 + (4/9)*0 = 0**\n",
    "    - This is an example of perfect classification :)"
   ]
  },
  {
   "cell_type": "markdown",
   "metadata": {
    "colab_type": "text",
    "id": "u5ECRzaUbz46"
   },
   "source": [
    "#### Let's consider another example:\n",
    "<img src=\"images\\dt3.gif\">\n",
    "\n",
    "42 observations in the dataset: 22 people with passing grade & 20 people with failing grade  \n",
    "- **Before split,** \n",
    "    - the large retangle contains 5 poor creditors and 4 good creditors.**\n",
    "    - **Gini impurity = 1 - (20/42)^2 - (22/42)^2  = 0.5 (this is the maxium impurity)**\n",
    "\n",
    "#### How about this split?\n",
    "<img src=\"images\\dt4.gif\">\n",
    "\n",
    "- **After 1st split,** \n",
    "    - the left retangle contains 19 fails and 3 pass: **Gini impurity of the left node = 1 - (19/22)^2 - (3/22)^2  = 0.23**\n",
    "    - the right retangle contains 1 fail and 19 passes: **Gini impurity of the right node = 1 - (1/20)^2 - (19/20)^2  = 0.095**\n",
    "    - **The weighted Gini = (22/42)*0.23 + (20/42)*0.095 = 0.165**\n",
    "\n",
    "- **After 2nd split,** \n",
    "    - the top left retangle contains 1 fail and 3 pass: **Gini impurity of the left node = 1 - (1/4)^2 - (3/4)^2  = 0.375**\n",
    "    - the bottom left retangle contains 18 fails and 0 pass: **Gini impurity of the left node = 1 - (18/18)^2 - (0/18)^2  = 0**\n",
    "    - the right retangle contains 1 fail and 19 passes: **Gini impurity of the right node = 1 - (1/20)^2 - (19/20)^2  = 0.095**\n",
    "    - **The weighted Gini = (4/42)*0.375 + (18/42)*0 + (20/42)*0.095 = 0.080**"
   ]
  },
  {
   "cell_type": "markdown",
   "metadata": {},
   "source": [
    "<hr>"
   ]
  },
  {
   "cell_type": "code",
   "execution_count": 52,
   "metadata": {},
   "outputs": [
    {
     "data": {
      "image/jpeg": "[encoded data removed]",
      "text/html": [
       "\n",
       "        <iframe\n",
       "            width=\"400\"\n",
       "            height=\"300\"\n",
       "            src=\"https://www.youtube.com/embed/VlOxlSOr3_M\"\n",
       "            frameborder=\"0\"\n",
       "            allowfullscreen\n",
       "        ></iframe>\n",
       "        "
      ],
      "text/plain": [
       "<IPython.lib.display.YouTubeVideo at 0x12b000de3d0>"
      ]
     },
     "execution_count": 52,
     "metadata": {},
     "output_type": "execute_result"
    }
   ],
   "source": [
    "# just for fun!\n",
    "\n",
    "# Telekinetic Coffee Shop Surprise \n",
    "\n",
    "from IPython.display import YouTubeVideo\n",
    "YouTubeVideo('VlOxlSOr3_M')"
   ]
  },
  {
   "cell_type": "markdown",
   "metadata": {
    "colab_type": "text",
    "id": "2VBn5NtYbz5I"
   },
   "source": [
    "# k-Nearest Neighbor (KNN) \n",
    "This algorithm is quite easy understand. Let's suppose the training data contains two $y$ values: class A and class B. All training data belong to either **class A (orange) or class B (blue)**. \n",
    "\n",
    "<img src=\"http://bdewilde.github.io/assets/images/2012-10-26-knn-concept.png\">\n",
    "\n",
    "When an unknown data (**star**) is given, a KNN algorithm searches the feature space for the k number of data that are closest to the training data. When k=3, the star is close to one orange circle and two blue circles and thus it is classified as **blue**. At k=6, the star will be classified as **orange**."
   ]
  },
  {
   "cell_type": "code",
   "execution_count": 53,
   "metadata": {},
   "outputs": [
    {
     "data": {
      "text/plain": [
       "KNeighborsClassifier()"
      ]
     },
     "execution_count": 53,
     "metadata": {},
     "output_type": "execute_result"
    }
   ],
   "source": [
    "# evaluate the model by splitting into train and test sets & develop knn model (name it as knn)\n",
    "\n",
    "X_train, X_test, y_train, y_test = train_test_split(X, y, test_size=0.3, random_state=0)\n",
    "knn = KNeighborsClassifier()\n",
    "knn.fit(X_train, y_train)"
   ]
  },
  {
   "cell_type": "code",
   "execution_count": 54,
   "metadata": {},
   "outputs": [
    {
     "name": "stdout",
     "output_type": "stream",
     "text": [
      "0.8333333333333334\n",
      "--------------------------------------------------------\n",
      "[[16  3]\n",
      " [ 4 19]]\n",
      "--------------------------------------------------------\n",
      "              precision    recall  f1-score   support\n",
      "\n",
      "           0       0.80      0.84      0.82        19\n",
      "           1       0.86      0.83      0.84        23\n",
      "\n",
      "    accuracy                           0.83        42\n",
      "   macro avg       0.83      0.83      0.83        42\n",
      "weighted avg       0.83      0.83      0.83        42\n",
      "\n",
      "--------------------------------------------------------\n",
      "0.8340961098398169\n"
     ]
    }
   ],
   "source": [
    "#Model evaluation\n",
    "# http://scikit-learn.org/stable/modules/model_evaluation.html\n",
    "\n",
    "print(metrics.accuracy_score(y_test, knn.predict(X_test)))\n",
    "print(\"--------------------------------------------------------\")\n",
    "print(metrics.confusion_matrix(y_test, knn.predict(X_test))) \n",
    "print(\"--------------------------------------------------------\")\n",
    "print(metrics.classification_report(y_test, knn.predict(X_test)))\n",
    "print(\"--------------------------------------------------------\")\n",
    "print(metrics.roc_auc_score(y_test, knn.predict(X_test)))"
   ]
  },
  {
   "cell_type": "markdown",
   "metadata": {
    "colab_type": "text",
    "id": "mZmTmlacbz5N"
   },
   "source": [
    "### Appendix 1: 10 fold cross validation"
   ]
  },
  {
   "cell_type": "code",
   "execution_count": 55,
   "metadata": {
    "colab": {},
    "colab_type": "code",
    "id": "WYv9Mmjmbz5N"
   },
   "outputs": [
    {
     "name": "stdout",
     "output_type": "stream",
     "text": [
      "[0.85714286 0.85714286 0.92857143 1.         0.78571429 0.92857143\n",
      " 1.         0.85714286 0.92307692 1.        ]\n",
      "0.9137362637362637\n"
     ]
    }
   ],
   "source": [
    "# evaluate the knn model using 10-fold cross-validation\n",
    "\n",
    "scores = cross_val_score(KNeighborsClassifier(), X, y, scoring='accuracy', cv=10)\n",
    "print(scores)\n",
    "print(scores.mean())"
   ]
  },
  {
   "cell_type": "markdown",
   "metadata": {
    "colab_type": "text",
    "id": "4mYaEyP9bz5P"
   },
   "source": [
    "### Appendix 2: Search for the optimal k value (GridSearch)"
   ]
  },
  {
   "cell_type": "code",
   "execution_count": 56,
   "metadata": {},
   "outputs": [
    {
     "data": {
      "text/plain": [
       "GridSearchCV(cv=5, estimator=KNeighborsClassifier(),\n",
       "             param_grid={'n_neighbors': array([ 1,  2,  3,  4,  5,  6,  7,  8,  9, 10, 11, 12, 13, 14, 15, 16, 17,\n",
       "       18, 19, 20, 21, 22, 23, 24])})"
      ]
     },
     "execution_count": 56,
     "metadata": {},
     "output_type": "execute_result"
    }
   ],
   "source": [
    "#create a dictionary of all values we want to test for n_neighbors\n",
    "params_knn = {'n_neighbors': np.arange(1, 25)}\n",
    "\n",
    "#use gridsearch to test all values for n_neighbors\n",
    "knn_gs = GridSearchCV(knn, params_knn, cv=5)\n",
    "\n",
    "#fit model to training data\n",
    "knn_gs.fit(X_train, y_train)"
   ]
  },
  {
   "cell_type": "code",
   "execution_count": 57,
   "metadata": {},
   "outputs": [
    {
     "name": "stdout",
     "output_type": "stream",
     "text": [
      "0.958421052631579\n",
      "{'n_neighbors': 1}\n",
      "KNeighborsClassifier(n_neighbors=1)\n"
     ]
    }
   ],
   "source": [
    "#save best model\n",
    "knn_best = knn_gs.best_estimator_\n",
    "\n",
    "#check best n_neigbors value\n",
    "print(knn_gs.best_score_)\n",
    "print(knn_gs.best_params_)\n",
    "print(knn_gs.best_estimator_)"
   ]
  },
  {
   "cell_type": "markdown",
   "metadata": {
    "colab_type": "text",
    "id": "M9vJN5SDbz5X"
   },
   "source": [
    "### Appendix 3: Model Evaluation with ROC"
   ]
  },
  {
   "cell_type": "code",
   "execution_count": 58,
   "metadata": {},
   "outputs": [
    {
     "data": {
      "image/png": "[encoded data removed]",
      "text/plain": [
       "<Figure size 432x288 with 1 Axes>"
      ]
     },
     "metadata": {
      "needs_background": "light"
     },
     "output_type": "display_data"
    }
   ],
   "source": [
    "# https://towardsdatascience.com/building-a-logistic-regression-in-python-step-by-step-becd4d56c9c8\n",
    "# https://stackoverflow.com/questions/25009284/how-to-plot-roc-curve-in-python\n",
    "\n",
    "preds = knn.predict_proba(X_test)[:,1]\n",
    "fpr, tpr, threshold = metrics.roc_curve(y_test, preds)\n",
    "roc_auc = metrics.auc(fpr, tpr)\n",
    "\n",
    "# method I: plt\n",
    "import matplotlib.pyplot as plt\n",
    "plt.title('Receiver Operating Characteristic')\n",
    "plt.plot(fpr, tpr, 'b', label = 'AUC = %0.2f' % roc_auc)\n",
    "plt.legend(loc = 'lower right')\n",
    "plt.plot([0, 1], [0, 1],'r--')\n",
    "plt.xlim([0, 1])\n",
    "plt.ylim([0, 1.05])\n",
    "plt.ylabel('True Positive Rate')\n",
    "plt.xlabel('False Positive Rate')\n",
    "plt.show()"
   ]
  },
  {
   "cell_type": "markdown",
   "metadata": {
    "colab_type": "text",
    "id": "xYJU74J9bz5Y"
   },
   "source": [
    "### Appendix 4. Who are my neighbors? Determining Neighbors in KNN "
   ]
  },
  {
   "cell_type": "markdown",
   "metadata": {
    "colab_type": "text",
    "id": "WTV12I9Ubz5Z"
   },
   "source": [
    "The most popular measure is the Euclidean distance\n",
    "\n",
    "<img src=\"https://dataaspirant.files.wordpress.com/2015/04/euclidean.png\">\n",
    "\n",
    "What is the distance between two data points (5, 5) and (2, 3)?\n",
    "\n",
    "distance = $\\sqrt{(5-2)^2}$+$\\sqrt{(5-3)^2}$ = $\\sqrt{13}$ = 3.6"
   ]
  },
  {
   "cell_type": "code",
   "execution_count": 59,
   "metadata": {
    "colab": {},
    "colab_type": "code",
    "id": "IpMl35pobz5Z"
   },
   "outputs": [
    {
     "data": {
      "text/plain": [
       "array([[3.60555128]])"
      ]
     },
     "execution_count": 59,
     "metadata": {},
     "output_type": "execute_result"
    }
   ],
   "source": [
    "from sklearn.metrics.pairwise import euclidean_distances\n",
    "\n",
    "p1 = [[2, 3]]\n",
    "p2 = [[5, 5]]\n",
    "\n",
    "euclidean_distances(p1, p2)"
   ]
  },
  {
   "cell_type": "code",
   "execution_count": 60,
   "metadata": {
    "colab": {},
    "colab_type": "code",
    "id": "os1DMiNubz5c"
   },
   "outputs": [
    {
     "name": "stdout",
     "output_type": "stream",
     "text": [
      "[[3.60555128]]\n",
      "[[7.07106781]]\n",
      "[[3.60555128]]\n"
     ]
    }
   ],
   "source": [
    "# let's suppose there are three observations (0,0), (2,3), (5,5)\n",
    "\n",
    "p1 = [[0, 0]]\n",
    "p2 = [[2, 3]]\n",
    "p3 = [[5, 5]]\n",
    "\n",
    "print(euclidean_distances(p1, p2))\n",
    "print(euclidean_distances(p1, p3))\n",
    "print(euclidean_distances(p2, p3))"
   ]
  },
  {
   "cell_type": "markdown",
   "metadata": {},
   "source": [
    "<hr>"
   ]
  },
  {
   "cell_type": "markdown",
   "metadata": {
    "colab_type": "text",
    "id": "Y-AQuJRUbz5d"
   },
   "source": [
    "# Logistic Regression (Scikit Python package) & Logit (statsmodels Python package)"
   ]
  },
  {
   "cell_type": "code",
   "execution_count": 61,
   "metadata": {
    "colab": {},
    "colab_type": "code",
    "id": "gm1MTS9ibz5o"
   },
   "outputs": [
    {
     "data": {
      "text/html": [
       "<div>\n",
       "<style scoped>\n",
       "    .dataframe tbody tr th:only-of-type {\n",
       "        vertical-align: middle;\n",
       "    }\n",
       "\n",
       "    .dataframe tbody tr th {\n",
       "        vertical-align: top;\n",
       "    }\n",
       "\n",
       "    .dataframe thead th {\n",
       "        text-align: right;\n",
       "    }\n",
       "</style>\n",
       "<table border=\"1\" class=\"dataframe\">\n",
       "  <thead>\n",
       "    <tr style=\"text-align: right;\">\n",
       "      <th></th>\n",
       "      <th>Age</th>\n",
       "      <th>Cholesterol</th>\n",
       "      <th>Trait_Anxiety</th>\n",
       "      <th>2nd_Heart_Attack</th>\n",
       "      <th>Marital_Status_1</th>\n",
       "      <th>Marital_Status_2</th>\n",
       "      <th>Marital_Status_3</th>\n",
       "      <th>Gender_1</th>\n",
       "      <th>Weight_Category_1</th>\n",
       "      <th>Weight_Category_2</th>\n",
       "      <th>Stress_Management_1</th>\n",
       "    </tr>\n",
       "  </thead>\n",
       "  <tbody>\n",
       "    <tr>\n",
       "      <th>Age</th>\n",
       "      <td>1.000000</td>\n",
       "      <td>0.395331</td>\n",
       "      <td>0.667169</td>\n",
       "      <td>0.499182</td>\n",
       "      <td>-0.466092</td>\n",
       "      <td>0.196552</td>\n",
       "      <td>0.336010</td>\n",
       "      <td>0.076195</td>\n",
       "      <td>0.340887</td>\n",
       "      <td>0.159133</td>\n",
       "      <td>-0.359295</td>\n",
       "    </tr>\n",
       "    <tr>\n",
       "      <th>Cholesterol</th>\n",
       "      <td>0.395331</td>\n",
       "      <td>1.000000</td>\n",
       "      <td>0.579485</td>\n",
       "      <td>0.506531</td>\n",
       "      <td>-0.065453</td>\n",
       "      <td>0.104248</td>\n",
       "      <td>0.135366</td>\n",
       "      <td>0.191354</td>\n",
       "      <td>0.104245</td>\n",
       "      <td>0.289266</td>\n",
       "      <td>-0.405735</td>\n",
       "    </tr>\n",
       "    <tr>\n",
       "      <th>Trait_Anxiety</th>\n",
       "      <td>0.667169</td>\n",
       "      <td>0.579485</td>\n",
       "      <td>1.000000</td>\n",
       "      <td>0.482548</td>\n",
       "      <td>-0.136640</td>\n",
       "      <td>0.024721</td>\n",
       "      <td>0.208677</td>\n",
       "      <td>0.082007</td>\n",
       "      <td>0.083823</td>\n",
       "      <td>0.391489</td>\n",
       "      <td>-0.321362</td>\n",
       "    </tr>\n",
       "    <tr>\n",
       "      <th>2nd_Heart_Attack</th>\n",
       "      <td>0.499182</td>\n",
       "      <td>0.506531</td>\n",
       "      <td>0.482548</td>\n",
       "      <td>1.000000</td>\n",
       "      <td>-0.441389</td>\n",
       "      <td>0.602321</td>\n",
       "      <td>-0.069830</td>\n",
       "      <td>0.317746</td>\n",
       "      <td>0.144626</td>\n",
       "      <td>0.558125</td>\n",
       "      <td>-0.439473</td>\n",
       "    </tr>\n",
       "    <tr>\n",
       "      <th>Marital_Status_1</th>\n",
       "      <td>-0.466092</td>\n",
       "      <td>-0.065453</td>\n",
       "      <td>-0.136640</td>\n",
       "      <td>-0.441389</td>\n",
       "      <td>1.000000</td>\n",
       "      <td>-0.622918</td>\n",
       "      <td>-0.345857</td>\n",
       "      <td>-0.253841</td>\n",
       "      <td>-0.295528</td>\n",
       "      <td>-0.058252</td>\n",
       "      <td>0.179056</td>\n",
       "    </tr>\n",
       "    <tr>\n",
       "      <th>Marital_Status_2</th>\n",
       "      <td>0.196552</td>\n",
       "      <td>0.104248</td>\n",
       "      <td>0.024721</td>\n",
       "      <td>0.602321</td>\n",
       "      <td>-0.622918</td>\n",
       "      <td>1.000000</td>\n",
       "      <td>-0.379176</td>\n",
       "      <td>0.368523</td>\n",
       "      <td>0.026062</td>\n",
       "      <td>0.298377</td>\n",
       "      <td>-0.260109</td>\n",
       "    </tr>\n",
       "    <tr>\n",
       "      <th>Marital_Status_3</th>\n",
       "      <td>0.336010</td>\n",
       "      <td>0.135366</td>\n",
       "      <td>0.208677</td>\n",
       "      <td>-0.069830</td>\n",
       "      <td>-0.345857</td>\n",
       "      <td>-0.379176</td>\n",
       "      <td>1.000000</td>\n",
       "      <td>-0.234997</td>\n",
       "      <td>0.158687</td>\n",
       "      <td>-0.223525</td>\n",
       "      <td>-0.061928</td>\n",
       "    </tr>\n",
       "    <tr>\n",
       "      <th>Gender_1</th>\n",
       "      <td>0.076195</td>\n",
       "      <td>0.191354</td>\n",
       "      <td>0.082007</td>\n",
       "      <td>0.317746</td>\n",
       "      <td>-0.253841</td>\n",
       "      <td>0.368523</td>\n",
       "      <td>-0.234997</td>\n",
       "      <td>1.000000</td>\n",
       "      <td>0.196746</td>\n",
       "      <td>0.281433</td>\n",
       "      <td>-0.241320</td>\n",
       "    </tr>\n",
       "    <tr>\n",
       "      <th>Weight_Category_1</th>\n",
       "      <td>0.340887</td>\n",
       "      <td>0.104245</td>\n",
       "      <td>0.083823</td>\n",
       "      <td>0.144626</td>\n",
       "      <td>-0.295528</td>\n",
       "      <td>0.026062</td>\n",
       "      <td>0.158687</td>\n",
       "      <td>0.196746</td>\n",
       "      <td>1.000000</td>\n",
       "      <td>-0.489002</td>\n",
       "      <td>-0.035432</td>\n",
       "    </tr>\n",
       "    <tr>\n",
       "      <th>Weight_Category_2</th>\n",
       "      <td>0.159133</td>\n",
       "      <td>0.289266</td>\n",
       "      <td>0.391489</td>\n",
       "      <td>0.558125</td>\n",
       "      <td>-0.058252</td>\n",
       "      <td>0.298377</td>\n",
       "      <td>-0.223525</td>\n",
       "      <td>0.281433</td>\n",
       "      <td>-0.489002</td>\n",
       "      <td>1.000000</td>\n",
       "      <td>-0.284087</td>\n",
       "    </tr>\n",
       "    <tr>\n",
       "      <th>Stress_Management_1</th>\n",
       "      <td>-0.359295</td>\n",
       "      <td>-0.405735</td>\n",
       "      <td>-0.321362</td>\n",
       "      <td>-0.439473</td>\n",
       "      <td>0.179056</td>\n",
       "      <td>-0.260109</td>\n",
       "      <td>-0.061928</td>\n",
       "      <td>-0.241320</td>\n",
       "      <td>-0.035432</td>\n",
       "      <td>-0.284087</td>\n",
       "      <td>1.000000</td>\n",
       "    </tr>\n",
       "  </tbody>\n",
       "</table>\n",
       "</div>"
      ],
      "text/plain": [
       "                          Age  Cholesterol  Trait_Anxiety  2nd_Heart_Attack  \\\n",
       "Age                  1.000000     0.395331       0.667169          0.499182   \n",
       "Cholesterol          0.395331     1.000000       0.579485          0.506531   \n",
       "Trait_Anxiety        0.667169     0.579485       1.000000          0.482548   \n",
       "2nd_Heart_Attack     0.499182     0.506531       0.482548          1.000000   \n",
       "Marital_Status_1    -0.466092    -0.065453      -0.136640         -0.441389   \n",
       "Marital_Status_2     0.196552     0.104248       0.024721          0.602321   \n",
       "Marital_Status_3     0.336010     0.135366       0.208677         -0.069830   \n",
       "Gender_1             0.076195     0.191354       0.082007          0.317746   \n",
       "Weight_Category_1    0.340887     0.104245       0.083823          0.144626   \n",
       "Weight_Category_2    0.159133     0.289266       0.391489          0.558125   \n",
       "Stress_Management_1 -0.359295    -0.405735      -0.321362         -0.439473   \n",
       "\n",
       "                     Marital_Status_1  Marital_Status_2  Marital_Status_3  \\\n",
       "Age                         -0.466092          0.196552          0.336010   \n",
       "Cholesterol                 -0.065453          0.104248          0.135366   \n",
       "Trait_Anxiety               -0.136640          0.024721          0.208677   \n",
       "2nd_Heart_Attack            -0.441389          0.602321         -0.069830   \n",
       "Marital_Status_1             1.000000         -0.622918         -0.345857   \n",
       "Marital_Status_2            -0.622918          1.000000         -0.379176   \n",
       "Marital_Status_3            -0.345857         -0.379176          1.000000   \n",
       "Gender_1                    -0.253841          0.368523         -0.234997   \n",
       "Weight_Category_1           -0.295528          0.026062          0.158687   \n",
       "Weight_Category_2           -0.058252          0.298377         -0.223525   \n",
       "Stress_Management_1          0.179056         -0.260109         -0.061928   \n",
       "\n",
       "                     Gender_1  Weight_Category_1  Weight_Category_2  \\\n",
       "Age                  0.076195           0.340887           0.159133   \n",
       "Cholesterol          0.191354           0.104245           0.289266   \n",
       "Trait_Anxiety        0.082007           0.083823           0.391489   \n",
       "2nd_Heart_Attack     0.317746           0.144626           0.558125   \n",
       "Marital_Status_1    -0.253841          -0.295528          -0.058252   \n",
       "Marital_Status_2     0.368523           0.026062           0.298377   \n",
       "Marital_Status_3    -0.234997           0.158687          -0.223525   \n",
       "Gender_1             1.000000           0.196746           0.281433   \n",
       "Weight_Category_1    0.196746           1.000000          -0.489002   \n",
       "Weight_Category_2    0.281433          -0.489002           1.000000   \n",
       "Stress_Management_1 -0.241320          -0.035432          -0.284087   \n",
       "\n",
       "                     Stress_Management_1  \n",
       "Age                            -0.359295  \n",
       "Cholesterol                    -0.405735  \n",
       "Trait_Anxiety                  -0.321362  \n",
       "2nd_Heart_Attack               -0.439473  \n",
       "Marital_Status_1                0.179056  \n",
       "Marital_Status_2               -0.260109  \n",
       "Marital_Status_3               -0.061928  \n",
       "Gender_1                       -0.241320  \n",
       "Weight_Category_1              -0.035432  \n",
       "Weight_Category_2              -0.284087  \n",
       "Stress_Management_1             1.000000  "
      ]
     },
     "execution_count": 61,
     "metadata": {},
     "output_type": "execute_result"
    }
   ],
   "source": [
    "# correlation analysis\n",
    "df.corr()"
   ]
  },
  {
   "cell_type": "code",
   "execution_count": 62,
   "metadata": {
    "colab": {},
    "colab_type": "code",
    "id": "_lypU0sAbz5r"
   },
   "outputs": [
    {
     "data": {
      "text/html": [
       "<div>\n",
       "<style scoped>\n",
       "    .dataframe tbody tr th:only-of-type {\n",
       "        vertical-align: middle;\n",
       "    }\n",
       "\n",
       "    .dataframe tbody tr th {\n",
       "        vertical-align: top;\n",
       "    }\n",
       "\n",
       "    .dataframe thead th {\n",
       "        text-align: right;\n",
       "    }\n",
       "</style>\n",
       "<table border=\"1\" class=\"dataframe\">\n",
       "  <thead>\n",
       "    <tr style=\"text-align: right;\">\n",
       "      <th></th>\n",
       "      <th>2nd_Heart_Attack</th>\n",
       "    </tr>\n",
       "  </thead>\n",
       "  <tbody>\n",
       "    <tr>\n",
       "      <th>Marital_Status_2</th>\n",
       "      <td>0.602321</td>\n",
       "    </tr>\n",
       "    <tr>\n",
       "      <th>Weight_Category_2</th>\n",
       "      <td>0.558125</td>\n",
       "    </tr>\n",
       "    <tr>\n",
       "      <th>Cholesterol</th>\n",
       "      <td>0.506531</td>\n",
       "    </tr>\n",
       "    <tr>\n",
       "      <th>Age</th>\n",
       "      <td>0.499182</td>\n",
       "    </tr>\n",
       "    <tr>\n",
       "      <th>Trait_Anxiety</th>\n",
       "      <td>0.482548</td>\n",
       "    </tr>\n",
       "    <tr>\n",
       "      <th>Gender_1</th>\n",
       "      <td>0.317746</td>\n",
       "    </tr>\n",
       "    <tr>\n",
       "      <th>Weight_Category_1</th>\n",
       "      <td>0.144626</td>\n",
       "    </tr>\n",
       "    <tr>\n",
       "      <th>Marital_Status_3</th>\n",
       "      <td>-0.069830</td>\n",
       "    </tr>\n",
       "    <tr>\n",
       "      <th>Stress_Management_1</th>\n",
       "      <td>-0.439473</td>\n",
       "    </tr>\n",
       "    <tr>\n",
       "      <th>Marital_Status_1</th>\n",
       "      <td>-0.441389</td>\n",
       "    </tr>\n",
       "  </tbody>\n",
       "</table>\n",
       "</div>"
      ],
      "text/plain": [
       "                     2nd_Heart_Attack\n",
       "Marital_Status_2             0.602321\n",
       "Weight_Category_2            0.558125\n",
       "Cholesterol                  0.506531\n",
       "Age                          0.499182\n",
       "Trait_Anxiety                0.482548\n",
       "Gender_1                     0.317746\n",
       "Weight_Category_1            0.144626\n",
       "Marital_Status_3            -0.069830\n",
       "Stress_Management_1         -0.439473\n",
       "Marital_Status_1            -0.441389"
      ]
     },
     "execution_count": 62,
     "metadata": {},
     "output_type": "execute_result"
    }
   ],
   "source": [
    "corr = pd.DataFrame(df.corr()['2nd_Heart_Attack'].drop('2nd_Heart_Attack'))\n",
    "corr.sort_values(['2nd_Heart_Attack'], ascending = False)"
   ]
  },
  {
   "cell_type": "code",
   "execution_count": 63,
   "metadata": {
    "colab": {},
    "colab_type": "code",
    "id": "fHtehousbz5y"
   },
   "outputs": [
    {
     "data": {
      "text/plain": [
       "<seaborn.matrix.ClusterGrid at 0x12b022e96d0>"
      ]
     },
     "execution_count": 63,
     "metadata": {},
     "output_type": "execute_result"
    },
    {
     "data": {
      "image/png": "[encoded data removed]",
      "text/plain": [
       "<Figure size 720x720 with 4 Axes>"
      ]
     },
     "metadata": {
      "needs_background": "light"
     },
     "output_type": "display_data"
    }
   ],
   "source": [
    "sns.clustermap(data=df.corr(), annot=True, cmap='Greens')"
   ]
  },
  {
   "cell_type": "markdown",
   "metadata": {
    "colab_type": "text",
    "id": "MdhJ22qnbz50"
   },
   "source": [
    "## What is logistic regression?\n",
    "* Unlike linear regression, logistic regression is for **classification**\n",
    "* y value is categorical (e.g., yes/no, pass/fail, good credit/bad credit)\n",
    "<img src=\"images\\ppt\\slide24.gif\">\n",
    "<img src=\"images\\ppt\\slide25.gif\">"
   ]
  },
  {
   "cell_type": "markdown",
   "metadata": {
    "colab_type": "text",
    "id": "0GZqZ3yfbz50"
   },
   "source": [
    "### Logistic regression vs Linear regression\n",
    "<img src=\"http://www.saedsayad.com/images/LogReg_1.png\">\n",
    "\n",
    "In order to map predicted values to **probabilities**, we use the **sigmoid function**. The function maps any real value into another value **between 0 and 1**. In machine learning, we use sigmoid to map predictions to probabilities.\n",
    "\n",
    "- p = output between 0 and 1 (probability estimate)\n",
    "- z = input to the function (your algorithm’s prediction e.g. mx + b)\n",
    "- e = base of natural log\n",
    "- If p > 0.5, the model classifies the outcome as 1 or Yes. Otherwise 0 or No.\n",
    "\n",
    "\n",
    "https://ml-cheatsheet.readthedocs.io/en/latest/logistic_regression.html"
   ]
  },
  {
   "cell_type": "code",
   "execution_count": 80,
   "metadata": {
    "colab": {},
    "colab_type": "code",
    "id": "XVS2BMHgbz55"
   },
   "outputs": [
    {
     "data": {
      "text/plain": [
       "LogisticRegression(max_iter=500)"
      ]
     },
     "execution_count": 80,
     "metadata": {},
     "output_type": "execute_result"
    }
   ],
   "source": [
    "# evaluate the model by splitting into train and test sets and build a logistic regression model\n",
    "# name it as \"lr\"\n",
    "\n",
    "X_train, X_test, y_train, y_test = train_test_split(X, y, test_size=0.3, random_state=0)\n",
    "lr = LogisticRegression(solver='lbfgs', max_iter=500)\n",
    "lr.fit(X_train, y_train)"
   ]
  },
  {
   "cell_type": "code",
   "execution_count": 81,
   "metadata": {
    "colab": {},
    "colab_type": "code",
    "id": "tW7KP29mbz57"
   },
   "outputs": [
    {
     "data": {
      "text/html": [
       "<div>\n",
       "<style scoped>\n",
       "    .dataframe tbody tr th:only-of-type {\n",
       "        vertical-align: middle;\n",
       "    }\n",
       "\n",
       "    .dataframe tbody tr th {\n",
       "        vertical-align: top;\n",
       "    }\n",
       "\n",
       "    .dataframe thead th {\n",
       "        text-align: right;\n",
       "    }\n",
       "</style>\n",
       "<table border=\"1\" class=\"dataframe\">\n",
       "  <thead>\n",
       "    <tr style=\"text-align: right;\">\n",
       "      <th></th>\n",
       "      <th>X variables</th>\n",
       "      <th>coef</th>\n",
       "    </tr>\n",
       "  </thead>\n",
       "  <tbody>\n",
       "    <tr>\n",
       "      <th>4</th>\n",
       "      <td>Marital_Status_2</td>\n",
       "      <td>2.605288</td>\n",
       "    </tr>\n",
       "    <tr>\n",
       "      <th>8</th>\n",
       "      <td>Weight_Category_2</td>\n",
       "      <td>1.988436</td>\n",
       "    </tr>\n",
       "    <tr>\n",
       "      <th>7</th>\n",
       "      <td>Weight_Category_1</td>\n",
       "      <td>0.920260</td>\n",
       "    </tr>\n",
       "    <tr>\n",
       "      <th>6</th>\n",
       "      <td>Gender_1</td>\n",
       "      <td>0.098330</td>\n",
       "    </tr>\n",
       "    <tr>\n",
       "      <th>0</th>\n",
       "      <td>Age</td>\n",
       "      <td>0.089477</td>\n",
       "    </tr>\n",
       "    <tr>\n",
       "      <th>2</th>\n",
       "      <td>Trait_Anxiety</td>\n",
       "      <td>0.064038</td>\n",
       "    </tr>\n",
       "    <tr>\n",
       "      <th>1</th>\n",
       "      <td>Cholesterol</td>\n",
       "      <td>0.028286</td>\n",
       "    </tr>\n",
       "    <tr>\n",
       "      <th>9</th>\n",
       "      <td>Stress_Management_1</td>\n",
       "      <td>-0.136793</td>\n",
       "    </tr>\n",
       "    <tr>\n",
       "      <th>3</th>\n",
       "      <td>Marital_Status_1</td>\n",
       "      <td>-0.831470</td>\n",
       "    </tr>\n",
       "    <tr>\n",
       "      <th>5</th>\n",
       "      <td>Marital_Status_3</td>\n",
       "      <td>-0.849957</td>\n",
       "    </tr>\n",
       "  </tbody>\n",
       "</table>\n",
       "</div>"
      ],
      "text/plain": [
       "           X variables      coef\n",
       "4     Marital_Status_2  2.605288\n",
       "8    Weight_Category_2  1.988436\n",
       "7    Weight_Category_1  0.920260\n",
       "6             Gender_1  0.098330\n",
       "0                  Age  0.089477\n",
       "2        Trait_Anxiety  0.064038\n",
       "1          Cholesterol  0.028286\n",
       "9  Stress_Management_1 -0.136793\n",
       "3     Marital_Status_1 -0.831470\n",
       "5     Marital_Status_3 -0.849957"
      ]
     },
     "execution_count": 81,
     "metadata": {},
     "output_type": "execute_result"
    }
   ],
   "source": [
    "# print coefficients\n",
    "coef = pd.DataFrame(list(zip(X.columns, np.transpose(lr.coef_))), \n",
    "             columns=['X variables', 'coef']).sort_values('coef', ascending=False)\n",
    "\n",
    "coef['coef'] = coef['coef'].str[0]\n",
    "coef"
   ]
  },
  {
   "cell_type": "code",
   "execution_count": 66,
   "metadata": {
    "colab": {},
    "colab_type": "code",
    "id": "kNY4H9icbz57"
   },
   "outputs": [
    {
     "name": "stdout",
     "output_type": "stream",
     "text": [
      "0.9523809523809523\n",
      "[[18  1]\n",
      " [ 1 22]]\n",
      "              precision    recall  f1-score   support\n",
      "\n",
      "           0       0.95      0.95      0.95        19\n",
      "           1       0.96      0.96      0.96        23\n",
      "\n",
      "    accuracy                           0.95        42\n",
      "   macro avg       0.95      0.95      0.95        42\n",
      "weighted avg       0.95      0.95      0.95        42\n",
      "\n",
      "0.9519450800915333\n"
     ]
    }
   ],
   "source": [
    "#Model evaluation\n",
    "\n",
    "print(metrics.accuracy_score(y_test, lr.predict(X_test)))\n",
    "print(metrics.confusion_matrix(y_test, lr.predict(X_test)))\n",
    "print(metrics.classification_report(y_test, lr.predict(X_test)))\n",
    "print(metrics.roc_auc_score(y_test, lr.predict(X_test)))"
   ]
  },
  {
   "cell_type": "markdown",
   "metadata": {
    "colab_type": "text",
    "id": "jw0yzfgSbz58"
   },
   "source": [
    "> **95% model accuracy**\n",
    "- **0.95 AUC score; AUC = Area Under Curve**"
   ]
  },
  {
   "cell_type": "code",
   "execution_count": 83,
   "metadata": {},
   "outputs": [
    {
     "data": {
      "text/html": [
       "<div>\n",
       "<style scoped>\n",
       "    .dataframe tbody tr th:only-of-type {\n",
       "        vertical-align: middle;\n",
       "    }\n",
       "\n",
       "    .dataframe tbody tr th {\n",
       "        vertical-align: top;\n",
       "    }\n",
       "\n",
       "    .dataframe thead th {\n",
       "        text-align: right;\n",
       "    }\n",
       "</style>\n",
       "<table border=\"1\" class=\"dataframe\">\n",
       "  <thead>\n",
       "    <tr style=\"text-align: right;\">\n",
       "      <th></th>\n",
       "      <th>Age</th>\n",
       "      <th>Cholesterol</th>\n",
       "      <th>Trait_Anxiety</th>\n",
       "      <th>Marital_Status_1</th>\n",
       "      <th>Marital_Status_2</th>\n",
       "      <th>Marital_Status_3</th>\n",
       "      <th>Gender_1</th>\n",
       "      <th>Weight_Category_1</th>\n",
       "      <th>Weight_Category_2</th>\n",
       "      <th>Stress_Management_1</th>\n",
       "    </tr>\n",
       "  </thead>\n",
       "  <tbody>\n",
       "    <tr>\n",
       "      <th>8</th>\n",
       "      <td>60</td>\n",
       "      <td>139</td>\n",
       "      <td>45</td>\n",
       "      <td>0</td>\n",
       "      <td>1</td>\n",
       "      <td>0</td>\n",
       "      <td>0</td>\n",
       "      <td>0</td>\n",
       "      <td>0</td>\n",
       "      <td>0</td>\n",
       "    </tr>\n",
       "    <tr>\n",
       "      <th>68</th>\n",
       "      <td>61</td>\n",
       "      <td>239</td>\n",
       "      <td>80</td>\n",
       "      <td>0</td>\n",
       "      <td>1</td>\n",
       "      <td>0</td>\n",
       "      <td>1</td>\n",
       "      <td>0</td>\n",
       "      <td>1</td>\n",
       "      <td>1</td>\n",
       "    </tr>\n",
       "    <tr>\n",
       "      <th>27</th>\n",
       "      <td>60</td>\n",
       "      <td>140</td>\n",
       "      <td>45</td>\n",
       "      <td>0</td>\n",
       "      <td>1</td>\n",
       "      <td>0</td>\n",
       "      <td>1</td>\n",
       "      <td>0</td>\n",
       "      <td>0</td>\n",
       "      <td>0</td>\n",
       "    </tr>\n",
       "    <tr>\n",
       "      <th>118</th>\n",
       "      <td>58</td>\n",
       "      <td>169</td>\n",
       "      <td>50</td>\n",
       "      <td>1</td>\n",
       "      <td>0</td>\n",
       "      <td>0</td>\n",
       "      <td>1</td>\n",
       "      <td>1</td>\n",
       "      <td>0</td>\n",
       "      <td>1</td>\n",
       "    </tr>\n",
       "    <tr>\n",
       "      <th>24</th>\n",
       "      <td>75</td>\n",
       "      <td>178</td>\n",
       "      <td>75</td>\n",
       "      <td>1</td>\n",
       "      <td>0</td>\n",
       "      <td>0</td>\n",
       "      <td>0</td>\n",
       "      <td>0</td>\n",
       "      <td>1</td>\n",
       "      <td>0</td>\n",
       "    </tr>\n",
       "  </tbody>\n",
       "</table>\n",
       "</div>"
      ],
      "text/plain": [
       "     Age  Cholesterol  Trait_Anxiety  Marital_Status_1  Marital_Status_2  \\\n",
       "8     60          139             45                 0                 1   \n",
       "68    61          239             80                 0                 1   \n",
       "27    60          140             45                 0                 1   \n",
       "118   58          169             50                 1                 0   \n",
       "24    75          178             75                 1                 0   \n",
       "\n",
       "     Marital_Status_3  Gender_1  Weight_Category_1  Weight_Category_2  \\\n",
       "8                   0         0                  0                  0   \n",
       "68                  0         1                  0                  1   \n",
       "27                  0         1                  0                  0   \n",
       "118                 0         1                  1                  0   \n",
       "24                  0         0                  0                  1   \n",
       "\n",
       "     Stress_Management_1  \n",
       "8                      0  \n",
       "68                     1  \n",
       "27                     0  \n",
       "118                    1  \n",
       "24                     0  "
      ]
     },
     "execution_count": 83,
     "metadata": {},
     "output_type": "execute_result"
    }
   ],
   "source": [
    "X_test.head()"
   ]
  },
  {
   "cell_type": "code",
   "execution_count": 67,
   "metadata": {
    "colab": {},
    "colab_type": "code",
    "id": "WVgCXrvibz58"
   },
   "outputs": [
    {
     "name": "stdout",
     "output_type": "stream",
     "text": [
      "[[0.70386015 0.29613985]\n",
      " [0.00193902 0.99806098]\n",
      " [0.67680606 0.32319394]\n",
      " [0.91915292 0.08084708]\n",
      " [0.11381224 0.88618776]\n",
      " [0.9953106  0.0046894 ]\n",
      " [0.0693413  0.9306587 ]\n",
      " [0.30149075 0.69850925]\n",
      " [0.00371407 0.99628593]\n",
      " [0.98736636 0.01263364]\n",
      " [0.00655882 0.99344118]\n",
      " [0.25393248 0.74606752]\n",
      " [0.00856107 0.99143893]\n",
      " [0.98659246 0.01340754]\n",
      " [0.72168034 0.27831966]\n",
      " [0.06837019 0.93162981]\n",
      " [0.11911813 0.88088187]\n",
      " [0.00809401 0.99190599]\n",
      " [0.80719197 0.19280803]\n",
      " [0.27034174 0.72965826]\n",
      " [0.00319625 0.99680375]\n",
      " [0.98838226 0.01161774]\n",
      " [0.86664739 0.13335261]\n",
      " [0.76704861 0.23295139]\n",
      " [0.32787179 0.67212821]\n",
      " [0.17967569 0.82032431]\n",
      " [0.13043808 0.86956192]\n",
      " [0.67781563 0.32218437]\n",
      " [0.72871851 0.27128149]\n",
      " [0.00737248 0.99262752]\n",
      " [0.92129405 0.07870595]\n",
      " [0.99188169 0.00811831]\n",
      " [0.15479193 0.84520807]\n",
      " [0.92399989 0.07600011]\n",
      " [0.06807655 0.93192345]\n",
      " [0.91481799 0.08518201]\n",
      " [0.00707695 0.99292305]\n",
      " [0.12013129 0.87986871]\n",
      " [0.28258033 0.71741967]\n",
      " [0.99544079 0.00455921]\n",
      " [0.17899588 0.82100412]\n",
      " [0.85885652 0.14114348]]\n"
     ]
    }
   ],
   "source": [
    "# generate class probabilities\n",
    "probs = lr.predict_proba(X_test)\n",
    "print(probs)\n",
    "#1st column: probability of NOT having 2nd heart attack\n",
    "#2nd column: probabiility of having 2nd heart attack"
   ]
  },
  {
   "cell_type": "markdown",
   "metadata": {
    "colab_type": "text",
    "id": "E3ImtE8ybz59"
   },
   "source": [
    "- 1st patient: 29% chance having 2nd heart attack\n",
    "- 2nd patient: **99%** chance having 2nd heart attack (this person needs attention)\n",
    "- You would export this probability information as Excel file and do additional analysis"
   ]
  },
  {
   "cell_type": "markdown",
   "metadata": {
    "colab_type": "text",
    "id": "QlxD0tVabz59"
   },
   "source": [
    "### Modely Deployment : Make Predictions on the new data"
   ]
  },
  {
   "cell_type": "code",
   "execution_count": 68,
   "metadata": {
    "colab": {},
    "colab_type": "code",
    "id": "LjWicODpbz6B"
   },
   "outputs": [
    {
     "data": {
      "text/html": [
       "<div>\n",
       "<style scoped>\n",
       "    .dataframe tbody tr th:only-of-type {\n",
       "        vertical-align: middle;\n",
       "    }\n",
       "\n",
       "    .dataframe tbody tr th {\n",
       "        vertical-align: top;\n",
       "    }\n",
       "\n",
       "    .dataframe thead th {\n",
       "        text-align: right;\n",
       "    }\n",
       "</style>\n",
       "<table border=\"1\" class=\"dataframe\">\n",
       "  <thead>\n",
       "    <tr style=\"text-align: right;\">\n",
       "      <th></th>\n",
       "      <th>Predicted 2nd Heart Attack</th>\n",
       "    </tr>\n",
       "  </thead>\n",
       "  <tbody>\n",
       "    <tr>\n",
       "      <th>0</th>\n",
       "      <td>0</td>\n",
       "    </tr>\n",
       "    <tr>\n",
       "      <th>1</th>\n",
       "      <td>1</td>\n",
       "    </tr>\n",
       "    <tr>\n",
       "      <th>2</th>\n",
       "      <td>0</td>\n",
       "    </tr>\n",
       "    <tr>\n",
       "      <th>3</th>\n",
       "      <td>1</td>\n",
       "    </tr>\n",
       "    <tr>\n",
       "      <th>4</th>\n",
       "      <td>1</td>\n",
       "    </tr>\n",
       "    <tr>\n",
       "      <th>...</th>\n",
       "      <td>...</td>\n",
       "    </tr>\n",
       "    <tr>\n",
       "      <th>685</th>\n",
       "      <td>1</td>\n",
       "    </tr>\n",
       "    <tr>\n",
       "      <th>686</th>\n",
       "      <td>1</td>\n",
       "    </tr>\n",
       "    <tr>\n",
       "      <th>687</th>\n",
       "      <td>0</td>\n",
       "    </tr>\n",
       "    <tr>\n",
       "      <th>688</th>\n",
       "      <td>0</td>\n",
       "    </tr>\n",
       "    <tr>\n",
       "      <th>689</th>\n",
       "      <td>0</td>\n",
       "    </tr>\n",
       "  </tbody>\n",
       "</table>\n",
       "<p>690 rows × 1 columns</p>\n",
       "</div>"
      ],
      "text/plain": [
       "     Predicted 2nd Heart Attack\n",
       "0                             0\n",
       "1                             1\n",
       "2                             0\n",
       "3                             1\n",
       "4                             1\n",
       "..                          ...\n",
       "685                           1\n",
       "686                           1\n",
       "687                           0\n",
       "688                           0\n",
       "689                           0\n",
       "\n",
       "[690 rows x 1 columns]"
      ]
     },
     "execution_count": 68,
     "metadata": {},
     "output_type": "execute_result"
    }
   ],
   "source": [
    "output_scoring = lr.predict(score)\n",
    "predicted_y= pd.DataFrame(output_scoring, columns=['Predicted 2nd Heart Attack'])\n",
    "predicted_y"
   ]
  },
  {
   "cell_type": "code",
   "execution_count": 69,
   "metadata": {
    "colab": {},
    "colab_type": "code",
    "id": "9fUhrC-Fbz6C"
   },
   "outputs": [
    {
     "data": {
      "text/html": [
       "<div>\n",
       "<style scoped>\n",
       "    .dataframe tbody tr th:only-of-type {\n",
       "        vertical-align: middle;\n",
       "    }\n",
       "\n",
       "    .dataframe tbody tr th {\n",
       "        vertical-align: top;\n",
       "    }\n",
       "\n",
       "    .dataframe thead th {\n",
       "        text-align: right;\n",
       "    }\n",
       "</style>\n",
       "<table border=\"1\" class=\"dataframe\">\n",
       "  <thead>\n",
       "    <tr style=\"text-align: right;\">\n",
       "      <th></th>\n",
       "      <th>prob of NO</th>\n",
       "      <th>prob of YES</th>\n",
       "    </tr>\n",
       "  </thead>\n",
       "  <tbody>\n",
       "    <tr>\n",
       "      <th>0</th>\n",
       "      <td>0.898400</td>\n",
       "      <td>0.101600</td>\n",
       "    </tr>\n",
       "    <tr>\n",
       "      <th>1</th>\n",
       "      <td>0.243735</td>\n",
       "      <td>0.756265</td>\n",
       "    </tr>\n",
       "    <tr>\n",
       "      <th>2</th>\n",
       "      <td>0.911850</td>\n",
       "      <td>0.088150</td>\n",
       "    </tr>\n",
       "    <tr>\n",
       "      <th>3</th>\n",
       "      <td>0.249475</td>\n",
       "      <td>0.750525</td>\n",
       "    </tr>\n",
       "    <tr>\n",
       "      <th>4</th>\n",
       "      <td>0.316530</td>\n",
       "      <td>0.683470</td>\n",
       "    </tr>\n",
       "    <tr>\n",
       "      <th>...</th>\n",
       "      <td>...</td>\n",
       "      <td>...</td>\n",
       "    </tr>\n",
       "    <tr>\n",
       "      <th>685</th>\n",
       "      <td>0.006377</td>\n",
       "      <td>0.993623</td>\n",
       "    </tr>\n",
       "    <tr>\n",
       "      <th>686</th>\n",
       "      <td>0.127307</td>\n",
       "      <td>0.872693</td>\n",
       "    </tr>\n",
       "    <tr>\n",
       "      <th>687</th>\n",
       "      <td>0.912249</td>\n",
       "      <td>0.087751</td>\n",
       "    </tr>\n",
       "    <tr>\n",
       "      <th>688</th>\n",
       "      <td>0.890801</td>\n",
       "      <td>0.109199</td>\n",
       "    </tr>\n",
       "    <tr>\n",
       "      <th>689</th>\n",
       "      <td>0.685085</td>\n",
       "      <td>0.314915</td>\n",
       "    </tr>\n",
       "  </tbody>\n",
       "</table>\n",
       "<p>690 rows × 2 columns</p>\n",
       "</div>"
      ],
      "text/plain": [
       "     prob of NO  prob of YES\n",
       "0      0.898400     0.101600\n",
       "1      0.243735     0.756265\n",
       "2      0.911850     0.088150\n",
       "3      0.249475     0.750525\n",
       "4      0.316530     0.683470\n",
       "..          ...          ...\n",
       "685    0.006377     0.993623\n",
       "686    0.127307     0.872693\n",
       "687    0.912249     0.087751\n",
       "688    0.890801     0.109199\n",
       "689    0.685085     0.314915\n",
       "\n",
       "[690 rows x 2 columns]"
      ]
     },
     "execution_count": 69,
     "metadata": {},
     "output_type": "execute_result"
    }
   ],
   "source": [
    "probs = lr.predict_proba(score)\n",
    "probs = pd.DataFrame(probs, columns=['prob of NO', 'prob of YES'])\n",
    "probs"
   ]
  },
  {
   "cell_type": "code",
   "execution_count": 70,
   "metadata": {
    "colab": {},
    "colab_type": "code",
    "id": "w21jNQsEbz6D"
   },
   "outputs": [
    {
     "data": {
      "text/html": [
       "<div>\n",
       "<style scoped>\n",
       "    .dataframe tbody tr th:only-of-type {\n",
       "        vertical-align: middle;\n",
       "    }\n",
       "\n",
       "    .dataframe tbody tr th {\n",
       "        vertical-align: top;\n",
       "    }\n",
       "\n",
       "    .dataframe thead th {\n",
       "        text-align: right;\n",
       "    }\n",
       "</style>\n",
       "<table border=\"1\" class=\"dataframe\">\n",
       "  <thead>\n",
       "    <tr style=\"text-align: right;\">\n",
       "      <th></th>\n",
       "      <th>Predicted 2nd Heart Attack</th>\n",
       "      <th>prob of NO</th>\n",
       "      <th>prob of YES</th>\n",
       "    </tr>\n",
       "  </thead>\n",
       "  <tbody>\n",
       "    <tr>\n",
       "      <th>0</th>\n",
       "      <td>0</td>\n",
       "      <td>0.898400</td>\n",
       "      <td>0.101600</td>\n",
       "    </tr>\n",
       "    <tr>\n",
       "      <th>1</th>\n",
       "      <td>1</td>\n",
       "      <td>0.243735</td>\n",
       "      <td>0.756265</td>\n",
       "    </tr>\n",
       "    <tr>\n",
       "      <th>2</th>\n",
       "      <td>0</td>\n",
       "      <td>0.911850</td>\n",
       "      <td>0.088150</td>\n",
       "    </tr>\n",
       "    <tr>\n",
       "      <th>3</th>\n",
       "      <td>1</td>\n",
       "      <td>0.249475</td>\n",
       "      <td>0.750525</td>\n",
       "    </tr>\n",
       "    <tr>\n",
       "      <th>4</th>\n",
       "      <td>1</td>\n",
       "      <td>0.316530</td>\n",
       "      <td>0.683470</td>\n",
       "    </tr>\n",
       "    <tr>\n",
       "      <th>...</th>\n",
       "      <td>...</td>\n",
       "      <td>...</td>\n",
       "      <td>...</td>\n",
       "    </tr>\n",
       "    <tr>\n",
       "      <th>685</th>\n",
       "      <td>1</td>\n",
       "      <td>0.006377</td>\n",
       "      <td>0.993623</td>\n",
       "    </tr>\n",
       "    <tr>\n",
       "      <th>686</th>\n",
       "      <td>1</td>\n",
       "      <td>0.127307</td>\n",
       "      <td>0.872693</td>\n",
       "    </tr>\n",
       "    <tr>\n",
       "      <th>687</th>\n",
       "      <td>0</td>\n",
       "      <td>0.912249</td>\n",
       "      <td>0.087751</td>\n",
       "    </tr>\n",
       "    <tr>\n",
       "      <th>688</th>\n",
       "      <td>0</td>\n",
       "      <td>0.890801</td>\n",
       "      <td>0.109199</td>\n",
       "    </tr>\n",
       "    <tr>\n",
       "      <th>689</th>\n",
       "      <td>0</td>\n",
       "      <td>0.685085</td>\n",
       "      <td>0.314915</td>\n",
       "    </tr>\n",
       "  </tbody>\n",
       "</table>\n",
       "<p>690 rows × 3 columns</p>\n",
       "</div>"
      ],
      "text/plain": [
       "     Predicted 2nd Heart Attack  prob of NO  prob of YES\n",
       "0                             0    0.898400     0.101600\n",
       "1                             1    0.243735     0.756265\n",
       "2                             0    0.911850     0.088150\n",
       "3                             1    0.249475     0.750525\n",
       "4                             1    0.316530     0.683470\n",
       "..                          ...         ...          ...\n",
       "685                           1    0.006377     0.993623\n",
       "686                           1    0.127307     0.872693\n",
       "687                           0    0.912249     0.087751\n",
       "688                           0    0.890801     0.109199\n",
       "689                           0    0.685085     0.314915\n",
       "\n",
       "[690 rows x 3 columns]"
      ]
     },
     "execution_count": 70,
     "metadata": {},
     "output_type": "execute_result"
    }
   ],
   "source": [
    "risky_patients = predicted_y.join(probs)\n",
    "risky_patients"
   ]
  },
  {
   "cell_type": "code",
   "execution_count": 71,
   "metadata": {
    "colab": {},
    "colab_type": "code",
    "id": "-3p-MZwObz6E"
   },
   "outputs": [],
   "source": [
    "risky_patients.to_csv(\"data/output_heartattack_LogisticRegression_ModelDeployment.csv\")"
   ]
  },
  {
   "cell_type": "markdown",
   "metadata": {
    "colab_type": "text",
    "id": "0_v99j5Qbz6F"
   },
   "source": [
    "### Appendix 1: 10 fold cross validation"
   ]
  },
  {
   "cell_type": "code",
   "execution_count": 72,
   "metadata": {
    "colab": {},
    "colab_type": "code",
    "id": "DyYzaVNHbz6F"
   },
   "outputs": [
    {
     "name": "stdout",
     "output_type": "stream",
     "text": [
      "[0.92857143 0.92857143 1.         1.         0.85714286 1.\n",
      " 1.         0.92857143 1.         1.        ]\n",
      "0.9642857142857142\n"
     ]
    }
   ],
   "source": [
    "# evaluate the logit model using 10-fold cross-validation\n",
    "\n",
    "scores = cross_val_score(LogisticRegression(solver='lbfgs', max_iter=500), X, y, scoring='accuracy', cv=10)\n",
    "print(scores)\n",
    "print(scores.mean())"
   ]
  },
  {
   "cell_type": "markdown",
   "metadata": {
    "colab_type": "text",
    "id": "ulmrUav5bz6G"
   },
   "source": [
    "### Appendix 2: Model Evaluation with ROC "
   ]
  },
  {
   "cell_type": "code",
   "execution_count": 73,
   "metadata": {},
   "outputs": [
    {
     "data": {
      "image/png": "[encoded data removed]",
      "text/plain": [
       "<Figure size 432x288 with 1 Axes>"
      ]
     },
     "metadata": {
      "needs_background": "light"
     },
     "output_type": "display_data"
    }
   ],
   "source": [
    "preds = lr.predict_proba(X_test)[:,1]\n",
    "fpr, tpr, threshold = metrics.roc_curve(y_test, preds)\n",
    "roc_auc = metrics.auc(fpr, tpr)\n",
    "\n",
    "# method I: plt\n",
    "import matplotlib.pyplot as plt\n",
    "plt.title('Receiver Operating Characteristic')\n",
    "plt.plot(fpr, tpr, 'b', label = 'AUC = %0.2f' % roc_auc)\n",
    "plt.legend(loc = 'lower right')\n",
    "plt.plot([0, 1], [0, 1],'r--')\n",
    "plt.xlim([0, 1])\n",
    "plt.ylim([0, 1.05])\n",
    "plt.ylabel('True Positive Rate')\n",
    "plt.xlabel('False Positive Rate')\n",
    "plt.show()"
   ]
  },
  {
   "cell_type": "markdown",
   "metadata": {
    "colab_type": "text",
    "id": "SDZOKlqsbz6H"
   },
   "source": [
    "### Appendix 3. Logit with Statsmodels\n",
    "\n",
    "One key advantage of logit function is that **p-values** are calculated.\n",
    "\n",
    "In Python, \n",
    "- sklearn (machine learning package) is used for logistic regression; \n",
    "- Statsmodels for Logit function."
   ]
  },
  {
   "cell_type": "markdown",
   "metadata": {
    "colab_type": "text",
    "id": "hXP0gfLcbz6H"
   },
   "source": [
    "## Logit\n",
    "<img src=\"images\\ppt\\slide26.gif\">"
   ]
  },
  {
   "cell_type": "code",
   "execution_count": 74,
   "metadata": {
    "colab": {},
    "colab_type": "code",
    "id": "-bO12CEFbz6K"
   },
   "outputs": [
    {
     "name": "stdout",
     "output_type": "stream",
     "text": [
      "Optimization terminated successfully.\n",
      "         Current function value: 0.105020\n",
      "         Iterations: 118\n",
      "         Function evaluations: 124\n",
      "         Gradient evaluations: 124\n"
     ]
    }
   ],
   "source": [
    "# we use statsmodels for logit function\n",
    "logit = sm.Logit(y, X) \n",
    "model_logit = logit.fit(method='bfgs', maxiter=1000)"
   ]
  },
  {
   "cell_type": "code",
   "execution_count": 75,
   "metadata": {
    "colab": {},
    "colab_type": "code",
    "id": "hUdHtVMtbz6L"
   },
   "outputs": [
    {
     "name": "stdout",
     "output_type": "stream",
     "text": [
      "[9.99102996e-01 9.99999966e-01 5.04558471e-25 9.99999992e-01\n",
      " 9.02686433e-01 5.04558471e-25 2.12783466e-01 1.51119934e-01\n",
      " 9.44371251e-02 4.19956010e-24 1.89192434e-20 8.70329013e-01\n",
      " 1.00000000e+00 1.00000000e+00 1.00000000e+00 9.19913955e-01\n",
      " 2.28843376e-01 3.96097829e-20 1.06933872e-19 2.85684233e-02\n",
      " 6.90017674e-24 9.99003519e-01 9.99999991e-01 1.77312722e-25\n",
      " 7.16227131e-01 7.69942260e-01 9.99567680e-01 9.10101590e-02\n",
      " 8.07492560e-25 1.17230798e-07 1.00000000e+00 9.99578904e-01\n",
      " 2.64040749e-16 2.62407820e-24 1.00000000e+00 9.99999987e-01\n",
      " 5.84726556e-22 1.00000000e+00 1.00000000e+00 9.99999959e-01\n",
      " 1.99615842e-18 1.04156386e-19 4.09457751e-13 9.25586724e-01\n",
      " 9.99999973e-01 2.48998447e-13 2.80284935e-01 2.93079155e-02\n",
      " 9.99532180e-01 4.31154763e-24 9.43029074e-01 1.00000000e+00\n",
      " 2.08408492e-01 2.93079155e-02 7.69942260e-01 9.99999974e-01\n",
      " 8.35566134e-01 5.01027392e-17 1.80442545e-02 9.33303777e-18\n",
      " 2.42487084e-24 1.69123168e-15 8.09799447e-01 6.55293899e-13\n",
      " 2.17225079e-01 9.99424379e-01 9.99578904e-01 7.82563738e-02\n",
      " 1.00000000e+00 3.31419886e-02 1.00000000e+00 9.99999965e-01\n",
      " 7.26802034e-01 1.00000000e+00 1.07561749e-23 1.00000000e+00\n",
      " 1.00000000e+00 1.00000000e+00 1.00000000e+00 8.69312268e-01\n",
      " 5.56645907e-17 1.00000000e+00 5.28056207e-10 9.99999967e-01\n",
      " 9.99999984e-01 2.34255334e-16 9.99999988e-01 1.71349230e-02\n",
      " 1.86895426e-25 9.99722620e-01 5.88775781e-02 1.00000000e+00\n",
      " 3.90120585e-27 2.91024316e-01 6.39448249e-01 1.00000000e+00\n",
      " 9.00350015e-01 8.17416917e-20 3.98822553e-13 6.54638345e-24\n",
      " 1.00000000e+00 9.99999990e-01 8.23223738e-17 1.46359989e-09\n",
      " 9.99999987e-01 2.80284935e-01 5.35777118e-17 1.00000000e+00\n",
      " 1.00000000e+00 9.98934480e-01 9.99999993e-01 5.07263347e-15\n",
      " 1.00000000e+00 7.55660545e-01 9.52137632e-01 3.56520833e-20\n",
      " 6.54638345e-24 4.49497525e-02 2.46915449e-16 1.82041031e-25\n",
      " 4.94087761e-15 1.71349230e-02 1.00000000e+00 9.99999960e-01\n",
      " 8.06065033e-01 8.80577370e-01 4.78688206e-25 8.14574396e-16\n",
      " 9.98447524e-01 1.00000000e+00 2.46915449e-16 2.30085356e-12\n",
      " 8.66293251e-01 1.68221354e-25 3.45708608e-18 2.42530996e-13\n",
      " 9.99999957e-01 3.39045554e-11]\n"
     ]
    }
   ],
   "source": [
    "print(model_logit.predict())\n",
    "#0.99 refers the probability of having 2nd heart attack is 99%. \n",
    "#This probability is almost same as that of the logistic regression model"
   ]
  },
  {
   "cell_type": "code",
   "execution_count": 76,
   "metadata": {
    "colab": {},
    "colab_type": "code",
    "id": "obeJH-wDbz6N"
   },
   "outputs": [
    {
     "name": "stdout",
     "output_type": "stream",
     "text": [
      "0.99910\n",
      "1.00000\n",
      "0.00000\n",
      "1.00000\n",
      "0.90269\n",
      "0.00000\n",
      "0.21278\n",
      "0.15112\n",
      "0.09444\n",
      "0.00000\n",
      "0.00000\n",
      "0.87033\n",
      "1.00000\n",
      "1.00000\n",
      "1.00000\n",
      "0.91991\n",
      "0.22884\n",
      "0.00000\n",
      "0.00000\n",
      "0.02857\n",
      "0.00000\n",
      "0.99900\n",
      "1.00000\n",
      "0.00000\n",
      "0.71623\n",
      "0.76994\n",
      "0.99957\n",
      "0.09101\n",
      "0.00000\n",
      "0.00000\n",
      "1.00000\n",
      "0.99958\n",
      "0.00000\n",
      "0.00000\n",
      "1.00000\n",
      "1.00000\n",
      "0.00000\n",
      "1.00000\n",
      "1.00000\n",
      "1.00000\n",
      "0.00000\n",
      "0.00000\n",
      "0.00000\n",
      "0.92559\n",
      "1.00000\n",
      "0.00000\n",
      "0.28028\n",
      "0.02931\n",
      "0.99953\n",
      "0.00000\n",
      "0.94303\n",
      "1.00000\n",
      "0.20841\n",
      "0.02931\n",
      "0.76994\n",
      "1.00000\n",
      "0.83557\n",
      "0.00000\n",
      "0.01804\n",
      "0.00000\n",
      "0.00000\n",
      "0.00000\n",
      "0.80980\n",
      "0.00000\n",
      "0.21723\n",
      "0.99942\n",
      "0.99958\n",
      "0.07826\n",
      "1.00000\n",
      "0.03314\n",
      "1.00000\n",
      "1.00000\n",
      "0.72680\n",
      "1.00000\n",
      "0.00000\n",
      "1.00000\n",
      "1.00000\n",
      "1.00000\n",
      "1.00000\n",
      "0.86931\n",
      "0.00000\n",
      "1.00000\n",
      "0.00000\n",
      "1.00000\n",
      "1.00000\n",
      "0.00000\n",
      "1.00000\n",
      "0.01713\n",
      "0.00000\n",
      "0.99972\n",
      "0.05888\n",
      "1.00000\n",
      "0.00000\n",
      "0.29102\n",
      "0.63945\n",
      "1.00000\n",
      "0.90035\n",
      "0.00000\n",
      "0.00000\n",
      "0.00000\n",
      "1.00000\n",
      "1.00000\n",
      "0.00000\n",
      "0.00000\n",
      "1.00000\n",
      "0.28028\n",
      "0.00000\n",
      "1.00000\n",
      "1.00000\n",
      "0.99893\n",
      "1.00000\n",
      "0.00000\n",
      "1.00000\n",
      "0.75566\n",
      "0.95214\n",
      "0.00000\n",
      "0.00000\n",
      "0.04495\n",
      "0.00000\n",
      "0.00000\n",
      "0.00000\n",
      "0.01713\n",
      "1.00000\n",
      "1.00000\n",
      "0.80607\n",
      "0.88058\n",
      "0.00000\n",
      "0.00000\n",
      "0.99845\n",
      "1.00000\n",
      "0.00000\n",
      "0.00000\n",
      "0.86629\n",
      "0.00000\n",
      "0.00000\n",
      "0.00000\n",
      "1.00000\n",
      "0.00000\n"
     ]
    }
   ],
   "source": [
    "for i in model_logit.predict():\n",
    "    print(\"%.5f\" % i)"
   ]
  },
  {
   "cell_type": "code",
   "execution_count": 77,
   "metadata": {
    "colab": {},
    "colab_type": "code",
    "id": "-t2J2IwMbz6O"
   },
   "outputs": [
    {
     "name": "stdout",
     "output_type": "stream",
     "text": [
      "                           Logit Regression Results                           \n",
      "==============================================================================\n",
      "Dep. Variable:       2nd_Heart_Attack   No. Observations:                  138\n",
      "Model:                          Logit   Df Residuals:                      128\n",
      "Method:                           MLE   Df Model:                            9\n",
      "Date:                Sun, 28 Mar 2021   Pseudo R-squ.:                  0.8485\n",
      "Time:                        02:53:35   Log-Likelihood:                -14.493\n",
      "converged:                       True   LL-Null:                       -95.640\n",
      "Covariance Type:            nonrobust   LLR p-value:                 2.477e-30\n",
      "=======================================================================================\n",
      "                          coef    std err          z      P>|z|      [0.025      0.975]\n",
      "---------------------------------------------------------------------------------------\n",
      "Age                    -0.4966      0.192     -2.586      0.010      -0.873      -0.120\n",
      "Cholesterol             0.0263      0.042      0.625      0.532      -0.056       0.109\n",
      "Trait_Anxiety           0.3379      0.172      1.964      0.050       0.001       0.675\n",
      "Marital_Status_1      -35.7097   2.24e+04     -0.002      0.999    -4.4e+04    4.39e+04\n",
      "Marital_Status_2        8.6695      3.571      2.428      0.015       1.670      15.669\n",
      "Marital_Status_3       -9.3321   1437.972     -0.006      0.995   -2827.705    2809.041\n",
      "Gender_1               -0.0671      1.409     -0.048      0.962      -2.828       2.694\n",
      "Weight_Category_1      18.1181   1437.969      0.013      0.990   -2800.250    2836.486\n",
      "Weight_Category_2      43.8505   2.24e+04      0.002      0.998   -4.39e+04     4.4e+04\n",
      "Stress_Management_1   -10.8209   1437.972     -0.008      0.994   -2829.194    2807.552\n",
      "=======================================================================================\n",
      "\n",
      "Possibly complete quasi-separation: A fraction 0.64 of observations can be\n",
      "perfectly predicted. This might indicate that there is complete\n",
      "quasi-separation. In this case some parameters will not be identified.\n"
     ]
    }
   ],
   "source": [
    "from scipy import stats \n",
    "stats.chisqprob = lambda chisq, df: stats.chi2.sf(chisq, df)\n",
    "\n",
    "print(model_logit.summary())\n",
    "## the results show that some variables are significant (p value < 0.05): Weight_Category, Marital status, stress management, ..."
   ]
  },
  {
   "cell_type": "markdown",
   "metadata": {
    "colab_type": "text",
    "id": "DdElXvBhbz6Q"
   },
   "source": [
    "> Some predictors have a low p-value (less than 0.05): Trait_Anxiety, Marital_Status, Weight_Category\n",
    "\n",
    "- For example, Weight_2 (obese) has a high positive coefficient (14.57), meaning an increase of Weight_Category increases the chance for 2nd heart attack\n",
    "- For example, Marital_2 (divorced) has a high positive coefficient (14.02), meaning that those divorced are more likey to experience 2nd heart attack when compared to those single. This might have to do with age. "
   ]
  },
  {
   "cell_type": "code",
   "execution_count": 78,
   "metadata": {
    "colab": {},
    "colab_type": "code",
    "id": "2CqsVMDDbz6Q"
   },
   "outputs": [
    {
     "data": {
      "text/plain": [
       "array([[67.,  3.],\n",
       "       [ 2., 66.]])"
      ]
     },
     "execution_count": 78,
     "metadata": {},
     "output_type": "execute_result"
    }
   ],
   "source": [
    "#http://statsmodels.sourceforge.net/devel/examples/notebooks/generated/discrete_choice_example.html\n",
    "model_logit.pred_table()"
   ]
  },
  {
   "cell_type": "markdown",
   "metadata": {
    "colab_type": "text",
    "id": "wL-QHWXibz6R"
   },
   "source": [
    "The model accuracy is (67 + 66) / 138 = 0.96"
   ]
  },
  {
   "cell_type": "code",
   "execution_count": 84,
   "metadata": {
    "colab": {},
    "colab_type": "code",
    "id": "TaMaIGQ1bz6R"
   },
   "outputs": [
    {
     "name": "stdout",
     "output_type": "stream",
     "text": [
      "                                0             1\n",
      "Age                     -0.872995     -0.120140\n",
      "Cholesterol             -0.056160      0.108795\n",
      "Trait_Anxiety            0.000687      0.675130\n",
      "Marital_Status_1    -44008.608437  43937.189068\n",
      "Marital_Status_2         1.669974     15.668939\n",
      "Marital_Status_3     -2827.704919   2809.040703\n",
      "Gender_1                -2.827723      2.693608\n",
      "Weight_Category_1    -2800.250002   2836.486102\n",
      "Weight_Category_2   -43929.048580  44016.749534\n",
      "Stress_Management_1  -2829.193962   2807.552151\n"
     ]
    }
   ],
   "source": [
    "# look at the confidence interval of each coeffecient\n",
    "print(model_logit.conf_int())"
   ]
  },
  {
   "cell_type": "markdown",
   "metadata": {
    "colab_type": "text",
    "id": "b7-zTNNMbz6S"
   },
   "source": [
    "> higher martial status, higher weight category, lower stress management (meaning NO stress mgt) ==> higher 2nd heart attack risk"
   ]
  },
  {
   "cell_type": "code",
   "execution_count": 85,
   "metadata": {
    "colab": {},
    "colab_type": "code",
    "id": "aVasXONabz6S"
   },
   "outputs": [
    {
     "name": "stdout",
     "output_type": "stream",
     "text": [
      "Age                    6.086163e-01\n",
      "Cholesterol            1.026666e+00\n",
      "Trait_Anxiety          1.402012e+00\n",
      "Marital_Status_1       3.100853e-16\n",
      "Marital_Status_2       5.822333e+03\n",
      "Marital_Status_3       8.853543e-05\n",
      "Gender_1               9.351415e-01\n",
      "Weight_Category_1      7.388719e+07\n",
      "Weight_Category_2      1.106675e+19\n",
      "Stress_Management_1    1.997747e-05\n",
      "dtype: float64\n"
     ]
    }
   ],
   "source": [
    "# odds ratios only\n",
    "print(np.exp(model_logit.params))\n",
    "## Take the exponential of each of the coefficients to generate the odds ratios."
   ]
  },
  {
   "cell_type": "code",
   "execution_count": 87,
   "metadata": {
    "colab": {},
    "colab_type": "code",
    "id": "KlLHUHzZbz6T"
   },
   "outputs": [
    {
     "name": "stdout",
     "output_type": "stream",
     "text": [
      "0.00000\n"
     ]
    }
   ],
   "source": [
    "# for i in np.exp(model_logit.params):\n",
    "print(\"%.5f\" % i)"
   ]
  },
  {
   "cell_type": "markdown",
   "metadata": {
    "colab_type": "text",
    "id": "xyzLRx6tbz6T"
   },
   "source": [
    "> **Odd rations** show how a 1 unit increase or decrease in a variable affects the odds of having 2nd heart attack\n",
    "- For example, we can expect the odds of having 2nd heart attack to **increase significantly if the marital status is divorced**."
   ]
  },
  {
   "cell_type": "markdown",
   "metadata": {},
   "source": [
    "<hr>"
   ]
  },
  {
   "cell_type": "markdown",
   "metadata": {},
   "source": [
    "# Compare Algorithms \n",
    "\n",
    "- Which models works best for this dataset? (Decision Tree, Logistic Regression, K-nearest neighbors) \n",
    "- using ROC Curve"
   ]
  },
  {
   "cell_type": "code",
   "execution_count": 79,
   "metadata": {},
   "outputs": [
    {
     "data": {
      "image/png": "[encoded data removed]",
      "text/plain": [
       "<Figure size 432x288 with 1 Axes>"
      ]
     },
     "metadata": {
      "needs_background": "light"
     },
     "output_type": "display_data"
    }
   ],
   "source": [
    "#https://stackoverflow.com/questions/42894871/how-to-plot-multiple-roc-curves-in-one-plot-with-legend-and-auc-scores-in-python\n",
    "\n",
    "plt.figure()\n",
    "\n",
    "# Add the models to the list that you want to view on the ROC plot\n",
    "models = [\n",
    "{\n",
    "    'label': 'Decision Tree',\n",
    "    'model': DecisionTreeClassifier(),\n",
    "},\n",
    "{\n",
    "    'label': 'K-nearest neighbors',\n",
    "    'model': KNeighborsClassifier(),\n",
    "},\n",
    "{\n",
    "    'label': 'Logistic Regression',\n",
    "    'model': LogisticRegression(solver='lbfgs', max_iter=500),\n",
    "},\n",
    "{\n",
    "    'label': 'Random Forest',\n",
    "    'model': RandomForestClassifier(n_estimators=100),\n",
    "}\n",
    "]\n",
    "\n",
    "# Below for loop iterates through your models list\n",
    "for m in models:\n",
    "    model = m['model'] # select the model\n",
    "    model.fit(X_train, y_train) # train the model\n",
    "    #y_pred=model.predict(X_test) # predict the test data\n",
    "    \n",
    "    # Compute False postive rate, and True positive rate\n",
    "    fpr, tpr, thresholds = metrics.roc_curve(y_test, model.predict_proba(X_test)[:,1])\n",
    "\n",
    "    # Calculate Area under the curve to display on the plot\n",
    "    auc = metrics.roc_auc_score(y_test,model.predict(X_test))\n",
    "\n",
    "    # Now, plot the computed values\n",
    "    plt.plot(fpr, tpr, label='%s ROC (area = %0.2f)' % (m['label'], auc))\n",
    "\n",
    "# Custom settings for the plot \n",
    "plt.plot([0, 1], [0, 1],'r--')\n",
    "plt.xlim([0.0, 1.0])\n",
    "plt.ylim([0.0, 1.05])\n",
    "plt.xlabel('1-Specificity(False Positive Rate)')\n",
    "plt.ylabel('Sensitivity(True Positive Rate)')\n",
    "plt.title('Receiver Operating Characteristic')\n",
    "plt.legend(loc=\"lower right\")\n",
    "plt.show()   # Display"
   ]
  },
  {
   "cell_type": "markdown",
   "metadata": {
    "colab_type": "text",
    "id": "SDZRg9NIbz6T"
   },
   "source": [
    "# References\n",
    "- http://blog.yhat.com/posts/logistic-regression-and-python.html (anothere example of using sklearn for logistic regression)"
   ]
  }
 ],
 "metadata": {
  "colab": {
   "collapsed_sections": [
    "ccQ2Nt1kbz3N",
    "h_EGKYc3bz3T",
    "5FdJbi61bz3U",
    "Me4BZcxtbz3U",
    "GikUvYuhbz3d",
    "KiUO2OsEbz3e",
    "IzllVn9Kbz3f",
    "Mg53a6rnbz3g",
    "exiIr8libz3j",
    "debqMFxobz33",
    "g_1MVqIFbz34",
    "_jI54Ejrbz3-",
    "rpTQ5rgObz4C",
    "hec9r9SUbz4C",
    "XQdthr7xbz4D",
    "S9mP8hpCbz4M",
    "1FvluXO5bz4a",
    "VcbzrZjMbz4h",
    "ZyGXMmk0bz4m",
    "ilgp6WpUbz4t",
    "m3hT3pUFbz40",
    "hqtShkJ3bz42",
    "NdVLUb3Bbz44",
    "KukF7JOYbz45",
    "u5ECRzaUbz46",
    "DnBRuKOgbz47",
    "xgQ0uK9ebz48",
    "bzNu0aK-bz4_",
    "wB3_V0blbz5B",
    "0La6kVIubz5D",
    "D_gbg22Obz5D",
    "m8m8L_hrbz5I",
    "2VBn5NtYbz5I",
    "mZmTmlacbz5N",
    "4mYaEyP9bz5P",
    "M9vJN5SDbz5X",
    "rACCUPTwbz5Y",
    "xYJU74J9bz5Y",
    "FixVURZfbz5e",
    "QOFshGEkbz5f",
    "2VezrCVKbz5g",
    "6_Va1HHrbz5j",
    "4aTULrNlbz5k",
    "lTq08a9Obz5z",
    "MdhJ22qnbz50",
    "0GZqZ3yfbz50",
    "QlxD0tVabz59",
    "2OhYNTJebz5-",
    "0_v99j5Qbz6F",
    "ulmrUav5bz6G",
    "SDZOKlqsbz6H",
    "hXP0gfLcbz6H",
    "SDZRg9NIbz6T"
   ],
   "name": "Lab_Classification_HealthAnalytics.ipynb",
   "provenance": [],
   "version": "0.3.2"
  },
  "hide_input": false,
  "kernelspec": {
   "display_name": "Python 3",
   "language": "python",
   "name": "python3"
  },
  "language_info": {
   "codemirror_mode": {
    "name": "ipython",
    "version": 3
   },
   "file_extension": ".py",
   "mimetype": "text/x-python",
   "name": "python",
   "nbconvert_exporter": "python",
   "pygments_lexer": "ipython3",
   "version": "3.8.5"
  },
  "toc": {
   "base_numbering": 1,
   "nav_menu": {},
   "number_sections": false,
   "sideBar": true,
   "skip_h1_title": false,
   "title_cell": "Table of Contents",
   "title_sidebar": "Contents",
   "toc_cell": true,
   "toc_position": {
    "height": "calc(100% - 180px)",
    "left": "10px",
    "top": "150px",
    "width": "252.797px"
   },
   "toc_section_display": true,
   "toc_window_display": false
  },
  "varInspector": {
   "cols": {
    "lenName": 16,
    "lenType": 16,
    "lenVar": 40
   },
   "kernels_config": {
    "python": {
     "delete_cmd_postfix": "",
     "delete_cmd_prefix": "del ",
     "library": "var_list.py",
     "varRefreshCmd": "print(var_dic_list())"
    },
    "r": {
     "delete_cmd_postfix": ") ",
     "delete_cmd_prefix": "rm(",
     "library": "var_list.r",
     "varRefreshCmd": "cat(var_dic_list()) "
    }
   },
   "types_to_exclude": [
    "module",
    "function",
    "builtin_function_or_method",
    "instance",
    "_Feature"
   ],
   "window_display": false
  }
 },
 "nbformat": 4,
 "nbformat_minor": 1
}
